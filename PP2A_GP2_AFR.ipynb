{
 "cells": [
  {
   "cell_type": "markdown",
   "metadata": {},
   "source": [
    "# PP2A - Single gene analysis in GP2 data"
   ]
  },
  {
   "cell_type": "markdown",
   "metadata": {},
   "source": [
    "## Description\n",
    "\n",
    "Using \"individual level data\""
   ]
  },
  {
   "cell_type": "markdown",
   "metadata": {},
   "source": [
    "### 0. Getting Started\n",
    "\n",
    "- Loading Python libraries\n",
    "- Defining functions\n",
    "- Installing packages\n",
    "\n",
    "### 1. Copy data from workspace to cloud environment\n",
    "\n",
    "### 2. Extract PP2A\n",
    "\n",
    "### 3. Annotate PP2A variants\n",
    "\n",
    "### 4. Extract coding/non-syn variants\n",
    "\n",
    "### 5. Calculate frequency in cases versus controls\n",
    "\n",
    "### 6. Calculate frequency (homozygotes) in cases versus controls\n",
    "\n",
    "### 7. Save out results"
   ]
  },
  {
   "cell_type": "markdown",
   "metadata": {},
   "source": [
    "## Getting Started"
   ]
  },
  {
   "cell_type": "markdown",
   "metadata": {},
   "source": [
    "### Loading Python libraries"
   ]
  },
  {
   "cell_type": "markdown",
   "metadata": {},
   "source": [
    "### Defining functions"
   ]
  },
  {
   "cell_type": "code",
   "execution_count": 1,
   "metadata": {
    "code_folding": [],
    "collapsed": true
   },
   "outputs": [],
   "source": [
    "# Use the os package to interact with the environment\n",
    "import os\n",
    "\n",
    "# Bring in Pandas for Dataframe functionality\n",
    "import pandas as pd\n",
    "\n",
    "# Numpy for basics\n",
    "import numpy as np\n",
    "\n",
    "# Use StringIO for working with file contents\n",
    "from io import StringIO\n",
    "\n",
    "# Enable IPython to display matplotlib graphs\n",
    "import matplotlib.pyplot as plt\n",
    "%matplotlib inline\n",
    "\n",
    "# Enable interaction with the FireCloud API\n",
    "from firecloud import api as fapi\n",
    "\n",
    "# Import the iPython HTML rendering for displaying links to Google Cloud Console\n",
    "from IPython.core.display import display, HTML\n",
    "\n",
    "# Import urllib modules for building URLs to Google Cloud Console\n",
    "import urllib.parse\n",
    "\n",
    "# BigQuery for querying data\n",
    "from google.cloud import bigquery\n",
    "\n",
    "#Import Sys\n",
    "import sys as sys"
   ]
  },
  {
   "cell_type": "code",
   "execution_count": 2,
   "metadata": {
    "code_folding": [
     0
    ],
    "collapsed": true
   },
   "outputs": [],
   "source": [
    "# Utility routine for printing a shell command before executing it\n",
    "def shell_do(command):\n",
    "    print(f'Executing: {command}', file=sys.stderr)\n",
    "    !$command\n",
    "    \n",
    "def shell_return(command):\n",
    "    print(f'Executing: {command}', file=sys.stderr)\n",
    "    output = !$command\n",
    "    return '\\n'.join(output)\n",
    "\n",
    "# Utility routine for printing a query before executing it\n",
    "def bq_query(query):\n",
    "    print(f'Executing: {query}', file=sys.stderr)\n",
    "    return pd.read_gbq(query, project_id=BILLING_PROJECT_ID, dialect='standard')\n",
    "\n",
    "# Utility routine for display a message and a link\n",
    "def display_html_link(description, link_text, url):\n",
    "    html = f'''\n",
    "    <p>\n",
    "    </p>\n",
    "    <p>\n",
    "    {description}\n",
    "    <a target=_blank href=\"{url}\">{link_text}</a>.\n",
    "    </p>\n",
    "    '''\n",
    "\n",
    "    display(HTML(html))\n",
    "\n",
    "# Utility routines for reading files from Google Cloud Storage\n",
    "def gcs_read_file(path):\n",
    "    \"\"\"Return the contents of a file in GCS\"\"\"\n",
    "    contents = !gsutil -u {BILLING_PROJECT_ID} cat {path}\n",
    "    return '\\n'.join(contents)\n",
    "    \n",
    "def gcs_read_csv(path, sep=None):\n",
    "    \"\"\"Return a DataFrame from the contents of a delimited file in GCS\"\"\"\n",
    "    return pd.read_csv(StringIO(gcs_read_file(path)), sep=sep, engine='python')\n",
    "\n",
    "# Utility routine for displaying a message and link to Cloud Console\n",
    "def link_to_cloud_console_gcs(description, link_text, gcs_path):\n",
    "    url = '{}?{}'.format(\n",
    "        os.path.join('https://console.cloud.google.com/storage/browser',\n",
    "                     gcs_path.replace(\"gs://\",\"\")),\n",
    "        urllib.parse.urlencode({'userProject': BILLING_PROJECT_ID}))\n",
    "\n",
    "    display_html_link(description, link_text, url)"
   ]
  },
  {
   "cell_type": "markdown",
   "metadata": {},
   "source": [
    "### Set paths"
   ]
  },
  {
   "cell_type": "code",
   "execution_count": 3,
   "metadata": {
    "code_folding": [
     0
    ],
    "collapsed": true
   },
   "outputs": [
    {
     "name": "stdout",
     "output_type": "stream",
     "text": [
      "Billing and Workspace\n",
      "Workspace Name: PP2A\n",
      "Billing Project: terra-02e7cd23\n",
      "Workspace Bucket, where you can upload and download data: gs://fc-a2382a6f-59cf-4cf3-b70e-8cd83806d5e0\n",
      "\n",
      "GP2 v3.0\n",
      "Path to GP2 v3.0 Clinical Data: gs://gp2tier2/release3_31102022/clinical_data\n",
      "Path to GP2 v3.0 Raw Genotype Data: gs://gp2tier2/release3_31102022/raw_genotypes\n",
      "Path to GP2 v3.0 Imputed Genotype Data: gs://gp2tier2/release3_31102022/imputed_genotypes\n",
      "AMP-PD v3.0\n",
      "Path to AMP-PD v3.0 Clinical Data: gs://amp-pd-data/releases/2022_v3release_1115/clinical\n",
      "Path to AMP-PD v3.0 WGS Data: gs://amp-pd-genomics/releases/2022_v3release_1115/wgs-WB-DWGS/plink\n",
      "Path to AMP-PD v3.0 WGS Data: gs://amp-pd-genomics/releases/2022_v3release_1115/wgs-WB-DWGS/plink/pfiles\n",
      "\n"
     ]
    }
   ],
   "source": [
    "# Set up billing project and data path variables\n",
    "BILLING_PROJECT_ID = os.environ['GOOGLE_PROJECT']\n",
    "WORKSPACE_NAMESPACE = os.environ['WORKSPACE_NAMESPACE']\n",
    "WORKSPACE_NAME = os.environ['WORKSPACE_NAME']\n",
    "WORKSPACE_BUCKET = os.environ['WORKSPACE_BUCKET']\n",
    "\n",
    "WORKSPACE_ATTRIBUTES = fapi.get_workspace(WORKSPACE_NAMESPACE, WORKSPACE_NAME).json().get('workspace',{}).get('attributes',{})\n",
    "\n",
    "## Print the information to check we are in the proper release and billing \n",
    "## This will be different for you, the user, depending on the billing project your workspace is on\n",
    "print('Billing and Workspace')\n",
    "print(f'Workspace Name: {WORKSPACE_NAME}')\n",
    "print(f'Billing Project: {BILLING_PROJECT_ID}')\n",
    "print(f'Workspace Bucket, where you can upload and download data: {WORKSPACE_BUCKET}')\n",
    "print('')\n",
    "\n",
    "\n",
    "## GP2 v3.0\n",
    "## Explicitly define release v3.0 path \n",
    "GP2_RELEASE_PATH = 'gs://gp2tier2/release3_31102022'\n",
    "GP2_CLINICAL_RELEASE_PATH = f'{GP2_RELEASE_PATH}/clinical_data'\n",
    "GP2_RAW_GENO_PATH = f'{GP2_RELEASE_PATH}/raw_genotypes'\n",
    "GP2_IMPUTED_GENO_PATH = f'{GP2_RELEASE_PATH}/imputed_genotypes'\n",
    "print('GP2 v3.0')\n",
    "print(f'Path to GP2 v3.0 Clinical Data: {GP2_CLINICAL_RELEASE_PATH}')\n",
    "print(f'Path to GP2 v3.0 Raw Genotype Data: {GP2_RAW_GENO_PATH}')\n",
    "print(f'Path to GP2 v3.0 Imputed Genotype Data: {GP2_IMPUTED_GENO_PATH}')\n",
    "\n",
    "\n",
    "## AMP-PD v3.0\n",
    "## Explicitly define release v3.0 path \n",
    "AMP_RELEASE_PATH = 'gs://amp-pd-data/releases/2022_v3release_1115'\n",
    "AMP_CLINICAL_RELEASE_PATH = f'{AMP_RELEASE_PATH}/clinical'\n",
    "\n",
    "AMP_WGS_RELEASE_PATH = 'gs://amp-pd-genomics/releases/2022_v3release_1115/wgs-WB-DWGS'\n",
    "AMP_WGS_RELEASE_PLINK_PATH = os.path.join(AMP_WGS_RELEASE_PATH, 'plink')\n",
    "AMP_WGS_RELEASE_PLINK_PFILES = os.path.join(AMP_WGS_RELEASE_PLINK_PATH, 'pfiles')\n",
    "\n",
    "print('AMP-PD v3.0')\n",
    "print(f'Path to AMP-PD v3.0 Clinical Data: {AMP_CLINICAL_RELEASE_PATH}')\n",
    "print(f'Path to AMP-PD v3.0 WGS Data: {AMP_WGS_RELEASE_PLINK_PATH}')\n",
    "print(f'Path to AMP-PD v3.0 WGS Data: {AMP_WGS_RELEASE_PLINK_PFILES}')\n",
    "print('')"
   ]
  },
  {
   "cell_type": "markdown",
   "metadata": {},
   "source": [
    "### Install packages"
   ]
  },
  {
   "cell_type": "markdown",
   "metadata": {},
   "source": [
    "#### Install Plink 1.9 and Plink 2.0"
   ]
  },
  {
   "cell_type": "code",
   "execution_count": 4,
   "metadata": {
    "collapsed": true
   },
   "outputs": [
    {
     "name": "stdout",
     "output_type": "stream",
     "text": [
      "Plink1.9 is already installed in /home/jupyter/tools/\n",
      "Plink2 is already installed in /home/jupyter/tools/\n"
     ]
    }
   ],
   "source": [
    "%%bash\n",
    "\n",
    "mkdir -p ~/tools\n",
    "cd ~/tools\n",
    "\n",
    "if test -e /home/jupyter/tools/plink; then\n",
    "echo \"Plink1.9 is already installed in /home/jupyter/tools/\"\n",
    "\n",
    "else\n",
    "echo -e \"Downloading plink \\n    -------\"\n",
    "wget -N http://s3.amazonaws.com/plink1-assets/plink_linux_x86_64_20190304.zip \n",
    "unzip -o plink_linux_x86_64_20190304.zip\n",
    "echo -e \"\\n plink downloaded and unzipped in /home/jupyter/tools \\n \"\n",
    "\n",
    "fi\n",
    "\n",
    "\n",
    "if test -e /home/jupyter/tools/plink2; then\n",
    "echo \"Plink2 is already installed in /home/jupyter/tools/\"\n",
    "\n",
    "else\n",
    "echo -e \"Downloading plink2 \\n    -------\"\n",
    "wget -N https://s3.amazonaws.com/plink2-assets/alpha3/plink2_linux_avx2_20220603.zip\n",
    "unzip -o plink2_linux_avx2_20220603.zip\n",
    "echo -e \"\\n plink2 downloaded and unzipped in /home/jupyter/tools \\n \"\n",
    "\n",
    "fi"
   ]
  },
  {
   "cell_type": "code",
   "execution_count": 5,
   "metadata": {
    "collapsed": true
   },
   "outputs": [
    {
     "name": "stdout",
     "output_type": "stream",
     "text": [
      "annovar\n",
      "annovar.latest.tar.gz\n",
      "LICENSE\n",
      "plink\n",
      "plink2\n",
      "plink2_linux_avx2_20220603.zip\n",
      "plink_linux_x86_64_20190304.zip\n",
      "prettify\n",
      "toy.map\n",
      "toy.ped\n"
     ]
    }
   ],
   "source": [
    "%%bash\n",
    "ls /home/jupyter/tools/"
   ]
  },
  {
   "cell_type": "markdown",
   "metadata": {},
   "source": [
    "#### Remote restrictions"
   ]
  },
  {
   "cell_type": "code",
   "execution_count": 6,
   "metadata": {
    "collapsed": true
   },
   "outputs": [],
   "source": [
    "%%bash\n",
    "\n",
    "# chmod plink 1.9 \n",
    "chmod u+x /home/jupyter/tools/plink"
   ]
  },
  {
   "cell_type": "code",
   "execution_count": 7,
   "metadata": {
    "collapsed": true
   },
   "outputs": [],
   "source": [
    "%%bash\n",
    "\n",
    "# chmod plink 2.0\n",
    "chmod u+x /home/jupyter/tools/plink2"
   ]
  },
  {
   "cell_type": "markdown",
   "metadata": {},
   "source": [
    "### Install ANNOVAR"
   ]
  },
  {
   "cell_type": "code",
   "execution_count": 8,
   "metadata": {
    "collapsed": true
   },
   "outputs": [
    {
     "name": "stdout",
     "output_type": "stream",
     "text": [
      "annovar is already installed in /home/jupyter/tools/\n"
     ]
    }
   ],
   "source": [
    "%%bash\n",
    "\n",
    "# Install ANNOVAR:\n",
    "# https://www.openbioinformatics.org/annovar/annovar_download_form.php\n",
    "\n",
    "if test -e /home/jupyter/tools/annovar; then\n",
    "\n",
    "echo \"annovar is already installed in /home/jupyter/tools/\"\n",
    "else\n",
    "echo \"annovar is not installed\"\n",
    "cd /home/jupyter/tools/\n",
    "\n",
    "wget http://www.openbioinformatics.org/annovar/download/0wgxR2rIVP/annovar.latest.tar.gz\n",
    "\n",
    "tar xvfz annovar.latest.tar.gz\n",
    "\n",
    "fi"
   ]
  },
  {
   "cell_type": "code",
   "execution_count": 9,
   "metadata": {
    "collapsed": true
   },
   "outputs": [
    {
     "name": "stdout",
     "output_type": "stream",
     "text": [
      "annovar\n",
      "annovar.latest.tar.gz\n",
      "LICENSE\n",
      "plink\n",
      "plink2\n",
      "plink2_linux_avx2_20220603.zip\n",
      "plink_linux_x86_64_20190304.zip\n",
      "prettify\n",
      "toy.map\n",
      "toy.ped\n"
     ]
    }
   ],
   "source": [
    "%%bash\n",
    "ls /home/jupyter/tools/"
   ]
  },
  {
   "cell_type": "markdown",
   "metadata": {},
   "source": [
    "#### Install ANNOVAR: Download sources of annotation "
   ]
  },
  {
   "cell_type": "code",
   "execution_count": 10,
   "metadata": {
    "collapsed": true
   },
   "outputs": [
    {
     "name": "stderr",
     "output_type": "stream",
     "text": [
      "NOTICE: Web-based checking to see whether ANNOVAR new version is available ... Done\n",
      "NOTICE: Downloading annotation database http://www.openbioinformatics.org/annovar/download/hg38_refGene.txt.gz ... OK\n",
      "NOTICE: Downloading annotation database http://www.openbioinformatics.org/annovar/download/hg38_refGeneMrna.fa.gz ... OK\n",
      "NOTICE: Downloading annotation database http://www.openbioinformatics.org/annovar/download/hg38_refGeneVersion.txt.gz ... OK\n",
      "NOTICE: Uncompressing downloaded files\n",
      "NOTICE: Finished downloading annotation files for hg38 build version, with files saved at the 'humandb' directory\n",
      "NOTICE: Web-based checking to see whether ANNOVAR new version is available ... Done\n",
      "NOTICE: Downloading annotation database http://www.openbioinformatics.org/annovar/download/hg38_clinvar_20140902.txt.gz ... OK\n",
      "NOTICE: Downloading annotation database http://www.openbioinformatics.org/annovar/download/hg38_clinvar_20140902.txt.idx.gz ... OK\n",
      "NOTICE: Uncompressing downloaded files\n",
      "NOTICE: Finished downloading annotation files for hg38 build version, with files saved at the 'humandb' directory\n"
     ]
    }
   ],
   "source": [
    "%%bash\n",
    "\n",
    "cd /home/jupyter/tools/annovar/\n",
    "\n",
    "perl annotate_variation.pl -buildver hg38 -downdb -webfrom annovar refGene humandb/\n",
    "perl annotate_variation.pl -buildver hg38 -downdb -webfrom annovar clinvar_20140902 humandb/\n",
    "#perl annotate_variation.pl -buildver hg38 -downdb cytoBand humandb/\n",
    "#perl annotate_variation.pl -buildver hg38 -downdb -webfrom annovar ensGene humandb/\n",
    "#perl annotate_variation.pl -buildver hg38 -downdb -webfrom annovar exac03 humandb/ \n",
    "#perl annotate_variation.pl -buildver hg38 -downdb -webfrom annovar avsnp147 humandb/ \n",
    "#perl annotate_variation.pl -buildver hg38 -downdb -webfrom annovar dbnsfp30a humandb/\n",
    "#perl annotate_variation.pl -buildver hg38 -downdb -webfrom annovar gnomad211_genome humandb/\n",
    "#perl annotate_variation.pl -buildver hg38 -downdb -webfrom annovar ljb26_all humandb/"
   ]
  },
  {
   "cell_type": "code",
   "execution_count": 11,
   "metadata": {
    "collapsed": true
   },
   "outputs": [
    {
     "name": "stdout",
     "output_type": "stream",
     "text": [
      "annotate_variation.pl\n",
      "coding_change.pl\n",
      "convert2annovar.pl\n",
      "example\n",
      "humandb\n",
      "retrieve_seq_from_fasta.pl\n",
      "table_annovar.pl\n",
      "variants_reduction.pl\n"
     ]
    }
   ],
   "source": [
    "%%bash\n",
    "ls /home/jupyter/tools/annovar/"
   ]
  },
  {
   "cell_type": "markdown",
   "metadata": {},
   "source": [
    "## AFRICAN"
   ]
  },
  {
   "cell_type": "markdown",
   "metadata": {},
   "source": [
    "## Copy data from GP2 bucket to workspace"
   ]
  },
  {
   "cell_type": "code",
   "execution_count": 12,
   "metadata": {
    "collapsed": true
   },
   "outputs": [
    {
     "name": "stdout",
     "output_type": "stream",
     "text": [
      "Making a working directory\n"
     ]
    },
    {
     "name": "stderr",
     "output_type": "stream",
     "text": [
      "Executing: mkdir -p /home/jupyter/PP2A_GP2/\n"
     ]
    }
   ],
   "source": [
    "# Make a directory\n",
    "print(\"Making a working directory\")\n",
    "WORK_DIR = f'/home/jupyter/PP2A_GP2/'\n",
    "shell_do(f'mkdir -p {WORK_DIR}') # f' significa f-string - contiene expresiones para ejecutar el codigo"
   ]
  },
  {
   "cell_type": "code",
   "execution_count": 13,
   "metadata": {
    "collapsed": true
   },
   "outputs": [
    {
     "name": "stderr",
     "output_type": "stream",
     "text": [
      "Executing: gsutil -u terra-02e7cd23 ls gs://gp2tier2/release3_31102022/imputed_genotypes\n"
     ]
    },
    {
     "name": "stdout",
     "output_type": "stream",
     "text": [
      "gs://gp2tier2/release3_31102022/imputed_genotypes/AAC/\r\n",
      "gs://gp2tier2/release3_31102022/imputed_genotypes/AFR/\r\n",
      "gs://gp2tier2/release3_31102022/imputed_genotypes/AJ/\r\n",
      "gs://gp2tier2/release3_31102022/imputed_genotypes/AMR/\r\n",
      "gs://gp2tier2/release3_31102022/imputed_genotypes/CAS/\r\n",
      "gs://gp2tier2/release3_31102022/imputed_genotypes/EAS/\r\n",
      "gs://gp2tier2/release3_31102022/imputed_genotypes/EUR/\r\n",
      "gs://gp2tier2/release3_31102022/imputed_genotypes/MDE/\r\n",
      "gs://gp2tier2/release3_31102022/imputed_genotypes/SAS/\r\n"
     ]
    }
   ],
   "source": [
    "# Check directory where AMP-PD data is\n",
    "shell_do(f'gsutil -u {BILLING_PROJECT_ID} ls {GP2_IMPUTED_GENO_PATH}')"
   ]
  },
  {
   "cell_type": "code",
   "execution_count": 14,
   "metadata": {
    "collapsed": true
   },
   "outputs": [
    {
     "name": "stderr",
     "output_type": "stream",
     "text": [
      "Executing: gsutil -u terra-02e7cd23 -m cp -r gs://gp2tier2/release3_31102022/imputed_genotypes/AFR/chr9* /home/jupyter/PP2A_GP2/\n"
     ]
    },
    {
     "name": "stdout",
     "output_type": "stream",
     "text": [
      "Copying gs://gp2tier2/release3_31102022/imputed_genotypes/AFR/chr9_AFR_release3.psam...\n",
      "Copying gs://gp2tier2/release3_31102022/imputed_genotypes/AFR/chr9_AFR_release3.log...\n",
      "Copying gs://gp2tier2/release3_31102022/imputed_genotypes/AFR/chr9_AFR_release3.pgen...\n",
      "Copying gs://gp2tier2/release3_31102022/imputed_genotypes/AFR/chr9_AFR_release3.pvar...\n",
      "- [4/4 files][247.3 MiB/247.3 MiB] 100% Done                                    \n",
      "Operation completed over 4 objects/247.3 MiB.                                    \n"
     ]
    }
   ],
   "source": [
    "shell_do(f'gsutil -u {BILLING_PROJECT_ID} -m cp -r {GP2_IMPUTED_GENO_PATH}/AFR/chr9* {WORK_DIR}')"
   ]
  },
  {
   "cell_type": "markdown",
   "metadata": {},
   "source": [
    "### Create a covariate file with GP2 data"
   ]
  },
  {
   "cell_type": "code",
   "execution_count": 15,
   "metadata": {
    "collapsed": true
   },
   "outputs": [
    {
     "name": "stderr",
     "output_type": "stream",
     "text": [
      "Executing: gsutil -u terra-02e7cd23 ls gs://gp2tier2/release3_31102022/clinical_data\n"
     ]
    },
    {
     "name": "stdout",
     "output_type": "stream",
     "text": [
      "gs://gp2tier2/release3_31102022/clinical_data/\r\n",
      "gs://gp2tier2/release3_31102022/clinical_data/master_key_release3_final.csv\r\n",
      "gs://gp2tier2/release3_31102022/clinical_data/release3_31102022_data_dictionary.csv\r\n"
     ]
    },
    {
     "name": "stderr",
     "output_type": "stream",
     "text": [
      "Executing: gsutil -u terra-02e7cd23 -m cp -r gs://gp2tier2/release3_31102022/clinical_data/master_key_release3_final.csv /home/jupyter/PP2A_GP2/\n"
     ]
    },
    {
     "name": "stdout",
     "output_type": "stream",
     "text": [
      "Copying gs://gp2tier2/release3_31102022/clinical_data/master_key_release3_final.csv...\n",
      "/ [1/1 files][  1.6 MiB/  1.6 MiB] 100% Done                                    \n",
      "Operation completed over 1 objects/1.6 MiB.                                      \n"
     ]
    }
   ],
   "source": [
    "shell_do(f'gsutil -u {BILLING_PROJECT_ID} ls {GP2_CLINICAL_RELEASE_PATH}')\n",
    "shell_do(f'gsutil -u {BILLING_PROJECT_ID} -m cp -r {GP2_CLINICAL_RELEASE_PATH}/master_key_release3_final.csv {WORK_DIR}')"
   ]
  },
  {
   "cell_type": "code",
   "execution_count": 16,
   "metadata": {
    "collapsed": true
   },
   "outputs": [
    {
     "data": {
      "text/plain": [
       "Index(['GP2ID', 'GP2sampleID', 'manifest_id', 'phenotype', 'pheno_for_qc',\n",
       "       'other_pheno', 'sex_for_qc', 'age', 'age_of_onset', 'age_at_diagnosis',\n",
       "       'age_at_death', 'race_for_qc', 'family_history_for_qc', 'region_for_qc',\n",
       "       'study', 'pruned', 'pruned_reason', 'label', 'related'],\n",
       "      dtype='object')"
      ]
     },
     "execution_count": 16,
     "metadata": {},
     "output_type": "execute_result"
    }
   ],
   "source": [
    "cov = pd.read_csv(f'{WORK_DIR}/master_key_release3_final.csv')\n",
    "cov.columns"
   ]
  },
  {
   "cell_type": "code",
   "execution_count": 17,
   "metadata": {
    "collapsed": true
   },
   "outputs": [
    {
     "data": {
      "text/html": [
       "<div>\n",
       "<style scoped>\n",
       "    .dataframe tbody tr th:only-of-type {\n",
       "        vertical-align: middle;\n",
       "    }\n",
       "\n",
       "    .dataframe tbody tr th {\n",
       "        vertical-align: top;\n",
       "    }\n",
       "\n",
       "    .dataframe thead th {\n",
       "        text-align: right;\n",
       "    }\n",
       "</style>\n",
       "<table border=\"1\" class=\"dataframe\">\n",
       "  <thead>\n",
       "    <tr style=\"text-align: right;\">\n",
       "      <th></th>\n",
       "      <th>FID</th>\n",
       "      <th>IID</th>\n",
       "      <th>SEX</th>\n",
       "      <th>AGE</th>\n",
       "      <th>PHENO</th>\n",
       "    </tr>\n",
       "  </thead>\n",
       "  <tbody>\n",
       "    <tr>\n",
       "      <th>0</th>\n",
       "      <td>SYNAPS-KZ_000001_s1</td>\n",
       "      <td>SYNAPS-KZ_000001_s1</td>\n",
       "      <td>2</td>\n",
       "      <td>64.0</td>\n",
       "      <td>Control</td>\n",
       "    </tr>\n",
       "    <tr>\n",
       "      <th>1</th>\n",
       "      <td>SYNAPS-KZ_000002_s1</td>\n",
       "      <td>SYNAPS-KZ_000002_s1</td>\n",
       "      <td>1</td>\n",
       "      <td>53.0</td>\n",
       "      <td>Control</td>\n",
       "    </tr>\n",
       "    <tr>\n",
       "      <th>2</th>\n",
       "      <td>SYNAPS-KZ_000003_s1</td>\n",
       "      <td>SYNAPS-KZ_000003_s1</td>\n",
       "      <td>2</td>\n",
       "      <td>59.0</td>\n",
       "      <td>Control</td>\n",
       "    </tr>\n",
       "    <tr>\n",
       "      <th>3</th>\n",
       "      <td>SYNAPS-KZ_000004_s1</td>\n",
       "      <td>SYNAPS-KZ_000004_s1</td>\n",
       "      <td>1</td>\n",
       "      <td>57.0</td>\n",
       "      <td>Control</td>\n",
       "    </tr>\n",
       "    <tr>\n",
       "      <th>4</th>\n",
       "      <td>SYNAPS-KZ_000005_s1</td>\n",
       "      <td>SYNAPS-KZ_000005_s1</td>\n",
       "      <td>1</td>\n",
       "      <td>59.0</td>\n",
       "      <td>Control</td>\n",
       "    </tr>\n",
       "    <tr>\n",
       "      <th>...</th>\n",
       "      <td>...</td>\n",
       "      <td>...</td>\n",
       "      <td>...</td>\n",
       "      <td>...</td>\n",
       "      <td>...</td>\n",
       "    </tr>\n",
       "    <tr>\n",
       "      <th>16852</th>\n",
       "      <td>PPMI_000789_s1</td>\n",
       "      <td>PPMI_000789_s1</td>\n",
       "      <td>2</td>\n",
       "      <td>NaN</td>\n",
       "      <td>Other</td>\n",
       "    </tr>\n",
       "    <tr>\n",
       "      <th>16853</th>\n",
       "      <td>PPMI_000781_s1</td>\n",
       "      <td>PPMI_000781_s1</td>\n",
       "      <td>1</td>\n",
       "      <td>57.0</td>\n",
       "      <td>Other</td>\n",
       "    </tr>\n",
       "    <tr>\n",
       "      <th>16854</th>\n",
       "      <td>PPMI_000818_s1</td>\n",
       "      <td>PPMI_000818_s1</td>\n",
       "      <td>1</td>\n",
       "      <td>60.0</td>\n",
       "      <td>Other</td>\n",
       "    </tr>\n",
       "    <tr>\n",
       "      <th>16855</th>\n",
       "      <td>PPMI_000841_s1</td>\n",
       "      <td>PPMI_000841_s1</td>\n",
       "      <td>2</td>\n",
       "      <td>68.0</td>\n",
       "      <td>Other</td>\n",
       "    </tr>\n",
       "    <tr>\n",
       "      <th>16856</th>\n",
       "      <td>PPMI_000808_s1</td>\n",
       "      <td>PPMI_000808_s1</td>\n",
       "      <td>1</td>\n",
       "      <td>NaN</td>\n",
       "      <td>Other</td>\n",
       "    </tr>\n",
       "  </tbody>\n",
       "</table>\n",
       "<p>16857 rows × 5 columns</p>\n",
       "</div>"
      ],
      "text/plain": [
       "                       FID                  IID  SEX   AGE    PHENO\n",
       "0      SYNAPS-KZ_000001_s1  SYNAPS-KZ_000001_s1    2  64.0  Control\n",
       "1      SYNAPS-KZ_000002_s1  SYNAPS-KZ_000002_s1    1  53.0  Control\n",
       "2      SYNAPS-KZ_000003_s1  SYNAPS-KZ_000003_s1    2  59.0  Control\n",
       "3      SYNAPS-KZ_000004_s1  SYNAPS-KZ_000004_s1    1  57.0  Control\n",
       "4      SYNAPS-KZ_000005_s1  SYNAPS-KZ_000005_s1    1  59.0  Control\n",
       "...                    ...                  ...  ...   ...      ...\n",
       "16852       PPMI_000789_s1       PPMI_000789_s1    2   NaN    Other\n",
       "16853       PPMI_000781_s1       PPMI_000781_s1    1  57.0    Other\n",
       "16854       PPMI_000818_s1       PPMI_000818_s1    1  60.0    Other\n",
       "16855       PPMI_000841_s1       PPMI_000841_s1    2  68.0    Other\n",
       "16856       PPMI_000808_s1       PPMI_000808_s1    1   NaN    Other\n",
       "\n",
       "[16857 rows x 5 columns]"
      ]
     },
     "execution_count": 17,
     "metadata": {},
     "output_type": "execute_result"
    }
   ],
   "source": [
    "cov_reduced = cov[['GP2sampleID','GP2sampleID','sex_for_qc', 'age', 'phenotype']]\n",
    "cov_reduced.columns = ['FID','IID', 'SEX','AGE','PHENO']\n",
    "cov_reduced"
   ]
  },
  {
   "cell_type": "code",
   "execution_count": 18,
   "metadata": {
    "collapsed": true
   },
   "outputs": [],
   "source": [
    "conditions = [\n",
    "    (cov_reduced['PHENO'] == \"Case\"),\n",
    "    (cov_reduced['PHENO'] == \"Control\")]"
   ]
  },
  {
   "cell_type": "code",
   "execution_count": 19,
   "metadata": {
    "collapsed": true
   },
   "outputs": [
    {
     "name": "stderr",
     "output_type": "stream",
     "text": [
      "/opt/conda/lib/python3.7/site-packages/ipykernel_launcher.py:2: SettingWithCopyWarning: \n",
      "A value is trying to be set on a copy of a slice from a DataFrame.\n",
      "Try using .loc[row_indexer,col_indexer] = value instead\n",
      "\n",
      "See the caveats in the documentation: https://pandas.pydata.org/pandas-docs/stable/user_guide/indexing.html#returning-a-view-versus-a-copy\n",
      "  \n"
     ]
    }
   ],
   "source": [
    "choices = [2,1]\n",
    "cov_reduced['PHENOTYPE'] = np.select(conditions, choices, default=-9).astype(np.int64)"
   ]
  },
  {
   "cell_type": "code",
   "execution_count": 20,
   "metadata": {
    "collapsed": true
   },
   "outputs": [
    {
     "name": "stderr",
     "output_type": "stream",
     "text": [
      "/opt/conda/lib/python3.7/site-packages/pandas/core/frame.py:4913: SettingWithCopyWarning: \n",
      "A value is trying to be set on a copy of a slice from a DataFrame\n",
      "\n",
      "See the caveats in the documentation: https://pandas.pydata.org/pandas-docs/stable/user_guide/indexing.html#returning-a-view-versus-a-copy\n",
      "  errors=errors,\n"
     ]
    }
   ],
   "source": [
    "cov_reduced.reset_index(inplace=True)\n",
    "cov_reduced.drop(columns=[\"index\"], inplace=True)"
   ]
  },
  {
   "cell_type": "code",
   "execution_count": 21,
   "metadata": {
    "collapsed": true
   },
   "outputs": [],
   "source": [
    "cov_reduced.drop(columns=['PHENO'], inplace=True)"
   ]
  },
  {
   "cell_type": "code",
   "execution_count": 22,
   "metadata": {
    "collapsed": true
   },
   "outputs": [],
   "source": [
    "sex = cov_reduced[['FID','IID','SEX']]\n",
    "sex.to_csv(f'{WORK_DIR}/SEX.txt',index=False, sep=\"\\t\")"
   ]
  },
  {
   "cell_type": "code",
   "execution_count": 23,
   "metadata": {
    "collapsed": true
   },
   "outputs": [],
   "source": [
    "pheno = cov_reduced[['FID','IID','PHENOTYPE']]\n",
    "pheno.to_csv(f'{WORK_DIR}/PHENO.txt',index=False, sep=\"\\t\")"
   ]
  },
  {
   "cell_type": "markdown",
   "metadata": {},
   "source": [
    "## Extract PP2A"
   ]
  },
  {
   "cell_type": "code",
   "execution_count": 24,
   "metadata": {
    "collapsed": true
   },
   "outputs": [
    {
     "name": "stdout",
     "output_type": "stream",
     "text": [
      "PLINK v2.00a3.3LM AVX2 Intel (3 Jun 2022)      www.cog-genomics.org/plink/2.0/\n",
      "(C) 2005-2022 Shaun Purcell, Christopher Chang   GNU General Public License v3\n",
      "Logging to pheno_PP2A_AFR.log.\n",
      "Options in effect:\n",
      "  --chr 9\n",
      "  --from-bp 129110950\n",
      "  --make-bed\n",
      "  --out pheno_PP2A_AFR\n",
      "  --pfile chr9_AFR_release3\n",
      "  --to-bp 129148946\n",
      "\n",
      "Start time: Thu Jun  1 15:31:19 2023\n",
      "14998 MiB RAM detected; reserving 7499 MiB for main workspace.\n",
      "Using up to 4 compute threads.\n",
      "404 samples (250 females, 154 males; 404 founders) loaded from\n",
      "chr9_AFR_release3.psam.\n",
      "863361 variants loaded from chr9_AFR_release3.pvar.\n",
      "1 binary phenotype loaded (49 cases, 355 controls).\n",
      "305 variants remaining after main filters.\n",
      "Writing pheno_PP2A_AFR.fam ... done.\n",
      "Writing pheno_PP2A_AFR.bim ... done.\n",
      "Writing pheno_PP2A_AFR.bed ... 0%\b\bdone.\n",
      "End time: Thu Jun  1 15:31:20 2023\n"
     ]
    }
   ],
   "source": [
    "%%bash\n",
    "\n",
    "WORK_DIR='/home/jupyter/PP2A_GP2/'\n",
    "cd $WORK_DIR\n",
    "\n",
    "# PODXL: gene positions on hg38 (from https://useast.ensembl.org/index.html)\n",
    "/home/jupyter/tools/plink2 \\\n",
    "--pfile chr9_AFR_release3 \\\n",
    "--chr 9 \\\n",
    "--from-bp 129110950  \\\n",
    "--to-bp 129148946 \\\n",
    "--make-bed \\\n",
    "--out pheno_PP2A_AFR"
   ]
  },
  {
   "cell_type": "markdown",
   "metadata": {},
   "source": [
    "### Visualize plink files bim, fam and bed"
   ]
  },
  {
   "cell_type": "code",
   "execution_count": 25,
   "metadata": {
    "collapsed": true
   },
   "outputs": [
    {
     "name": "stdout",
     "output_type": "stream",
     "text": [
      "9\tchr9:129110977:A:C\t0\t129110977\tC\tA\n",
      "9\tchr9:129111023:G:C\t0\t129111023\tC\tG\n",
      "9\tchr9:129111059:G:A\t0\t129111059\tA\tG\n",
      "9\tchr9:129111157:A:T\t0\t129111157\tT\tA\n",
      "9\tchr9:129111177:G:A\t0\t129111177\tA\tG\n",
      "9\tchr9:129111181:T:C\t0\t129111181\tC\tT\n",
      "9\tchr9:129111184:G:C\t0\t129111184\tC\tG\n",
      "9\tchr9:129111349:C:T\t0\t129111349\tT\tC\n",
      "9\tchr9:129111359:T:G\t0\t129111359\tG\tT\n",
      "9\tchr9:129111392:G:C\t0\t129111392\tC\tG\n"
     ]
    }
   ],
   "source": [
    "%%bash\n",
    "\n",
    "# Visualize bim file\n",
    "WORK_DIR='/home/jupyter/PP2A_GP2/'\n",
    "cd $WORK_DIR\n",
    "\n",
    "head pheno_PP2A_AFR.bim"
   ]
  },
  {
   "cell_type": "code",
   "execution_count": 26,
   "metadata": {
    "collapsed": true
   },
   "outputs": [
    {
     "name": "stdout",
     "output_type": "stream",
     "text": [
      "0\tBCM_000224_s1\t0\t0\t1\t2\n",
      "0\tBCM_000315_s1\t0\t0\t2\t2\n",
      "0\tBCM_000358_s1\t0\t0\t1\t2\n",
      "0\tBCM_000402_s1\t0\t0\t2\t1\n",
      "0\tBCM_000415_s1\t0\t0\t1\t2\n",
      "0\tBCM_000613_s1\t0\t0\t1\t1\n",
      "0\tBCM_000729_s1\t0\t0\t2\t1\n",
      "0\tBIOFIND_000001_s1\t0\t0\t1\t1\n",
      "0\tBIOFIND_000002_s1\t0\t0\t1\t1\n",
      "0\tBLAACPD-KPM_000003_s1\t0\t0\t2\t1\n"
     ]
    }
   ],
   "source": [
    "%%bash\n",
    "\n",
    "# Visualize fam file\n",
    "WORK_DIR='/home/jupyter/PP2A_GP2/'\n",
    "cd $WORK_DIR\n",
    "\n",
    "head pheno_PP2A_AFR.fam"
   ]
  },
  {
   "cell_type": "code",
   "execution_count": 27,
   "metadata": {
    "collapsed": true
   },
   "outputs": [
    {
     "name": "stdout",
     "output_type": "stream",
     "text": [
      "l\u001b\u0001��������������������������߻�����������������������������������������������������������������������������������������������������������������������������������������������������������������������������������������������������������������������/��������ߺ����{�����������������������������������;���������������������������������������������/��������ߺ����{�����������������������������������;�������������������������������������������������������������������������������������������������������������������������������������������������������������������������������������������������������������������������������������������������������/��������ߺ����{�����������������������������������;�������������������������������������������������������������������������������������������������������\u0000\u0000\u0000\u0000\u0000\u0004\u0000\u0000\u0000\u0000�\u0000\u0000\u0000\u0000\u0000\u0000\u0000\u0000\u0000\u0000\u0000\u0000\u0000\u0000\u0000\u0000\u0000\u0000\u0010\u0002 \u0000\u0000\u0004\u0000\u0000\u0000\u0000\f",
      "\u0000\u0000\u0000\u0000\u0000\u0000\u0000\u0000\u0000\u0000\u0000\u0002\u0000�\u0010\u0000\b\u0000\u0000\u0000@\u0000\u0000\u0000\b\u0000\u0000\u0000\u0000\b\u0000\u0000\u0000\u0000\u0000@\u0000\u0000\u0000\u0001\u0000\u0000\u0002\u0000\u0000\b\u0010\u0000\u0000\u0000\u0000\u0000\u0000@\u0000\u0002\u0000\u0000\u0000\u0000\u0000�������������������������������������������/��������ߺ����{�����������������������������������;��������������������������������������������������������������������������������������������������������������������������w�������������������������������������������������{���������������������������������������������������������������������������������������������������������������������������������������������������������������������������������������������������������������������������������������\u0000\u0000\u0002\u0000\u0000\u0000\u0000�\u0000\b�\"��\u0002\u0000\u0000\n",
      "\u0000\u0000 \u0000\u0002\u0000\u0000\b\u0000\u0000\u0000\u0000� \u0000\u0000�\b\u0000\u0000\u0002\f",
      "\u0000\b\u0000\u0002�\u0000\u0000�\b0\u0000\u0002\u0000�  \b��\u0002H\u0000�\u0000\b�\u0000\u0002��\u0002\b\u0000� \b��\u0000�\u0002\u0000\"\b0(\b\u0000\u0000\u0000\u00000\u0002�\u0003ʀ\b\u0000\u0000 *���������������/�����������������������������������o�����������/���������������*����������x���h�����z8���������+o￟��:���ϫ������������?�������+���\u000f������,�����n>���;����.�����;����������������������������������������o����������������������������������������������������������������x���h�����z8���������+o￟��:���ϫ������������?������.+�{�\u000f������,�����n>���;����.����);��������������������������������������������������������������������������������������������������������*���������������/�����������������������������������o����������ﯯ��������������*�����������������������~������㿿����������������������������������������������������������������������������������������������������������������������������������������������������������������������������������������������������������������������������/��������ߺ����{�����������������������������������;����K'+���������+J��\u0006.뻢����`ڪ�����*<��\u000e�;���*��,�Ꞔ�޺����j�����\"�������������*Ȫ����������b���;ʪ������������������������������������������������������������������������������������������������������\u0000\u0000\u0000\u0000\u0000\u0004\u0000\u0000\u0000\u0000�\u0000\u0000\u0000\u0000\u0000\u0000\u0000\u0000\u0000\u0000\u0000\u0000\u0000\u0000\u0000\u0000\u0000\u0000\u0010\u0002\u0000\u0000\u0000\u0004\u0000\u0000\u0000\u0000\f",
      "\u0000\u0000\u0000\u0000\u0000\u0000\u0000\u0000\u0000\u0000\u0000\u0002\u0000�\u0010\u0000\u0000\u0000\u0000\u0000@\u0000\u0000\u0000\b\u0000\u0000\u0000\u0000\b\u0000\u0000\u0000\u0000\u0000@\u0000\u0000\u0000\u0001\u0000\u0000\u0002\u0000\u0000\b\u0010\u0000\u0000\u0000\u0000\u0000\u0000@\u0000\u0002\u0000\u0000\u0000\u0000\u0000����������������������������������������������������������������������������������������������������K3����������J��\u0006��������b�������������;�g����.����������������������������������������j������������������������������������������������������������������������������������������������������������������������������������������������������������������������{�����������������������������������������x���h�����{8���������/￟��:���ϫ������������?���������������������n�����;����������������������������������������������������������������������������������������������������������������������������������������������������������������������������������������������������������������������������������������������������������������������������������������������������������������������������������������������������������������������������������������������������������������������������������\u0000\u0000\u0000\u0000\u0000\u0004\u0000\u0000\u0000\u0000�\u0000\u0000\u0000\u0000\u0000\u0000\u0000\u0000\u0000\u0000\u0000\u0000\u0000\u0000\u0000\u0000\u0000\u0000\u0010\u0002\u0000\u0000\u0000\u0004\u0000\u0000\u0000\u0000\f",
      "\u0000\u0000\u0000\u0000\u0000\u0000\u0000\u0000\u0000\u0000\u0000\u0002\u0000�\u0010\u0000\u0000\u0000\u0000\u0000@\u0000\u0000\u0000\b\u0000\u0000\u0000\u0000\b\u0000\u0000\u0000\u0000\u0000@\u0000\u0000\u0000\u0001\u0000\u0000\u0002\u0000\u0000\b\u0010\u0000\u0000\u0000\u0000\u0000\u0000@\u0000\u0002\u0000\u0000\u0000\u0000\u0000�����������������������������������������������������������������������������������������������������K3����������J��\u0006��������b�������������;�g����.����������������������������������������j�������\u0000\u0000\u0000\u0000\u0000\u0004\u0000\u0000\u0000\u0000\u0000\u0000\u0000\u0000\u0000\u0000\u0000\u0000\u0000\u0000\u0000\u0000\u0000\u0000\u0000\u0000\u0000\u0000\u0000\u0010\u0002\u0000\u0000\u0000\u0004\u0000\u0000\u0000\u0000\f",
      "\u0000\u0000\u0000\u0000\u0000\u0000\u0000\u0000\u0000\u0000\u0000\u0002\u0000�\u0010\u0000\u0000\u0000\u0000\u0000@\u0000\u0000\u0000\b\u0000\u0000\u0000\u0000\b\u0000\u0000\u0000\u0000\u0000@\u0000\u0000\u0000\u0001\u0000\u0000\u0000\u0000\u0000\b\u0010\u0000\u0000\u0000\u0000\u0000\u0000@\u0000\u0002\u0000\u0000\u0000\u0000\u0000�~���h�����{8���������/o���������﻿�����������?�����������������שׂ����n�����;����������������������������������������������������������������������������������������������������������������������������������������������������������������/��������ߺ����{�����������������������������������;����K3����������J��\u0006��������b�������������;�g����.����������������������������������������j��������x���h�����z8���������+o￟��:���ϫ������������?�������+���\u000f������,�����n>���;��������;���*���������������/�����������������������������������o����������ﯯ��������������*����������������������������������������������������������������������������������������������������������������������������~������㿿������������������������������������������������������������������������������K#+���������+J��\u0006.뻢����`ꪚ����*<��\u000e�;���*��,�Ꞔ�ߺ����j�����\"�������������*Ȫ����������b���;ʪ��x���h�����z8���������+o￟��:���ϫ������������?�������+���\u000f������,�����n>���;��������;���*���������������/������������������������������������o����������ﯿ��������������*����������x���h�����z8���������+o￟��:���ϫ������������?�������+���\u000f������,�����n>���;��������;����x���h�����z8���������+o￟��:���ϫ������������?�������+���\u000f������,�����n>���;��������;�����������������~������㿿�����������������������������������������������������������������������������������������������������������������������������������������{�����������������������������������������x���h�����z8���������+o￟��:���ϫ������������?�������+���\u000f������,�����n>���;��������;����x���h�����z8���������+o￟��:���ϫ������������?�������+���\u000f������,�����n>���;��������;�������ʷ��������������꫿�������������>����.������֯ߺ����{�����;�����������������������������;������������������������������������������/������ޯߺ����{�����������������������������������;���������������������������������������������������������������������������������������������������������x���h�����z8���������+o￟��:���ϫ������������?�������+���\u000f������,�����n>���;��������;����o��������������/������������������������g�������������������������������������������������~��������x���h�����{8���������/o￟��:���ϫ������������?���������������������n�����;����������������x���h�����z8���������+o￟��:���ϫ������������?�������+���\u000f������,�����n>���;��������;����x���h�����z8���������+o￟��:���ϫ������������?�������+���\u000f������,�����n>���;��������;���*���������������/������������������������������������o����������ﯯ��������������*������������������������������������������������������������������������������������������������������������������������������������������������������������������������������������������������������������������������������������������������������������������������������������������������������������������������K#+���������+J��\u0006.뻢����`ꪚ����*<��\u000e�;���*��,�Ꞔ�ߺ����j�����\"�������������*Ȫ����������b���;ʪ��\u0003\n",
      "\u0002\u0004\f",
      "(\u0000��0�\n",
      "�(�\u0000(�*\u0002(��\u0000��+\u001a3�(\u0002�*\f",
      "\b\u000b",
      "\f",
      "����/\u0000��(�+\u000b",
      "���\u0000��(��,\n",
      "��� ��,� ���l\bŰ�\u0000 *.��\u0010\u001c",
      "�� \u0003�b��\n",
      "\"��(������������������������������������������������������������������������������������������������������K#+���������+J��\u0006.뻢����`ꪚ����*<��\u000e�;���*��,�Ꞔ�ߺ����j�����\"�������������*Ȫ����������b���;ʪ��K3����������J��\u0006��������b�������������;�g����.����������������������������������������j�������������������������������������������������/������ޯߺ����{�����������������������������������;���������������������������������������������/������ޯߺ����{�����������������������������������;��������������������������������������������������������������������������������������������������������\u0000\u0000\u0000\u0000\u0000\u0004\u0000\u0000\u0000\u0000�\u0000\u0000\u0000\u0000\u0000\u0000\u0000\u0000\u0000\u0000\u0000\u0000\u0000\u0000\u0000\u0000\u0000\u0000\u0010\u0002\u0000\u0000\u0000\u0004\u0000\u0000\u0000\u0000\f",
      "\u0000\u0000\u0000\u0000\u0000\u0000\u0000\u0000\u0000\u0000\u0000\u0002\u0000�\u0010\u0000\u0000\u0000\u0000\u0000@\u0000\u0000\u0000\b\u0000\u0000\u0000\u0000\u0004\u0000\u0000\u0000\u0000\u0000@\u0000\u0000\u0000\u0000\u0000\u0000\u0002\u0000\u0000\b\u0010\u0000\u0000\u0000\u0000\u0000\u0000@\u0000\u0002\u0000\u0000\u0000\u0000\u0000�x���h�����z8���������+o￟��:���ϫ������������?�������+���\u000f������,�����n>���;��������;������������������������������������������������������������������������������������������������������������������������������������������������������������������������������������������������������������\u0000\u0000\u0000\u0000\u0000\u0004\u0000\u0000\u0000\u0000�\u0000\u0000\u0000\u0000\u0000\u0000\u0000\u0000\u0000\u0000\u0000\u0000\u0000\u0000\u0000\u0000\u0000\u0000\u0010\u0002\u0000\u0000\u0000\u0004\u0000\u0000\u0000\u0000\f",
      "\u0000\u0000\u0000\u0000\u0000\u0000\u0000\u0000\u0000\u0000\u0000\u0002\u0000�\u0010\u0000\u0000\u0000\u0000\u0000@\u0000\u0000\u0000\b\u0000\u0000\u0000\u0000\u0004\u0000\u0000\u0000\u0000\u0000@\u0000\u0000\u0000\u0000\u0000\u0000\u0002\u0000\u0000\b\u0010\u0000\u0000\u0000\u0000\u0000\u0000@\u0000\u0002\u0000\u0000\u0000\u0000\u0000�����������������������������������������������������������������������������������������������������������������������������������������������������������������������������������������������������������x���h�����z8���������+o￟��:���ϫ������������?�������+���\u000f������,�����n>���;��������;����x���h�����z8���������+o￟��:���ϫ������������?�������+���\u000f������,�����n>���;��������;�������������������������������������������������������������������������������������������������������������������������������������������������������������������������������������������������������������������������������������������������������������������������������������������������������������������\u0000\u0003\n",
      "\u0002\u0004\f",
      "(\u0000��0�\n",
      "�(�\u0000(�*\u0002(��\u0000��*\u001a3�(\u0002�\"\f",
      "\b\u000b",
      "\f",
      "�\"��/\u0000��(�*\u000b",
      "���\u0000��(��,\n",
      "���\u0000��,� ���l\bư�\u0000\u0000*.��\u0010\f",
      "�� \u0003�b��\n",
      "\"��(*��������������/����뫺��:��Ϋ����������������������뾪������������>�����꺪��*+������������������������������������������o����������������������������������������������������������������x���h�����z8���������+o￟��:���ϫ������������?�������+���\u000f������,�����n>���;��������;����o��������������/������������������������g�������������������������������������������������~��������������������������������������������������������������������������������������������������������������������������������������������������������������������������������������������������������������������������������������������������������������������������������������������������������������o��������������������������������������������������/������ޯߺ����{�����������������������������������;�������������������������������������������������������������������������������������������������������������������������������������������������������������������{����������������������������������������������������������������������������������������������������������������������������������������������x���h�����z8���������+o￟��:���ϫ������������?�������+���\u000f������,�����n>���;��������;����K3����������J��\u0006��������b�������������;�g����.����������������������������������������j��������\u0000\u0003\n"
     ]
    }
   ],
   "source": [
    "%%bash\n",
    "\n",
    "# Visualize fam file\n",
    "WORK_DIR='/home/jupyter/PP2A_GP2/'\n",
    "cd $WORK_DIR\n",
    "\n",
    "head pheno_PP2A_AFR.bed"
   ]
  },
  {
   "cell_type": "code",
   "execution_count": 28,
   "metadata": {
    "collapsed": true
   },
   "outputs": [
    {
     "name": "stdout",
     "output_type": "stream",
     "text": [
      "PLINK v1.90b6.9 64-bit (4 Mar 2019)            www.cog-genomics.org/plink/1.9/\n",
      "(C) 2005-2019 Shaun Purcell, Christopher Chang   GNU General Public License v3\n",
      "Logging to pheno_PP2A_AFR.log.\n",
      "Options in effect:\n",
      "  --bfile pheno_PP2A_AFR\n",
      "  --out pheno_PP2A_AFR\n",
      "  --recode vcf-fid\n",
      "\n",
      "14998 MB RAM detected; reserving 7499 MB for main workspace.\n",
      "305 variants loaded from .bim file.\n",
      "404 people (154 males, 250 females) loaded from .fam.\n",
      "404 phenotype values loaded from .fam.\n",
      "Using 1 thread (no multithreaded calculations invoked).\n",
      "Before main variant filters, 404 founders and 0 nonfounders present.\n",
      "Calculating allele frequencies... 0%\b\b1%\b\b2%\b\b3%\b\b4%\b\b5%\b\b6%\b\b7%\b\b8%\b\b9%\b\b10%\b\b\b11%\b\b\b12%\b\b\b13%\b\b\b14%\b\b\b15%\b\b\b16%\b\b\b17%\b\b\b18%\b\b\b19%\b\b\b20%\b\b\b21%\b\b\b22%\b\b\b23%\b\b\b24%\b\b\b25%\b\b\b26%\b\b\b27%\b\b\b28%\b\b\b29%\b\b\b30%\b\b\b31%\b\b\b32%\b\b\b33%\b\b\b34%\b\b\b35%\b\b\b36%\b\b\b37%\b\b\b38%\b\b\b39%\b\b\b40%\b\b\b41%\b\b\b42%\b\b\b43%\b\b\b44%\b\b\b45%\b\b\b46%\b\b\b47%\b\b\b48%\b\b\b49%\b\b\b50%\b\b\b51%\b\b\b52%\b\b\b53%\b\b\b54%\b\b\b55%\b\b\b56%\b\b\b57%\b\b\b58%\b\b\b59%\b\b\b60%\b\b\b61%\b\b\b62%\b\b\b63%\b\b\b64%\b\b\b65%\b\b\b66%\b\b\b67%\b\b\b68%\b\b\b69%\b\b\b70%\b\b\b71%\b\b\b72%\b\b\b73%\b\b\b74%\b\b\b75%\b\b\b76%\b\b\b77%\b\b\b78%\b\b\b79%\b\b\b80%\b\b\b81%\b\b\b82%\b\b\b83%\b\b\b84%\b\b\b85%\b\b\b86%\b\b\b87%\b\b\b88%\b\b\b89%\b\b\b90%\b\b\b91%\b\b\b92%\b\b\b93%\b\b\b94%\b\b\b95%\b\b\b96%\b\b\b97%\b\b\b98%\b\b\b99%\b\b\b\b done.\n",
      "Total genotyping rate is 0.98243.\n",
      "305 variants and 404 people pass filters and QC.\n",
      "Among remaining phenotypes, 49 are cases and 355 are controls.\n",
      "--recode vcf-fid to pheno_PP2A_AFR.vcf ... 0%\b\b1%\b\b2%\b\b3%\b\b4%\b\b5%\b\b6%\b\b7%\b\b8%\b\b9%\b\b10%\b\b\b11%\b\b\b12%\b\b\b13%\b\b\b14%\b\b\b15%\b\b\b16%\b\b\b17%\b\b\b18%\b\b\b19%\b\b\b20%\b\b\b21%\b\b\b22%\b\b\b23%\b\b\b24%\b\b\b25%\b\b\b26%\b\b\b27%\b\b\b28%\b\b\b29%\b\b\b30%\b\b\b31%\b\b\b32%\b\b\b33%\b\b\b34%\b\b\b35%\b\b\b36%\b\b\b37%\b\b\b38%\b\b\b39%\b\b\b40%\b\b\b41%\b\b\b42%\b\b\b43%\b\b\b44%\b\b\b45%\b\b\b46%\b\b\b47%\b\b\b48%\b\b\b49%\b\b\b50%\b\b\b51%\b\b\b52%\b\b\b53%\b\b\b54%\b\b\b55%\b\b\b56%\b\b\b57%\b\b\b58%\b\b\b59%\b\b\b60%\b\b\b61%\b\b\b62%\b\b\b63%\b\b\b64%\b\b\b65%\b\b\b66%\b\b\b67%\b\b\b68%\b\b\b69%\b\b\b70%\b\b\b71%\b\b\b72%\b\b\b73%\b\b\b74%\b\b\b75%\b\b\b76%\b\b\b77%\b\b\b78%\b\b\b79%\b\b\b80%\b\b\b81%\b\b\b82%\b\b\b83%\b\b\b84%\b\b\b85%\b\b\b86%\b\b\b87%\b\b\b88%\b\b\b89%\b\b\b90%\b\b\b91%\b\b\b92%\b\b\b93%\b\b\b94%\b\b\b95%\b\b\b96%\b\b\b97%\b\b\b98%\b\b\b99%\b\b\bdone.\n"
     ]
    }
   ],
   "source": [
    "%%bash\n",
    "\n",
    "WORK_DIR='/home/jupyter/PP2A_GP2/'\n",
    "cd $WORK_DIR\n",
    "\n",
    "# Turn binary files into VCF\n",
    "/home/jupyter/tools/plink \\\n",
    "--bfile pheno_PP2A_AFR \\\n",
    "--recode vcf-fid \\\n",
    "--out pheno_PP2A_AFR"
   ]
  },
  {
   "cell_type": "markdown",
   "metadata": {},
   "source": [
    "## Annotate PP2A variants"
   ]
  },
  {
   "cell_type": "code",
   "execution_count": 29,
   "metadata": {
    "collapsed": true
   },
   "outputs": [
    {
     "name": "stderr",
     "output_type": "stream",
     "text": [
      "[bgzip] can't create pheno_PP2A_AFR.vcf.gz: File exists\n"
     ]
    }
   ],
   "source": [
    "%%bash\n",
    "\n",
    "WORK_DIR='/home/jupyter/PP2A_GP2/'\n",
    "cd $WORK_DIR\n",
    "export PATH=$PATH:/home/jupyter/tools/rvtests/third/tabix-0.2.6/\n",
    "\n",
    "### Bgzip and Tabix\n",
    "bgzip pheno_PP2A_AFR.vcf\n",
    "\n",
    "tabix -f -p vcf pheno_PP2A_AFR.vcf.gz\n",
    "tabix -f -p vcf pheno_PP2A_AFR.vcf.gz"
   ]
  },
  {
   "cell_type": "code",
   "execution_count": 30,
   "metadata": {
    "collapsed": true
   },
   "outputs": [
    {
     "name": "stderr",
     "output_type": "stream",
     "text": [
      "\n",
      "NOTICE: Running with system command <convert2annovar.pl  -includeinfo -allsample -withfreq -format vcf4 pheno_PP2A_AFR.vcf.gz > pheno_PP2A_AFR.annovar.avinput>\n",
      "NOTICE: Finished reading 312 lines from VCF file\n",
      "NOTICE: A total of 305 locus in VCF file passed QC threshold, representing 285 SNPs (208 transitions and 77 transversions) and 20 indels/substitutions\n",
      "NOTICE: Finished writing allele frequencies based on 115140 SNP genotypes (84032 transitions and 31108 transversions) and 8080 indels/substitutions for 404 samples\n",
      "\n",
      "NOTICE: Running with system command </home/jupyter/tools/annovar/table_annovar.pl pheno_PP2A_AFR.annovar.avinput /home/jupyter/tools/annovar/humandb/ -buildver hg38 -outfile pheno_PP2A_AFR.annovar -remove -protocol refGene,clinvar_20140902 -operation g,f --nopolish -nastring . -otherinfo>\n",
      "-----------------------------------------------------------------\n",
      "NOTICE: Processing operation=g protocol=refGene\n",
      "\n",
      "NOTICE: Running with system command <annotate_variation.pl -geneanno -buildver hg38 -dbtype refGene -outfile pheno_PP2A_AFR.annovar.refGene -exonsort -nofirstcodondel pheno_PP2A_AFR.annovar.avinput /home/jupyter/tools/annovar/humandb/>\n",
      "NOTICE: Output files are written to pheno_PP2A_AFR.annovar.refGene.variant_function, pheno_PP2A_AFR.annovar.refGene.exonic_variant_function\n",
      "NOTICE: Reading gene annotation from /home/jupyter/tools/annovar/humandb/hg38_refGene.txt ... Done with 88819 transcripts (including 21511 without coding sequence annotation) for 28307 unique genes\n",
      "NOTICE: Processing next batch with 305 unique variants in 305 input lines\n",
      "NOTICE: Reading FASTA sequences from /home/jupyter/tools/annovar/humandb/hg38_refGeneMrna.fa ... Done with 6 sequences\n",
      "WARNING: A total of 606 sequences will be ignored due to lack of correct ORF annotation\n",
      "-----------------------------------------------------------------\n",
      "NOTICE: Processing operation=f protocol=clinvar_20140902\n",
      "\n",
      "NOTICE: Running system command <annotate_variation.pl -filter -dbtype clinvar_20140902 -buildver hg38 -outfile pheno_PP2A_AFR.annovar pheno_PP2A_AFR.annovar.avinput /home/jupyter/tools/annovar/humandb/>\n",
      "NOTICE: the --dbtype clinvar_20140902 is assumed to be in generic ANNOVAR database format\n",
      "NOTICE: Output file with variants matching filtering criteria is written to pheno_PP2A_AFR.annovar.hg38_clinvar_20140902_dropped, and output file with other variants is written to pheno_PP2A_AFR.annovar.hg38_clinvar_20140902_filtered\n",
      "NOTICE: Processing next batch with 305 unique variants in 305 input lines\n",
      "NOTICE: Database index loaded. Total number of bins is 44781 and the number of bins to be scanned is 0\n",
      "NOTICE: Scanning filter database /home/jupyter/tools/annovar/humandb/hg38_clinvar_20140902.txt...Done\n",
      "-----------------------------------------------------------------\n",
      "NOTICE: Multianno output file is written to pheno_PP2A_AFR.annovar.hg38_multianno.txt\n",
      "NOTICE: Reading from pheno_PP2A_AFR.annovar.hg38_multianno.txt\n",
      "-----------------------------------------------------------------\n",
      "NOTICE: VCF output is written to pheno_PP2A_AFR.annovar.hg38_multianno.vcf\n"
     ]
    }
   ],
   "source": [
    "%%bash\n",
    "\n",
    "WORK_DIR='/home/jupyter/PP2A_GP2/'\n",
    "cd $WORK_DIR\n",
    "\n",
    "### Annotate variants using ANNOVAR: https://annovar.openbioinformatics.org/en/latest/ \n",
    "perl /home/jupyter/tools/annovar/table_annovar.pl pheno_PP2A_AFR.vcf.gz /home/jupyter/tools/annovar/humandb/ -buildver hg38 \\\n",
    "-out pheno_PP2A_AFR.annovar \\\n",
    "-remove -protocol refGene,clinvar_20140902 \\\n",
    "-operation g,f \\\n",
    "--nopolish \\\n",
    "-nastring . \\\n",
    "-vcfinput"
   ]
  },
  {
   "cell_type": "markdown",
   "metadata": {},
   "source": [
    "## Extract coding and non-syn variants"
   ]
  },
  {
   "cell_type": "code",
   "execution_count": 31,
   "metadata": {
    "collapsed": true
   },
   "outputs": [
    {
     "data": {
      "text/html": [
       "<div>\n",
       "<style scoped>\n",
       "    .dataframe tbody tr th:only-of-type {\n",
       "        vertical-align: middle;\n",
       "    }\n",
       "\n",
       "    .dataframe tbody tr th {\n",
       "        vertical-align: top;\n",
       "    }\n",
       "\n",
       "    .dataframe thead th {\n",
       "        text-align: right;\n",
       "    }\n",
       "</style>\n",
       "<table border=\"1\" class=\"dataframe\">\n",
       "  <thead>\n",
       "    <tr style=\"text-align: right;\">\n",
       "      <th></th>\n",
       "      <th>Chr</th>\n",
       "      <th>Start</th>\n",
       "      <th>End</th>\n",
       "      <th>Ref</th>\n",
       "      <th>Alt</th>\n",
       "      <th>Func.refGene</th>\n",
       "      <th>Gene.refGene</th>\n",
       "      <th>GeneDetail.refGene</th>\n",
       "      <th>ExonicFunc.refGene</th>\n",
       "      <th>AAChange.refGene</th>\n",
       "      <th>...</th>\n",
       "      <th>Otherinfo407</th>\n",
       "      <th>Otherinfo408</th>\n",
       "      <th>Otherinfo409</th>\n",
       "      <th>Otherinfo410</th>\n",
       "      <th>Otherinfo411</th>\n",
       "      <th>Otherinfo412</th>\n",
       "      <th>Otherinfo413</th>\n",
       "      <th>Otherinfo414</th>\n",
       "      <th>Otherinfo415</th>\n",
       "      <th>Otherinfo416</th>\n",
       "    </tr>\n",
       "  </thead>\n",
       "  <tbody>\n",
       "    <tr>\n",
       "      <th>0</th>\n",
       "      <td>9</td>\n",
       "      <td>129110977</td>\n",
       "      <td>129110977</td>\n",
       "      <td>A</td>\n",
       "      <td>C</td>\n",
       "      <td>UTR5</td>\n",
       "      <td>PTPA</td>\n",
       "      <td>NM_021131:c.-624A&gt;C</td>\n",
       "      <td>.</td>\n",
       "      <td>.</td>\n",
       "      <td>...</td>\n",
       "      <td>0/0</td>\n",
       "      <td>0/0</td>\n",
       "      <td>0/0</td>\n",
       "      <td>0/0</td>\n",
       "      <td>0/1</td>\n",
       "      <td>0/0</td>\n",
       "      <td>0/0</td>\n",
       "      <td>0/0</td>\n",
       "      <td>0/0</td>\n",
       "      <td>0/0</td>\n",
       "    </tr>\n",
       "    <tr>\n",
       "      <th>1</th>\n",
       "      <td>9</td>\n",
       "      <td>129111023</td>\n",
       "      <td>129111023</td>\n",
       "      <td>G</td>\n",
       "      <td>C</td>\n",
       "      <td>UTR5</td>\n",
       "      <td>PTPA</td>\n",
       "      <td>NM_021131:c.-578G&gt;C</td>\n",
       "      <td>.</td>\n",
       "      <td>.</td>\n",
       "      <td>...</td>\n",
       "      <td>0/0</td>\n",
       "      <td>0/0</td>\n",
       "      <td>0/0</td>\n",
       "      <td>0/0</td>\n",
       "      <td>0/0</td>\n",
       "      <td>0/0</td>\n",
       "      <td>0/0</td>\n",
       "      <td>0/0</td>\n",
       "      <td>0/0</td>\n",
       "      <td>0/0</td>\n",
       "    </tr>\n",
       "    <tr>\n",
       "      <th>2</th>\n",
       "      <td>9</td>\n",
       "      <td>129111059</td>\n",
       "      <td>129111059</td>\n",
       "      <td>G</td>\n",
       "      <td>A</td>\n",
       "      <td>intronic</td>\n",
       "      <td>PTPA</td>\n",
       "      <td>.</td>\n",
       "      <td>.</td>\n",
       "      <td>.</td>\n",
       "      <td>...</td>\n",
       "      <td>0/0</td>\n",
       "      <td>0/0</td>\n",
       "      <td>0/0</td>\n",
       "      <td>0/0</td>\n",
       "      <td>0/1</td>\n",
       "      <td>0/1</td>\n",
       "      <td>0/1</td>\n",
       "      <td>0/1</td>\n",
       "      <td>0/0</td>\n",
       "      <td>0/0</td>\n",
       "    </tr>\n",
       "    <tr>\n",
       "      <th>3</th>\n",
       "      <td>9</td>\n",
       "      <td>129111157</td>\n",
       "      <td>129111157</td>\n",
       "      <td>A</td>\n",
       "      <td>T</td>\n",
       "      <td>intronic</td>\n",
       "      <td>PTPA</td>\n",
       "      <td>.</td>\n",
       "      <td>.</td>\n",
       "      <td>.</td>\n",
       "      <td>...</td>\n",
       "      <td>0/0</td>\n",
       "      <td>0/0</td>\n",
       "      <td>0/0</td>\n",
       "      <td>0/0</td>\n",
       "      <td>0/1</td>\n",
       "      <td>0/1</td>\n",
       "      <td>0/1</td>\n",
       "      <td>0/1</td>\n",
       "      <td>0/0</td>\n",
       "      <td>0/0</td>\n",
       "    </tr>\n",
       "    <tr>\n",
       "      <th>4</th>\n",
       "      <td>9</td>\n",
       "      <td>129111177</td>\n",
       "      <td>129111177</td>\n",
       "      <td>G</td>\n",
       "      <td>A</td>\n",
       "      <td>intronic</td>\n",
       "      <td>PTPA</td>\n",
       "      <td>.</td>\n",
       "      <td>.</td>\n",
       "      <td>.</td>\n",
       "      <td>...</td>\n",
       "      <td>0/0</td>\n",
       "      <td>0/0</td>\n",
       "      <td>0/0</td>\n",
       "      <td>0/0</td>\n",
       "      <td>0/0</td>\n",
       "      <td>0/0</td>\n",
       "      <td>0/0</td>\n",
       "      <td>0/0</td>\n",
       "      <td>0/0</td>\n",
       "      <td>0/0</td>\n",
       "    </tr>\n",
       "  </tbody>\n",
       "</table>\n",
       "<p>5 rows × 427 columns</p>\n",
       "</div>"
      ],
      "text/plain": [
       "   Chr      Start        End Ref Alt Func.refGene Gene.refGene  \\\n",
       "0    9  129110977  129110977   A   C         UTR5         PTPA   \n",
       "1    9  129111023  129111023   G   C         UTR5         PTPA   \n",
       "2    9  129111059  129111059   G   A     intronic         PTPA   \n",
       "3    9  129111157  129111157   A   T     intronic         PTPA   \n",
       "4    9  129111177  129111177   G   A     intronic         PTPA   \n",
       "\n",
       "    GeneDetail.refGene ExonicFunc.refGene AAChange.refGene  ... Otherinfo407  \\\n",
       "0  NM_021131:c.-624A>C                  .                .  ...          0/0   \n",
       "1  NM_021131:c.-578G>C                  .                .  ...          0/0   \n",
       "2                    .                  .                .  ...          0/0   \n",
       "3                    .                  .                .  ...          0/0   \n",
       "4                    .                  .                .  ...          0/0   \n",
       "\n",
       "   Otherinfo408 Otherinfo409 Otherinfo410  Otherinfo411  Otherinfo412  \\\n",
       "0           0/0          0/0          0/0           0/1           0/0   \n",
       "1           0/0          0/0          0/0           0/0           0/0   \n",
       "2           0/0          0/0          0/0           0/1           0/1   \n",
       "3           0/0          0/0          0/0           0/1           0/1   \n",
       "4           0/0          0/0          0/0           0/0           0/0   \n",
       "\n",
       "  Otherinfo413 Otherinfo414 Otherinfo415 Otherinfo416  \n",
       "0          0/0          0/0          0/0          0/0  \n",
       "1          0/0          0/0          0/0          0/0  \n",
       "2          0/1          0/1          0/0          0/0  \n",
       "3          0/1          0/1          0/0          0/0  \n",
       "4          0/0          0/0          0/0          0/0  \n",
       "\n",
       "[5 rows x 427 columns]"
      ]
     },
     "execution_count": 31,
     "metadata": {},
     "output_type": "execute_result"
    }
   ],
   "source": [
    "# Visualize multianno file\n",
    "PP2A_AFR = pd.read_csv(f'{WORK_DIR}/pheno_PP2A_AFR.annovar.hg38_multianno.txt', sep = '\\t')\n",
    "PP2A_AFR.head()"
   ]
  },
  {
   "cell_type": "code",
   "execution_count": 32,
   "metadata": {
    "collapsed": true
   },
   "outputs": [
    {
     "data": {
      "text/plain": [
       "Chr             305\n",
       "Start           305\n",
       "End             305\n",
       "Ref             305\n",
       "Alt             305\n",
       "               ... \n",
       "Otherinfo412    305\n",
       "Otherinfo413    305\n",
       "Otherinfo414    305\n",
       "Otherinfo415    305\n",
       "Otherinfo416    305\n",
       "Length: 427, dtype: int64"
      ]
     },
     "execution_count": 32,
     "metadata": {},
     "output_type": "execute_result"
    }
   ],
   "source": [
    "PP2A_AFR.count()"
   ]
  },
  {
   "cell_type": "code",
   "execution_count": 33,
   "metadata": {
    "collapsed": true
   },
   "outputs": [
    {
     "data": {
      "text/html": [
       "<div>\n",
       "<style scoped>\n",
       "    .dataframe tbody tr th:only-of-type {\n",
       "        vertical-align: middle;\n",
       "    }\n",
       "\n",
       "    .dataframe tbody tr th {\n",
       "        vertical-align: top;\n",
       "    }\n",
       "\n",
       "    .dataframe thead th {\n",
       "        text-align: right;\n",
       "    }\n",
       "</style>\n",
       "<table border=\"1\" class=\"dataframe\">\n",
       "  <thead>\n",
       "    <tr style=\"text-align: right;\">\n",
       "      <th></th>\n",
       "      <th>Chr</th>\n",
       "      <th>Start</th>\n",
       "      <th>End</th>\n",
       "      <th>Ref</th>\n",
       "      <th>Alt</th>\n",
       "      <th>Func.refGene</th>\n",
       "      <th>Gene.refGene</th>\n",
       "      <th>GeneDetail.refGene</th>\n",
       "      <th>ExonicFunc.refGene</th>\n",
       "      <th>AAChange.refGene</th>\n",
       "      <th>...</th>\n",
       "      <th>Otherinfo407</th>\n",
       "      <th>Otherinfo408</th>\n",
       "      <th>Otherinfo409</th>\n",
       "      <th>Otherinfo410</th>\n",
       "      <th>Otherinfo411</th>\n",
       "      <th>Otherinfo412</th>\n",
       "      <th>Otherinfo413</th>\n",
       "      <th>Otherinfo414</th>\n",
       "      <th>Otherinfo415</th>\n",
       "      <th>Otherinfo416</th>\n",
       "    </tr>\n",
       "  </thead>\n",
       "  <tbody>\n",
       "    <tr>\n",
       "      <th>11</th>\n",
       "      <td>9</td>\n",
       "      <td>129111606</td>\n",
       "      <td>129111606</td>\n",
       "      <td>T</td>\n",
       "      <td>C</td>\n",
       "      <td>exonic</td>\n",
       "      <td>PTPA</td>\n",
       "      <td>.</td>\n",
       "      <td>synonymous SNV</td>\n",
       "      <td>PTPA:NM_001271832:exon1:c.T6C:p.A2A,PTPA:NM_17...</td>\n",
       "      <td>...</td>\n",
       "      <td>0/0</td>\n",
       "      <td>0/0</td>\n",
       "      <td>0/0</td>\n",
       "      <td>0/0</td>\n",
       "      <td>0/0</td>\n",
       "      <td>0/0</td>\n",
       "      <td>0/0</td>\n",
       "      <td>0/0</td>\n",
       "      <td>0/0</td>\n",
       "      <td>0/1</td>\n",
       "    </tr>\n",
       "    <tr>\n",
       "      <th>96</th>\n",
       "      <td>9</td>\n",
       "      <td>129123135</td>\n",
       "      <td>129123135</td>\n",
       "      <td>C</td>\n",
       "      <td>T</td>\n",
       "      <td>exonic</td>\n",
       "      <td>PTPA</td>\n",
       "      <td>.</td>\n",
       "      <td>synonymous SNV</td>\n",
       "      <td>PTPA:NM_001193397:exon3:c.C108T:p.S36S,PTPA:NM...</td>\n",
       "      <td>...</td>\n",
       "      <td>0/0</td>\n",
       "      <td>0/0</td>\n",
       "      <td>0/0</td>\n",
       "      <td>0/0</td>\n",
       "      <td>0/0</td>\n",
       "      <td>0/0</td>\n",
       "      <td>0/0</td>\n",
       "      <td>0/0</td>\n",
       "      <td>0/0</td>\n",
       "      <td>0/0</td>\n",
       "    </tr>\n",
       "    <tr>\n",
       "      <th>184</th>\n",
       "      <td>9</td>\n",
       "      <td>129134882</td>\n",
       "      <td>129134882</td>\n",
       "      <td>A</td>\n",
       "      <td>C</td>\n",
       "      <td>exonic</td>\n",
       "      <td>PTPA</td>\n",
       "      <td>.</td>\n",
       "      <td>nonsynonymous SNV</td>\n",
       "      <td>PTPA:NM_001271832:exon5:c.A461C:p.K154T,PTPA:N...</td>\n",
       "      <td>...</td>\n",
       "      <td>0/0</td>\n",
       "      <td>0/0</td>\n",
       "      <td>0/0</td>\n",
       "      <td>0/0</td>\n",
       "      <td>0/0</td>\n",
       "      <td>0/0</td>\n",
       "      <td>0/0</td>\n",
       "      <td>0/0</td>\n",
       "      <td>0/0</td>\n",
       "      <td>0/0</td>\n",
       "    </tr>\n",
       "    <tr>\n",
       "      <th>199</th>\n",
       "      <td>9</td>\n",
       "      <td>129136522</td>\n",
       "      <td>129136522</td>\n",
       "      <td>C</td>\n",
       "      <td>T</td>\n",
       "      <td>exonic</td>\n",
       "      <td>PTPA</td>\n",
       "      <td>.</td>\n",
       "      <td>synonymous SNV</td>\n",
       "      <td>PTPA:NM_001271832:exon6:c.C525T:p.A175A,PTPA:N...</td>\n",
       "      <td>...</td>\n",
       "      <td>0/0</td>\n",
       "      <td>0/0</td>\n",
       "      <td>0/0</td>\n",
       "      <td>0/0</td>\n",
       "      <td>0/0</td>\n",
       "      <td>0/0</td>\n",
       "      <td>0/0</td>\n",
       "      <td>0/0</td>\n",
       "      <td>0/0</td>\n",
       "      <td>0/0</td>\n",
       "    </tr>\n",
       "    <tr>\n",
       "      <th>286</th>\n",
       "      <td>9</td>\n",
       "      <td>129147457</td>\n",
       "      <td>129147457</td>\n",
       "      <td>C</td>\n",
       "      <td>T</td>\n",
       "      <td>exonic</td>\n",
       "      <td>PTPA</td>\n",
       "      <td>.</td>\n",
       "      <td>nonsynonymous SNV</td>\n",
       "      <td>PTPA:NM_001271832:exon9:c.C878T:p.S293L,PTPA:N...</td>\n",
       "      <td>...</td>\n",
       "      <td>0/0</td>\n",
       "      <td>0/0</td>\n",
       "      <td>0/0</td>\n",
       "      <td>0/0</td>\n",
       "      <td>0/0</td>\n",
       "      <td>0/0</td>\n",
       "      <td>0/0</td>\n",
       "      <td>0/0</td>\n",
       "      <td>0/0</td>\n",
       "      <td>0/0</td>\n",
       "    </tr>\n",
       "  </tbody>\n",
       "</table>\n",
       "<p>5 rows × 427 columns</p>\n",
       "</div>"
      ],
      "text/plain": [
       "     Chr      Start        End Ref Alt Func.refGene Gene.refGene  \\\n",
       "11     9  129111606  129111606   T   C       exonic         PTPA   \n",
       "96     9  129123135  129123135   C   T       exonic         PTPA   \n",
       "184    9  129134882  129134882   A   C       exonic         PTPA   \n",
       "199    9  129136522  129136522   C   T       exonic         PTPA   \n",
       "286    9  129147457  129147457   C   T       exonic         PTPA   \n",
       "\n",
       "    GeneDetail.refGene ExonicFunc.refGene  \\\n",
       "11                   .     synonymous SNV   \n",
       "96                   .     synonymous SNV   \n",
       "184                  .  nonsynonymous SNV   \n",
       "199                  .     synonymous SNV   \n",
       "286                  .  nonsynonymous SNV   \n",
       "\n",
       "                                      AAChange.refGene  ... Otherinfo407  \\\n",
       "11   PTPA:NM_001271832:exon1:c.T6C:p.A2A,PTPA:NM_17...  ...          0/0   \n",
       "96   PTPA:NM_001193397:exon3:c.C108T:p.S36S,PTPA:NM...  ...          0/0   \n",
       "184  PTPA:NM_001271832:exon5:c.A461C:p.K154T,PTPA:N...  ...          0/0   \n",
       "199  PTPA:NM_001271832:exon6:c.C525T:p.A175A,PTPA:N...  ...          0/0   \n",
       "286  PTPA:NM_001271832:exon9:c.C878T:p.S293L,PTPA:N...  ...          0/0   \n",
       "\n",
       "     Otherinfo408 Otherinfo409 Otherinfo410  Otherinfo411  Otherinfo412  \\\n",
       "11            0/0          0/0          0/0           0/0           0/0   \n",
       "96            0/0          0/0          0/0           0/0           0/0   \n",
       "184           0/0          0/0          0/0           0/0           0/0   \n",
       "199           0/0          0/0          0/0           0/0           0/0   \n",
       "286           0/0          0/0          0/0           0/0           0/0   \n",
       "\n",
       "    Otherinfo413 Otherinfo414 Otherinfo415 Otherinfo416  \n",
       "11           0/0          0/0          0/0          0/1  \n",
       "96           0/0          0/0          0/0          0/0  \n",
       "184          0/0          0/0          0/0          0/0  \n",
       "199          0/0          0/0          0/0          0/0  \n",
       "286          0/0          0/0          0/0          0/0  \n",
       "\n",
       "[5 rows x 427 columns]"
      ]
     },
     "execution_count": 33,
     "metadata": {},
     "output_type": "execute_result"
    }
   ],
   "source": [
    "# Filter exonic variants\n",
    "coding_AFR = PP2A_AFR[PP2A_AFR['Func.refGene'] == 'exonic']\n",
    "coding_AFR.count()\n",
    "coding_AFR.head(5)"
   ]
  },
  {
   "cell_type": "code",
   "execution_count": 34,
   "metadata": {
    "collapsed": true
   },
   "outputs": [
    {
     "data": {
      "text/plain": [
       "184    427\n",
       "286    427\n",
       "dtype: int64"
      ]
     },
     "execution_count": 34,
     "metadata": {},
     "output_type": "execute_result"
    }
   ],
   "source": [
    "# Filter exonic and non-syn vars\n",
    "coding_nonsynonymous_AFR = PP2A_AFR[(PP2A_AFR['Func.refGene'] == 'exonic') & (PP2A_AFR['ExonicFunc.refGene'] == 'nonsynonymous SNV')]\n",
    "coding_nonsynonymous_AFR.count(1)"
   ]
  },
  {
   "cell_type": "code",
   "execution_count": 35,
   "metadata": {
    "collapsed": true
   },
   "outputs": [
    {
     "data": {
      "text/html": [
       "<div>\n",
       "<style scoped>\n",
       "    .dataframe tbody tr th:only-of-type {\n",
       "        vertical-align: middle;\n",
       "    }\n",
       "\n",
       "    .dataframe tbody tr th {\n",
       "        vertical-align: top;\n",
       "    }\n",
       "\n",
       "    .dataframe thead th {\n",
       "        text-align: right;\n",
       "    }\n",
       "</style>\n",
       "<table border=\"1\" class=\"dataframe\">\n",
       "  <thead>\n",
       "    <tr style=\"text-align: right;\">\n",
       "      <th></th>\n",
       "      <th>Chr</th>\n",
       "      <th>Start</th>\n",
       "      <th>End</th>\n",
       "      <th>Ref</th>\n",
       "      <th>Alt</th>\n",
       "      <th>Func.refGene</th>\n",
       "      <th>Gene.refGene</th>\n",
       "      <th>GeneDetail.refGene</th>\n",
       "      <th>ExonicFunc.refGene</th>\n",
       "      <th>AAChange.refGene</th>\n",
       "      <th>...</th>\n",
       "      <th>Otherinfo407</th>\n",
       "      <th>Otherinfo408</th>\n",
       "      <th>Otherinfo409</th>\n",
       "      <th>Otherinfo410</th>\n",
       "      <th>Otherinfo411</th>\n",
       "      <th>Otherinfo412</th>\n",
       "      <th>Otherinfo413</th>\n",
       "      <th>Otherinfo414</th>\n",
       "      <th>Otherinfo415</th>\n",
       "      <th>Otherinfo416</th>\n",
       "    </tr>\n",
       "  </thead>\n",
       "  <tbody>\n",
       "    <tr>\n",
       "      <th>184</th>\n",
       "      <td>9</td>\n",
       "      <td>129134882</td>\n",
       "      <td>129134882</td>\n",
       "      <td>A</td>\n",
       "      <td>C</td>\n",
       "      <td>exonic</td>\n",
       "      <td>PTPA</td>\n",
       "      <td>.</td>\n",
       "      <td>nonsynonymous SNV</td>\n",
       "      <td>PTPA:NM_001271832:exon5:c.A461C:p.K154T,PTPA:N...</td>\n",
       "      <td>...</td>\n",
       "      <td>0/0</td>\n",
       "      <td>0/0</td>\n",
       "      <td>0/0</td>\n",
       "      <td>0/0</td>\n",
       "      <td>0/0</td>\n",
       "      <td>0/0</td>\n",
       "      <td>0/0</td>\n",
       "      <td>0/0</td>\n",
       "      <td>0/0</td>\n",
       "      <td>0/0</td>\n",
       "    </tr>\n",
       "  </tbody>\n",
       "</table>\n",
       "<p>1 rows × 427 columns</p>\n",
       "</div>"
      ],
      "text/plain": [
       "     Chr      Start        End Ref Alt Func.refGene Gene.refGene  \\\n",
       "184    9  129134882  129134882   A   C       exonic         PTPA   \n",
       "\n",
       "    GeneDetail.refGene ExonicFunc.refGene  \\\n",
       "184                  .  nonsynonymous SNV   \n",
       "\n",
       "                                      AAChange.refGene  ... Otherinfo407  \\\n",
       "184  PTPA:NM_001271832:exon5:c.A461C:p.K154T,PTPA:N...  ...          0/0   \n",
       "\n",
       "     Otherinfo408 Otherinfo409 Otherinfo410  Otherinfo411  Otherinfo412  \\\n",
       "184           0/0          0/0          0/0           0/0           0/0   \n",
       "\n",
       "    Otherinfo413 Otherinfo414 Otherinfo415 Otherinfo416  \n",
       "184          0/0          0/0          0/0          0/0  \n",
       "\n",
       "[1 rows x 427 columns]"
      ]
     },
     "execution_count": 35,
     "metadata": {},
     "output_type": "execute_result"
    }
   ],
   "source": [
    "coding_nonsynonymous_AFR.head(1)"
   ]
  },
  {
   "cell_type": "code",
   "execution_count": 36,
   "metadata": {
    "collapsed": true
   },
   "outputs": [
    {
     "name": "stdout",
     "output_type": "stream",
     "text": [
      "     Chr      Start        End Ref Alt Func.refGene Gene.refGene  \\\n",
      "184    9  129134882  129134882   A   C       exonic         PTPA   \n",
      "286    9  129147457  129147457   C   T       exonic         PTPA   \n",
      "\n",
      "    GeneDetail.refGene ExonicFunc.refGene  \\\n",
      "184                  .  nonsynonymous SNV   \n",
      "286                  .  nonsynonymous SNV   \n",
      "\n",
      "                                      AAChange.refGene  ... Otherinfo407  \\\n",
      "184  PTPA:NM_001271832:exon5:c.A461C:p.K154T,PTPA:N...  ...          0/0   \n",
      "286  PTPA:NM_001271832:exon9:c.C878T:p.S293L,PTPA:N...  ...          0/0   \n",
      "\n",
      "     Otherinfo408 Otherinfo409 Otherinfo410  Otherinfo411  Otherinfo412  \\\n",
      "184           0/0          0/0          0/0           0/0           0/0   \n",
      "286           0/0          0/0          0/0           0/0           0/0   \n",
      "\n",
      "    Otherinfo413 Otherinfo414 Otherinfo415 Otherinfo416  \n",
      "184          0/0          0/0          0/0          0/0  \n",
      "286          0/0          0/0          0/0          0/0  \n",
      "\n",
      "[2 rows x 427 columns]\n"
     ]
    }
   ],
   "source": [
    "print(coding_nonsynonymous_AFR)"
   ]
  },
  {
   "cell_type": "code",
   "execution_count": 37,
   "metadata": {
    "collapsed": true
   },
   "outputs": [
    {
     "data": {
      "text/html": [
       "<div>\n",
       "<style scoped>\n",
       "    .dataframe tbody tr th:only-of-type {\n",
       "        vertical-align: middle;\n",
       "    }\n",
       "\n",
       "    .dataframe tbody tr th {\n",
       "        vertical-align: top;\n",
       "    }\n",
       "\n",
       "    .dataframe thead th {\n",
       "        text-align: right;\n",
       "    }\n",
       "</style>\n",
       "<table border=\"1\" class=\"dataframe\">\n",
       "  <thead>\n",
       "    <tr style=\"text-align: right;\">\n",
       "      <th></th>\n",
       "      <th>Chr</th>\n",
       "      <th>Start</th>\n",
       "      <th>End</th>\n",
       "      <th>Ref</th>\n",
       "      <th>Alt</th>\n",
       "      <th>Func.refGene</th>\n",
       "      <th>Gene.refGene</th>\n",
       "      <th>GeneDetail.refGene</th>\n",
       "      <th>ExonicFunc.refGene</th>\n",
       "      <th>AAChange.refGene</th>\n",
       "      <th>...</th>\n",
       "      <th>Otherinfo407</th>\n",
       "      <th>Otherinfo408</th>\n",
       "      <th>Otherinfo409</th>\n",
       "      <th>Otherinfo410</th>\n",
       "      <th>Otherinfo411</th>\n",
       "      <th>Otherinfo412</th>\n",
       "      <th>Otherinfo413</th>\n",
       "      <th>Otherinfo414</th>\n",
       "      <th>Otherinfo415</th>\n",
       "      <th>Otherinfo416</th>\n",
       "    </tr>\n",
       "  </thead>\n",
       "  <tbody>\n",
       "    <tr>\n",
       "      <th>184</th>\n",
       "      <td>9</td>\n",
       "      <td>129134882</td>\n",
       "      <td>129134882</td>\n",
       "      <td>A</td>\n",
       "      <td>C</td>\n",
       "      <td>exonic</td>\n",
       "      <td>PTPA</td>\n",
       "      <td>.</td>\n",
       "      <td>nonsynonymous SNV</td>\n",
       "      <td>PTPA:NM_001271832:exon5:c.A461C:p.K154T,PTPA:N...</td>\n",
       "      <td>...</td>\n",
       "      <td>0/0</td>\n",
       "      <td>0/0</td>\n",
       "      <td>0/0</td>\n",
       "      <td>0/0</td>\n",
       "      <td>0/0</td>\n",
       "      <td>0/0</td>\n",
       "      <td>0/0</td>\n",
       "      <td>0/0</td>\n",
       "      <td>0/0</td>\n",
       "      <td>0/0</td>\n",
       "    </tr>\n",
       "    <tr>\n",
       "      <th>286</th>\n",
       "      <td>9</td>\n",
       "      <td>129147457</td>\n",
       "      <td>129147457</td>\n",
       "      <td>C</td>\n",
       "      <td>T</td>\n",
       "      <td>exonic</td>\n",
       "      <td>PTPA</td>\n",
       "      <td>.</td>\n",
       "      <td>nonsynonymous SNV</td>\n",
       "      <td>PTPA:NM_001271832:exon9:c.C878T:p.S293L,PTPA:N...</td>\n",
       "      <td>...</td>\n",
       "      <td>0/0</td>\n",
       "      <td>0/0</td>\n",
       "      <td>0/0</td>\n",
       "      <td>0/0</td>\n",
       "      <td>0/0</td>\n",
       "      <td>0/0</td>\n",
       "      <td>0/0</td>\n",
       "      <td>0/0</td>\n",
       "      <td>0/0</td>\n",
       "      <td>0/0</td>\n",
       "    </tr>\n",
       "  </tbody>\n",
       "</table>\n",
       "<p>2 rows × 427 columns</p>\n",
       "</div>"
      ],
      "text/plain": [
       "     Chr      Start        End Ref Alt Func.refGene Gene.refGene  \\\n",
       "184    9  129134882  129134882   A   C       exonic         PTPA   \n",
       "286    9  129147457  129147457   C   T       exonic         PTPA   \n",
       "\n",
       "    GeneDetail.refGene ExonicFunc.refGene  \\\n",
       "184                  .  nonsynonymous SNV   \n",
       "286                  .  nonsynonymous SNV   \n",
       "\n",
       "                                      AAChange.refGene  ... Otherinfo407  \\\n",
       "184  PTPA:NM_001271832:exon5:c.A461C:p.K154T,PTPA:N...  ...          0/0   \n",
       "286  PTPA:NM_001271832:exon9:c.C878T:p.S293L,PTPA:N...  ...          0/0   \n",
       "\n",
       "     Otherinfo408 Otherinfo409 Otherinfo410  Otherinfo411  Otherinfo412  \\\n",
       "184           0/0          0/0          0/0           0/0           0/0   \n",
       "286           0/0          0/0          0/0           0/0           0/0   \n",
       "\n",
       "    Otherinfo413 Otherinfo414 Otherinfo415 Otherinfo416  \n",
       "184          0/0          0/0          0/0          0/0  \n",
       "286          0/0          0/0          0/0          0/0  \n",
       "\n",
       "[2 rows x 427 columns]"
      ]
     },
     "execution_count": 37,
     "metadata": {},
     "output_type": "execute_result"
    }
   ],
   "source": [
    "coding_nonsynonymous_AFR.to_csv(f'{WORK_DIR}/coding_nonsynonymous.txt', sep = '\\t', index = False)\n",
    "coding_nonsynonymous_AFR.head(9)"
   ]
  },
  {
   "cell_type": "code",
   "execution_count": 38,
   "metadata": {
    "collapsed": true
   },
   "outputs": [
    {
     "data": {
      "text/plain": [
       "Chr             276\n",
       "Start           276\n",
       "End             276\n",
       "Ref             276\n",
       "Alt             276\n",
       "               ... \n",
       "Otherinfo412    276\n",
       "Otherinfo413    276\n",
       "Otherinfo414    276\n",
       "Otherinfo415    276\n",
       "Otherinfo416    276\n",
       "Length: 427, dtype: int64"
      ]
     },
     "execution_count": 38,
     "metadata": {},
     "output_type": "execute_result"
    }
   ],
   "source": [
    "# Filter intronic variants\n",
    "intronic_AFR = PP2A_AFR[PP2A_AFR['Func.refGene'] == 'intronic']\n",
    "intronic_AFR.count()"
   ]
  },
  {
   "cell_type": "code",
   "execution_count": 39,
   "metadata": {
    "collapsed": true
   },
   "outputs": [
    {
     "data": {
      "text/plain": [
       "Chr             18\n",
       "Start           18\n",
       "End             18\n",
       "Ref             18\n",
       "Alt             18\n",
       "                ..\n",
       "Otherinfo412    18\n",
       "Otherinfo413    18\n",
       "Otherinfo414    18\n",
       "Otherinfo415    18\n",
       "Otherinfo416    18\n",
       "Length: 427, dtype: int64"
      ]
     },
     "execution_count": 39,
     "metadata": {},
     "output_type": "execute_result"
    }
   ],
   "source": [
    "# Filter UTR3 variants\n",
    "UTR3_AFR = PP2A_AFR[PP2A_AFR['Func.refGene'] == ('UTR3')]\n",
    "UTR3_AFR.count()"
   ]
  },
  {
   "cell_type": "code",
   "execution_count": 40,
   "metadata": {
    "collapsed": true
   },
   "outputs": [
    {
     "data": {
      "text/plain": [
       "Chr             6\n",
       "Start           6\n",
       "End             6\n",
       "Ref             6\n",
       "Alt             6\n",
       "               ..\n",
       "Otherinfo412    6\n",
       "Otherinfo413    6\n",
       "Otherinfo414    6\n",
       "Otherinfo415    6\n",
       "Otherinfo416    6\n",
       "Length: 427, dtype: int64"
      ]
     },
     "execution_count": 40,
     "metadata": {},
     "output_type": "execute_result"
    }
   ],
   "source": [
    "# Filter UTR5 variants\n",
    "UTR5_AFR = PP2A_AFR[PP2A_AFR['Func.refGene'] == ('UTR5')]\n",
    "UTR5_AFR.count()"
   ]
  },
  {
   "cell_type": "code",
   "execution_count": 41,
   "metadata": {
    "collapsed": true
   },
   "outputs": [],
   "source": [
    "# Calculate freq - cases vs controls"
   ]
  },
  {
   "cell_type": "code",
   "execution_count": 42,
   "metadata": {
    "collapsed": true
   },
   "outputs": [],
   "source": [
    "reduced_coding_nonsynonymous_AFR = coding_nonsynonymous_AFR[[\"Chr\", \"Start\", \"End\", \"Gene.refGene\"]]\n",
    "reduced_coding_nonsynonymous_AFR.to_csv(f'{WORK_DIR}/reduced_coding_nonsynonymous_AFR.txt', sep = '\\t', index = False, header= False)"
   ]
  },
  {
   "cell_type": "code",
   "execution_count": 43,
   "metadata": {
    "collapsed": true
   },
   "outputs": [
    {
     "name": "stdout",
     "output_type": "stream",
     "text": [
      "9\t129134882\t129134882\tPTPA\n",
      "9\t129147457\t129147457\tPTPA\n"
     ]
    }
   ],
   "source": [
    "%%bash\n",
    "\n",
    "WORK_DIR='/home/jupyter/PP2A_GP2/'\n",
    "cd $WORK_DIR\n",
    "\n",
    "head reduced_coding_nonsynonymous_AFR.txt"
   ]
  },
  {
   "cell_type": "code",
   "execution_count": 44,
   "metadata": {
    "collapsed": true
   },
   "outputs": [
    {
     "name": "stdout",
     "output_type": "stream",
     "text": [
      "PLINK v1.90b6.9 64-bit (4 Mar 2019)            www.cog-genomics.org/plink/1.9/\n",
      "(C) 2005-2019 Shaun Purcell, Christopher Chang   GNU General Public License v3\n",
      "Logging to coding_nonsynonymous_pheno_PP2A_AFR.log.\n",
      "Options in effect:\n",
      "  --allow-no-sex\n",
      "  --assoc\n",
      "  --bfile pheno_PP2A_AFR\n",
      "  --ci 0.95\n",
      "  --extract range reduced_coding_nonsynonymous_AFR.txt\n",
      "  --out coding_nonsynonymous_pheno_PP2A_AFR\n",
      "\n",
      "14998 MB RAM detected; reserving 7499 MB for main workspace.\n",
      "305 variants loaded from .bim file.\n",
      "404 people (154 males, 250 females) loaded from .fam.\n",
      "404 phenotype values loaded from .fam.\n",
      "--extract range: 303 variants excluded.\n",
      "--extract range: 2 variants remaining.\n",
      "Using 1 thread (no multithreaded calculations invoked).\n",
      "Before main variant filters, 404 founders and 0 nonfounders present.\n",
      "Calculating allele frequencies... 0%\b\b1%\b\b2%\b\b3%\b\b4%\b\b5%\b\b6%\b\b7%\b\b8%\b\b9%\b\b10%\b\b\b11%\b\b\b12%\b\b\b13%\b\b\b14%\b\b\b15%\b\b\b16%\b\b\b17%\b\b\b18%\b\b\b19%\b\b\b20%\b\b\b21%\b\b\b22%\b\b\b23%\b\b\b24%\b\b\b25%\b\b\b26%\b\b\b27%\b\b\b28%\b\b\b29%\b\b\b30%\b\b\b31%\b\b\b32%\b\b\b33%\b\b\b34%\b\b\b35%\b\b\b36%\b\b\b37%\b\b\b38%\b\b\b39%\b\b\b40%\b\b\b41%\b\b\b42%\b\b\b43%\b\b\b44%\b\b\b45%\b\b\b46%\b\b\b47%\b\b\b48%\b\b\b49%\b\b\b50%\b\b\b51%\b\b\b52%\b\b\b53%\b\b\b54%\b\b\b55%\b\b\b56%\b\b\b57%\b\b\b58%\b\b\b59%\b\b\b60%\b\b\b61%\b\b\b62%\b\b\b63%\b\b\b64%\b\b\b65%\b\b\b66%\b\b\b67%\b\b\b68%\b\b\b69%\b\b\b70%\b\b\b71%\b\b\b72%\b\b\b73%\b\b\b74%\b\b\b75%\b\b\b76%\b\b\b77%\b\b\b78%\b\b\b79%\b\b\b80%\b\b\b81%\b\b\b82%\b\b\b83%\b\b\b84%\b\b\b85%\b\b\b86%\b\b\b87%\b\b\b88%\b\b\b89%\b\b\b90%\b\b\b91%\b\b\b92%\b\b\b93%\b\b\b94%\b\b\b95%\b\b\b96%\b\b\b97%\b\b\b98%\b\b\b99%\b\b\b\b done.\n",
      "Total genotyping rate is 0.996287.\n",
      "2 variants and 404 people pass filters and QC.\n",
      "Among remaining phenotypes, 49 are cases and 355 are controls.\n",
      "Writing C/C --assoc report to coding_nonsynonymous_pheno_PP2A_AFR.assoc ...\n",
      "0%\b\bdone.\n"
     ]
    }
   ],
   "source": [
    "%%bash\n",
    "\n",
    "WORK_DIR='/home/jupyter/PP2A_GP2/'\n",
    "cd $WORK_DIR\n",
    "\n",
    "/home/jupyter/tools/plink --bfile pheno_PP2A_AFR --extract range reduced_coding_nonsynonymous_AFR.txt --assoc --out coding_nonsynonymous_pheno_PP2A_AFR --allow-no-sex --ci 0.95"
   ]
  },
  {
   "cell_type": "code",
   "execution_count": 45,
   "metadata": {
    "collapsed": true
   },
   "outputs": [
    {
     "name": "stdout",
     "output_type": "stream",
     "text": [
      "PLINK v1.90b6.9 64-bit (4 Mar 2019)            www.cog-genomics.org/plink/1.9/\n",
      "(C) 2005-2019 Shaun Purcell, Christopher Chang   GNU General Public License v3\n",
      "Logging to coding_nonsynonymous_AFR_rare_0.05.log.\n",
      "Options in effect:\n",
      "  --allow-no-sex\n",
      "  --bfile pheno_PP2A_AFR\n",
      "  --extract range reduced_coding_nonsynonymous_AFR.txt\n",
      "  --make-bed\n",
      "  --max-maf 0.05\n",
      "  --out coding_nonsynonymous_AFR_rare_0.05\n",
      "\n",
      "14998 MB RAM detected; reserving 7499 MB for main workspace.\n",
      "305 variants loaded from .bim file.\n",
      "404 people (154 males, 250 females) loaded from .fam.\n",
      "404 phenotype values loaded from .fam.\n",
      "--extract range: 303 variants excluded.\n",
      "--extract range: 2 variants remaining.\n",
      "Using 1 thread (no multithreaded calculations invoked).\n",
      "Before main variant filters, 404 founders and 0 nonfounders present.\n",
      "Calculating allele frequencies... 0%\b\b1%\b\b2%\b\b3%\b\b4%\b\b5%\b\b6%\b\b7%\b\b8%\b\b9%\b\b10%\b\b\b11%\b\b\b12%\b\b\b13%\b\b\b14%\b\b\b15%\b\b\b16%\b\b\b17%\b\b\b18%\b\b\b19%\b\b\b20%\b\b\b21%\b\b\b22%\b\b\b23%\b\b\b24%\b\b\b25%\b\b\b26%\b\b\b27%\b\b\b28%\b\b\b29%\b\b\b30%\b\b\b31%\b\b\b32%\b\b\b33%\b\b\b34%\b\b\b35%\b\b\b36%\b\b\b37%\b\b\b38%\b\b\b39%\b\b\b40%\b\b\b41%\b\b\b42%\b\b\b43%\b\b\b44%\b\b\b45%\b\b\b46%\b\b\b47%\b\b\b48%\b\b\b49%\b\b\b50%\b\b\b51%\b\b\b52%\b\b\b53%\b\b\b54%\b\b\b55%\b\b\b56%\b\b\b57%\b\b\b58%\b\b\b59%\b\b\b60%\b\b\b61%\b\b\b62%\b\b\b63%\b\b\b64%\b\b\b65%\b\b\b66%\b\b\b67%\b\b\b68%\b\b\b69%\b\b\b70%\b\b\b71%\b\b\b72%\b\b\b73%\b\b\b74%\b\b\b75%\b\b\b76%\b\b\b77%\b\b\b78%\b\b\b79%\b\b\b80%\b\b\b81%\b\b\b82%\b\b\b83%\b\b\b84%\b\b\b85%\b\b\b86%\b\b\b87%\b\b\b88%\b\b\b89%\b\b\b90%\b\b\b91%\b\b\b92%\b\b\b93%\b\b\b94%\b\b\b95%\b\b\b96%\b\b\b97%\b\b\b98%\b\b\b99%\b\b\b\b done.\n",
      "Total genotyping rate is 0.996287.\n",
      "0 variants removed due to minor allele threshold(s)\n",
      "(--maf/--max-maf/--mac/--max-mac).\n",
      "2 variants and 404 people pass filters and QC.\n",
      "Among remaining phenotypes, 49 are cases and 355 are controls.\n",
      "--make-bed to coding_nonsynonymous_AFR_rare_0.05.bed +\n",
      "coding_nonsynonymous_AFR_rare_0.05.bim + coding_nonsynonymous_AFR_rare_0.05.fam\n",
      "... 0%\b\b1%\b\b2%\b\b3%\b\b4%\b\b5%\b\b6%\b\b7%\b\b8%\b\b9%\b\b10%\b\b\b11%\b\b\b12%\b\b\b13%\b\b\b14%\b\b\b15%\b\b\b16%\b\b\b17%\b\b\b18%\b\b\b19%\b\b\b20%\b\b\b21%\b\b\b22%\b\b\b23%\b\b\b24%\b\b\b25%\b\b\b26%\b\b\b27%\b\b\b28%\b\b\b29%\b\b\b30%\b\b\b31%\b\b\b32%\b\b\b33%\b\b\b34%\b\b\b35%\b\b\b36%\b\b\b37%\b\b\b38%\b\b\b39%\b\b\b40%\b\b\b41%\b\b\b42%\b\b\b43%\b\b\b44%\b\b\b45%\b\b\b46%\b\b\b47%\b\b\b48%\b\b\b49%\b\b\b50%\b\b\b51%\b\b\b52%\b\b\b53%\b\b\b54%\b\b\b55%\b\b\b56%\b\b\b57%\b\b\b58%\b\b\b59%\b\b\b60%\b\b\b61%\b\b\b62%\b\b\b63%\b\b\b64%\b\b\b65%\b\b\b66%\b\b\b67%\b\b\b68%\b\b\b69%\b\b\b70%\b\b\b71%\b\b\b72%\b\b\b73%\b\b\b74%\b\b\b75%\b\b\b76%\b\b\b77%\b\b\b78%\b\b\b79%\b\b\b80%\b\b\b81%\b\b\b82%\b\b\b83%\b\b\b84%\b\b\b85%\b\b\b86%\b\b\b87%\b\b\b88%\b\b\b89%\b\b\b90%\b\b\b91%\b\b\b92%\b\b\b93%\b\b\b94%\b\b\b95%\b\b\b96%\b\b\b97%\b\b\b98%\b\b\b99%\b\b\bdone.\n"
     ]
    }
   ],
   "source": [
    "%%bash\n",
    "\n",
    "WORK_DIR='/home/jupyter/PP2A_GP2/'\n",
    "cd $WORK_DIR\n",
    "\n",
    "/home/jupyter/tools/plink --bfile pheno_PP2A_AFR --extract range reduced_coding_nonsynonymous_AFR.txt --make-bed --max-maf 0.05 --out coding_nonsynonymous_AFR_rare_0.05 --allow-no-sex"
   ]
  },
  {
   "cell_type": "code",
   "execution_count": 46,
   "metadata": {
    "collapsed": true
   },
   "outputs": [
    {
     "data": {
      "text/html": [
       "<div>\n",
       "<style scoped>\n",
       "    .dataframe tbody tr th:only-of-type {\n",
       "        vertical-align: middle;\n",
       "    }\n",
       "\n",
       "    .dataframe tbody tr th {\n",
       "        vertical-align: top;\n",
       "    }\n",
       "\n",
       "    .dataframe thead th {\n",
       "        text-align: right;\n",
       "    }\n",
       "</style>\n",
       "<table border=\"1\" class=\"dataframe\">\n",
       "  <thead>\n",
       "    <tr style=\"text-align: right;\">\n",
       "      <th></th>\n",
       "      <th>CHR</th>\n",
       "      <th>SNP</th>\n",
       "      <th>BP</th>\n",
       "      <th>A1</th>\n",
       "      <th>F_A</th>\n",
       "      <th>F_U</th>\n",
       "      <th>A2</th>\n",
       "      <th>CHISQ</th>\n",
       "      <th>P</th>\n",
       "      <th>OR</th>\n",
       "      <th>SE</th>\n",
       "      <th>L95</th>\n",
       "      <th>U95</th>\n",
       "    </tr>\n",
       "  </thead>\n",
       "  <tbody>\n",
       "    <tr>\n",
       "      <th>0</th>\n",
       "      <td>9</td>\n",
       "      <td>chr9:129134882:A:C</td>\n",
       "      <td>129134882</td>\n",
       "      <td>C</td>\n",
       "      <td>0.00000</td>\n",
       "      <td>0.004249</td>\n",
       "      <td>A</td>\n",
       "      <td>0.418</td>\n",
       "      <td>0.5179</td>\n",
       "      <td>0.000</td>\n",
       "      <td>inf</td>\n",
       "      <td>0.0000</td>\n",
       "      <td>NaN</td>\n",
       "    </tr>\n",
       "    <tr>\n",
       "      <th>1</th>\n",
       "      <td>9</td>\n",
       "      <td>chr9:129147457:C:T</td>\n",
       "      <td>129147457</td>\n",
       "      <td>T</td>\n",
       "      <td>0.02041</td>\n",
       "      <td>0.008475</td>\n",
       "      <td>C</td>\n",
       "      <td>1.248</td>\n",
       "      <td>0.2640</td>\n",
       "      <td>2.438</td>\n",
       "      <td>0.8237</td>\n",
       "      <td>0.4851</td>\n",
       "      <td>12.25</td>\n",
       "    </tr>\n",
       "  </tbody>\n",
       "</table>\n",
       "</div>"
      ],
      "text/plain": [
       "   CHR                 SNP         BP A1      F_A       F_U A2  CHISQ       P  \\\n",
       "0    9  chr9:129134882:A:C  129134882  C  0.00000  0.004249  A  0.418  0.5179   \n",
       "1    9  chr9:129147457:C:T  129147457  T  0.02041  0.008475  C  1.248  0.2640   \n",
       "\n",
       "      OR      SE     L95    U95  \n",
       "0  0.000     inf  0.0000    NaN  \n",
       "1  2.438  0.8237  0.4851  12.25  "
      ]
     },
     "execution_count": 46,
     "metadata": {},
     "output_type": "execute_result"
    }
   ],
   "source": [
    "PP2A_AFR_freq = pd.read_csv(f'{WORK_DIR}/coding_nonsynonymous_pheno_PP2A_AFR.assoc', delim_whitespace=True)\n",
    "PP2A_AFR_freq.head(10)"
   ]
  },
  {
   "cell_type": "code",
   "execution_count": 47,
   "metadata": {
    "collapsed": true
   },
   "outputs": [
    {
     "name": "stdout",
     "output_type": "stream",
     "text": [
      "PLINK v1.90b6.9 64-bit (4 Mar 2019)            www.cog-genomics.org/plink/1.9/\n",
      "(C) 2005-2019 Shaun Purcell, Christopher Chang   GNU General Public License v3\n",
      "Logging to coding_nonsynonymous_pheno_PP2A_AFR.log.\n",
      "Options in effect:\n",
      "  --adjust\n",
      "  --allow-no-sex\n",
      "  --assoc\n",
      "  --bfile pheno_PP2A_AFR\n",
      "  --extract range reduced_coding_nonsynonymous_AFR.txt\n",
      "  --out coding_nonsynonymous_pheno_PP2A_AFR\n",
      "\n",
      "14998 MB RAM detected; reserving 7499 MB for main workspace.\n",
      "305 variants loaded from .bim file.\n",
      "404 people (154 males, 250 females) loaded from .fam.\n",
      "404 phenotype values loaded from .fam.\n",
      "--extract range: 303 variants excluded.\n",
      "--extract range: 2 variants remaining.\n",
      "Using 1 thread (no multithreaded calculations invoked).\n",
      "Before main variant filters, 404 founders and 0 nonfounders present.\n",
      "Calculating allele frequencies... 0%\b\b1%\b\b2%\b\b3%\b\b4%\b\b5%\b\b6%\b\b7%\b\b8%\b\b9%\b\b10%\b\b\b11%\b\b\b12%\b\b\b13%\b\b\b14%\b\b\b15%\b\b\b16%\b\b\b17%\b\b\b18%\b\b\b19%\b\b\b20%\b\b\b21%\b\b\b22%\b\b\b23%\b\b\b24%\b\b\b25%\b\b\b26%\b\b\b27%\b\b\b28%\b\b\b29%\b\b\b30%\b\b\b31%\b\b\b32%\b\b\b33%\b\b\b34%\b\b\b35%\b\b\b36%\b\b\b37%\b\b\b38%\b\b\b39%\b\b\b40%\b\b\b41%\b\b\b42%\b\b\b43%\b\b\b44%\b\b\b45%\b\b\b46%\b\b\b47%\b\b\b48%\b\b\b49%\b\b\b50%\b\b\b51%\b\b\b52%\b\b\b53%\b\b\b54%\b\b\b55%\b\b\b56%\b\b\b57%\b\b\b58%\b\b\b59%\b\b\b60%\b\b\b61%\b\b\b62%\b\b\b63%\b\b\b64%\b\b\b65%\b\b\b66%\b\b\b67%\b\b\b68%\b\b\b69%\b\b\b70%\b\b\b71%\b\b\b72%\b\b\b73%\b\b\b74%\b\b\b75%\b\b\b76%\b\b\b77%\b\b\b78%\b\b\b79%\b\b\b80%\b\b\b81%\b\b\b82%\b\b\b83%\b\b\b84%\b\b\b85%\b\b\b86%\b\b\b87%\b\b\b88%\b\b\b89%\b\b\b90%\b\b\b91%\b\b\b92%\b\b\b93%\b\b\b94%\b\b\b95%\b\b\b96%\b\b\b97%\b\b\b98%\b\b\b99%\b\b\b\b done.\n",
      "Total genotyping rate is 0.996287.\n",
      "2 variants and 404 people pass filters and QC.\n",
      "Among remaining phenotypes, 49 are cases and 355 are controls.\n",
      "Writing C/C --assoc report to coding_nonsynonymous_pheno_PP2A_AFR.assoc ...\n",
      "0%\b\bdone.\n",
      "--adjust: Genomic inflation est. lambda (based on median chisq) = 1.8262.\n",
      "0%\b\b1%\b\b2%\b\b3%\b\b4%\b\b5%\b\b6%\b\b7%\b\b8%\b\b9%\b\b10%\b\b\b11%\b\b\b12%\b\b\b13%\b\b\b14%\b\b\b15%\b\b\b16%\b\b\b17%\b\b\b18%\b\b\b19%\b\b\b20%\b\b\b21%\b\b\b22%\b\b\b23%\b\b\b24%\b\b\b25%\b\b\b26%\b\b\b27%\b\b\b28%\b\b\b29%\b\b\b30%\b\b\b31%\b\b\b32%\b\b\b33%\b\b\b34%\b\b\b35%\b\b\b36%\b\b\b37%\b\b\b38%\b\b\b39%\b\b\b40%\b\b\b41%\b\b\b42%\b\b\b43%\b\b\b44%\b\b\b45%\b\b\b46%\b\b\b47%\b\b\b48%\b\b\b49%\b\b\b50%\b\b\b51%\b\b\b52%\b\b\b53%\b\b\b54%\b\b\b55%\b\b\b56%\b\b\b57%\b\b\b58%\b\b\b59%\b\b\b60%\b\b\b61%\b\b\b62%\b\b\b63%\b\b\b64%\b\b\b65%\b\b\b66%\b\b\b67%\b\b\b68%\b\b\b69%\b\b\b70%\b\b\b71%\b\b\b72%\b\b\b73%\b\b\b74%\b\b\b75%\b\b\b76%\b\b\b77%\b\b\b78%\b\b\b79%\b\b\b80%\b\b\b81%\b\b\b82%\b\b\b83%\b\b\b84%\b\b\b85%\b\b\b86%\b\b\b87%\b\b\b88%\b\b\b89%\b\b\b90%\b\b\b91%\b\b\b92%\b\b\b93%\b\b\b94%\b\b\b95%\b\b\b96%\b\b\b97%\b\b\b98%\b\b\b99%\b\b\b--adjust values (2 variants) written to\n",
      "coding_nonsynonymous_pheno_PP2A_AFR.assoc.adjusted .\n"
     ]
    }
   ],
   "source": [
    "%%bash\n",
    "\n",
    "WORK_DIR='/home/jupyter/PP2A_GP2/'\n",
    "cd $WORK_DIR\n",
    "\n",
    "/home/jupyter/tools/plink --bfile pheno_PP2A_AFR --extract range reduced_coding_nonsynonymous_AFR.txt --assoc --out coding_nonsynonymous_pheno_PP2A_AFR --allow-no-sex --adjust"
   ]
  },
  {
   "cell_type": "code",
   "execution_count": 48,
   "metadata": {
    "collapsed": true
   },
   "outputs": [
    {
     "data": {
      "text/html": [
       "<div>\n",
       "<style scoped>\n",
       "    .dataframe tbody tr th:only-of-type {\n",
       "        vertical-align: middle;\n",
       "    }\n",
       "\n",
       "    .dataframe tbody tr th {\n",
       "        vertical-align: top;\n",
       "    }\n",
       "\n",
       "    .dataframe thead th {\n",
       "        text-align: right;\n",
       "    }\n",
       "</style>\n",
       "<table border=\"1\" class=\"dataframe\">\n",
       "  <thead>\n",
       "    <tr style=\"text-align: right;\">\n",
       "      <th></th>\n",
       "      <th>CHR</th>\n",
       "      <th>SNP</th>\n",
       "      <th>UNADJ</th>\n",
       "      <th>GC</th>\n",
       "      <th>BONF</th>\n",
       "      <th>HOLM</th>\n",
       "      <th>SIDAK_SS</th>\n",
       "      <th>SIDAK_SD</th>\n",
       "      <th>FDR_BH</th>\n",
       "      <th>FDR_BY</th>\n",
       "    </tr>\n",
       "  </thead>\n",
       "  <tbody>\n",
       "    <tr>\n",
       "      <th>0</th>\n",
       "      <td>9</td>\n",
       "      <td>chr9:129147457:C:T</td>\n",
       "      <td>0.2640</td>\n",
       "      <td>0.4085</td>\n",
       "      <td>0.5281</td>\n",
       "      <td>0.5281</td>\n",
       "      <td>0.4583</td>\n",
       "      <td>0.4583</td>\n",
       "      <td>0.5179</td>\n",
       "      <td>0.7769</td>\n",
       "    </tr>\n",
       "    <tr>\n",
       "      <th>1</th>\n",
       "      <td>9</td>\n",
       "      <td>chr9:129134882:A:C</td>\n",
       "      <td>0.5179</td>\n",
       "      <td>0.6324</td>\n",
       "      <td>1.0000</td>\n",
       "      <td>0.5281</td>\n",
       "      <td>0.7676</td>\n",
       "      <td>0.5179</td>\n",
       "      <td>0.5179</td>\n",
       "      <td>0.7769</td>\n",
       "    </tr>\n",
       "  </tbody>\n",
       "</table>\n",
       "</div>"
      ],
      "text/plain": [
       "   CHR                 SNP   UNADJ      GC    BONF    HOLM  SIDAK_SS  \\\n",
       "0    9  chr9:129147457:C:T  0.2640  0.4085  0.5281  0.5281    0.4583   \n",
       "1    9  chr9:129134882:A:C  0.5179  0.6324  1.0000  0.5281    0.7676   \n",
       "\n",
       "   SIDAK_SD  FDR_BH  FDR_BY  \n",
       "0    0.4583  0.5179  0.7769  \n",
       "1    0.5179  0.5179  0.7769  "
      ]
     },
     "execution_count": 48,
     "metadata": {},
     "output_type": "execute_result"
    }
   ],
   "source": [
    "PP2A_AFR_freq = pd.read_csv(f'{WORK_DIR}/coding_nonsynonymous_pheno_PP2A_AFR.assoc.adjusted', delim_whitespace=True)\n",
    "PP2A_AFR_freq.head(10)"
   ]
  },
  {
   "cell_type": "markdown",
   "metadata": {},
   "source": [
    "## Calculate freq of HMZ in cases versus controls"
   ]
  },
  {
   "cell_type": "code",
   "execution_count": 49,
   "metadata": {
    "collapsed": true
   },
   "outputs": [
    {
     "name": "stdout",
     "output_type": "stream",
     "text": [
      "PLINK v1.90b6.9 64-bit (4 Mar 2019)            www.cog-genomics.org/plink/1.9/\n",
      "(C) 2005-2019 Shaun Purcell, Christopher Chang   GNU General Public License v3\n",
      "Logging to coding_nonsynonymous_pheno_PP2A_AFR.log.\n",
      "Options in effect:\n",
      "  --bfile pheno_PP2A_AFR\n",
      "  --extract range reduced_coding_nonsynonymous_AFR.txt\n",
      "  --out coding_nonsynonymous_pheno_PP2A_AFR\n",
      "  --recode A\n",
      "\n",
      "14998 MB RAM detected; reserving 7499 MB for main workspace.\n",
      "305 variants loaded from .bim file.\n",
      "404 people (154 males, 250 females) loaded from .fam.\n",
      "404 phenotype values loaded from .fam.\n",
      "--extract range: 303 variants excluded.\n",
      "--extract range: 2 variants remaining.\n",
      "Using 1 thread (no multithreaded calculations invoked).\n",
      "Before main variant filters, 404 founders and 0 nonfounders present.\n",
      "Calculating allele frequencies... 0%\b\b1%\b\b2%\b\b3%\b\b4%\b\b5%\b\b6%\b\b7%\b\b8%\b\b9%\b\b10%\b\b\b11%\b\b\b12%\b\b\b13%\b\b\b14%\b\b\b15%\b\b\b16%\b\b\b17%\b\b\b18%\b\b\b19%\b\b\b20%\b\b\b21%\b\b\b22%\b\b\b23%\b\b\b24%\b\b\b25%\b\b\b26%\b\b\b27%\b\b\b28%\b\b\b29%\b\b\b30%\b\b\b31%\b\b\b32%\b\b\b33%\b\b\b34%\b\b\b35%\b\b\b36%\b\b\b37%\b\b\b38%\b\b\b39%\b\b\b40%\b\b\b41%\b\b\b42%\b\b\b43%\b\b\b44%\b\b\b45%\b\b\b46%\b\b\b47%\b\b\b48%\b\b\b49%\b\b\b50%\b\b\b51%\b\b\b52%\b\b\b53%\b\b\b54%\b\b\b55%\b\b\b56%\b\b\b57%\b\b\b58%\b\b\b59%\b\b\b60%\b\b\b61%\b\b\b62%\b\b\b63%\b\b\b64%\b\b\b65%\b\b\b66%\b\b\b67%\b\b\b68%\b\b\b69%\b\b\b70%\b\b\b71%\b\b\b72%\b\b\b73%\b\b\b74%\b\b\b75%\b\b\b76%\b\b\b77%\b\b\b78%\b\b\b79%\b\b\b80%\b\b\b81%\b\b\b82%\b\b\b83%\b\b\b84%\b\b\b85%\b\b\b86%\b\b\b87%\b\b\b88%\b\b\b89%\b\b\b90%\b\b\b91%\b\b\b92%\b\b\b93%\b\b\b94%\b\b\b95%\b\b\b96%\b\b\b97%\b\b\b98%\b\b\b99%\b\b\b\b done.\n",
      "Total genotyping rate is 0.996287.\n",
      "2 variants and 404 people pass filters and QC.\n",
      "Among remaining phenotypes, 49 are cases and 355 are controls.\n",
      "--recode A to coding_nonsynonymous_pheno_PP2A_AFR.raw ... 0%\b\b1%\b\b2%\b\b3%\b\b4%\b\b5%\b\b6%\b\b7%\b\b8%\b\b9%\b\b10%\b\b\b11%\b\b\b12%\b\b\b13%\b\b\b14%\b\b\b15%\b\b\b16%\b\b\b17%\b\b\b18%\b\b\b19%\b\b\b20%\b\b\b21%\b\b\b22%\b\b\b23%\b\b\b24%\b\b\b25%\b\b\b26%\b\b\b27%\b\b\b28%\b\b\b29%\b\b\b30%\b\b\b31%\b\b\b32%\b\b\b33%\b\b\b34%\b\b\b35%\b\b\b36%\b\b\b37%\b\b\b38%\b\b\b39%\b\b\b40%\b\b\b41%\b\b\b42%\b\b\b43%\b\b\b44%\b\b\b45%\b\b\b46%\b\b\b47%\b\b\b48%\b\b\b49%\b\b\b50%\b\b\b51%\b\b\b52%\b\b\b53%\b\b\b54%\b\b\b55%\b\b\b56%\b\b\b57%\b\b\b58%\b\b\b59%\b\b\b60%\b\b\b61%\b\b\b62%\b\b\b63%\b\b\b64%\b\b\b65%\b\b\b66%\b\b\b67%\b\b\b68%\b\b\b69%\b\b\b70%\b\b\b71%\b\b\b72%\b\b\b73%\b\b\b74%\b\b\b75%\b\b\b76%\b\b\b77%\b\b\b78%\b\b\b79%\b\b\b80%\b\b\b81%\b\b\b82%\b\b\b83%\b\b\b84%\b\b\b85%\b\b\b86%\b\b\b87%\b\b\b88%\b\b\b89%\b\b\b90%\b\b\b91%\b\b\b92%\b\b\b93%\b\b\b94%\b\b\b95%\b\b\b96%\b\b\b97%\b\b\b98%\b\b\b99%\b\b\bdone.\n"
     ]
    }
   ],
   "source": [
    "%%bash\n",
    "\n",
    "WORK_DIR='/home/jupyter/PP2A_GP2/'\n",
    "cd $WORK_DIR\n",
    "\n",
    "/home/jupyter/tools/plink --bfile pheno_PP2A_AFR --extract range reduced_coding_nonsynonymous_AFR.txt --recode A --out coding_nonsynonymous_pheno_PP2A_AFR"
   ]
  },
  {
   "cell_type": "code",
   "execution_count": 50,
   "metadata": {
    "collapsed": true
   },
   "outputs": [
    {
     "data": {
      "text/html": [
       "<div>\n",
       "<style scoped>\n",
       "    .dataframe tbody tr th:only-of-type {\n",
       "        vertical-align: middle;\n",
       "    }\n",
       "\n",
       "    .dataframe tbody tr th {\n",
       "        vertical-align: top;\n",
       "    }\n",
       "\n",
       "    .dataframe thead th {\n",
       "        text-align: right;\n",
       "    }\n",
       "</style>\n",
       "<table border=\"1\" class=\"dataframe\">\n",
       "  <thead>\n",
       "    <tr style=\"text-align: right;\">\n",
       "      <th></th>\n",
       "      <th>CHR</th>\n",
       "      <th>SNP</th>\n",
       "      <th>BP</th>\n",
       "      <th>A1</th>\n",
       "      <th>F_A</th>\n",
       "      <th>F_U</th>\n",
       "      <th>A2</th>\n",
       "      <th>CHISQ</th>\n",
       "      <th>P</th>\n",
       "      <th>OR</th>\n",
       "    </tr>\n",
       "  </thead>\n",
       "  <tbody>\n",
       "    <tr>\n",
       "      <th>0</th>\n",
       "      <td>9</td>\n",
       "      <td>chr9:129134882:A:C</td>\n",
       "      <td>129134882</td>\n",
       "      <td>C</td>\n",
       "      <td>0.00000</td>\n",
       "      <td>0.004249</td>\n",
       "      <td>A</td>\n",
       "      <td>0.418</td>\n",
       "      <td>0.5179</td>\n",
       "      <td>0.000</td>\n",
       "    </tr>\n",
       "    <tr>\n",
       "      <th>1</th>\n",
       "      <td>9</td>\n",
       "      <td>chr9:129147457:C:T</td>\n",
       "      <td>129147457</td>\n",
       "      <td>T</td>\n",
       "      <td>0.02041</td>\n",
       "      <td>0.008475</td>\n",
       "      <td>C</td>\n",
       "      <td>1.248</td>\n",
       "      <td>0.2640</td>\n",
       "      <td>2.438</td>\n",
       "    </tr>\n",
       "  </tbody>\n",
       "</table>\n",
       "</div>"
      ],
      "text/plain": [
       "   CHR                 SNP         BP A1      F_A       F_U A2  CHISQ       P  \\\n",
       "0    9  chr9:129134882:A:C  129134882  C  0.00000  0.004249  A  0.418  0.5179   \n",
       "1    9  chr9:129147457:C:T  129147457  T  0.02041  0.008475  C  1.248  0.2640   \n",
       "\n",
       "      OR  \n",
       "0  0.000  \n",
       "1  2.438  "
      ]
     },
     "execution_count": 50,
     "metadata": {},
     "output_type": "execute_result"
    }
   ],
   "source": [
    "PP2A_AFR_freq = pd.read_csv(f'{WORK_DIR}/coding_nonsynonymous_pheno_PP2A_AFR.assoc', delim_whitespace=True)\n",
    "PP2A_AFR_freq.head()"
   ]
  },
  {
   "cell_type": "code",
   "execution_count": 51,
   "metadata": {
    "collapsed": true
   },
   "outputs": [
    {
     "data": {
      "text/html": [
       "<div>\n",
       "<style scoped>\n",
       "    .dataframe tbody tr th:only-of-type {\n",
       "        vertical-align: middle;\n",
       "    }\n",
       "\n",
       "    .dataframe tbody tr th {\n",
       "        vertical-align: top;\n",
       "    }\n",
       "\n",
       "    .dataframe thead th {\n",
       "        text-align: right;\n",
       "    }\n",
       "</style>\n",
       "<table border=\"1\" class=\"dataframe\">\n",
       "  <thead>\n",
       "    <tr style=\"text-align: right;\">\n",
       "      <th></th>\n",
       "      <th>FID</th>\n",
       "      <th>IID</th>\n",
       "      <th>PAT</th>\n",
       "      <th>MAT</th>\n",
       "      <th>SEX</th>\n",
       "      <th>PHENOTYPE</th>\n",
       "      <th>chr9:129134882:A:C_C</th>\n",
       "      <th>chr9:129147457:C:T_T</th>\n",
       "    </tr>\n",
       "  </thead>\n",
       "  <tbody>\n",
       "    <tr>\n",
       "      <th>0</th>\n",
       "      <td>0</td>\n",
       "      <td>BCM_000224_s1</td>\n",
       "      <td>0</td>\n",
       "      <td>0</td>\n",
       "      <td>1</td>\n",
       "      <td>2</td>\n",
       "      <td>0.0</td>\n",
       "      <td>0.0</td>\n",
       "    </tr>\n",
       "    <tr>\n",
       "      <th>1</th>\n",
       "      <td>0</td>\n",
       "      <td>BCM_000315_s1</td>\n",
       "      <td>0</td>\n",
       "      <td>0</td>\n",
       "      <td>2</td>\n",
       "      <td>2</td>\n",
       "      <td>0.0</td>\n",
       "      <td>0.0</td>\n",
       "    </tr>\n",
       "    <tr>\n",
       "      <th>2</th>\n",
       "      <td>0</td>\n",
       "      <td>BCM_000358_s1</td>\n",
       "      <td>0</td>\n",
       "      <td>0</td>\n",
       "      <td>1</td>\n",
       "      <td>2</td>\n",
       "      <td>0.0</td>\n",
       "      <td>0.0</td>\n",
       "    </tr>\n",
       "    <tr>\n",
       "      <th>3</th>\n",
       "      <td>0</td>\n",
       "      <td>BCM_000402_s1</td>\n",
       "      <td>0</td>\n",
       "      <td>0</td>\n",
       "      <td>2</td>\n",
       "      <td>1</td>\n",
       "      <td>0.0</td>\n",
       "      <td>0.0</td>\n",
       "    </tr>\n",
       "    <tr>\n",
       "      <th>4</th>\n",
       "      <td>0</td>\n",
       "      <td>BCM_000415_s1</td>\n",
       "      <td>0</td>\n",
       "      <td>0</td>\n",
       "      <td>1</td>\n",
       "      <td>2</td>\n",
       "      <td>0.0</td>\n",
       "      <td>0.0</td>\n",
       "    </tr>\n",
       "  </tbody>\n",
       "</table>\n",
       "</div>"
      ],
      "text/plain": [
       "   FID            IID  PAT  MAT  SEX  PHENOTYPE  chr9:129134882:A:C_C  \\\n",
       "0    0  BCM_000224_s1    0    0    1          2                   0.0   \n",
       "1    0  BCM_000315_s1    0    0    2          2                   0.0   \n",
       "2    0  BCM_000358_s1    0    0    1          2                   0.0   \n",
       "3    0  BCM_000402_s1    0    0    2          1                   0.0   \n",
       "4    0  BCM_000415_s1    0    0    1          2                   0.0   \n",
       "\n",
       "   chr9:129147457:C:T_T  \n",
       "0                   0.0  \n",
       "1                   0.0  \n",
       "2                   0.0  \n",
       "3                   0.0  \n",
       "4                   0.0  "
      ]
     },
     "execution_count": 51,
     "metadata": {},
     "output_type": "execute_result"
    }
   ],
   "source": [
    "PP2A_AFR_recode = pd.read_csv(f'{WORK_DIR}/coding_nonsynonymous_pheno_PP2A_AFR.raw', delim_whitespace=True)\n",
    "PP2A_AFR_recode.head()"
   ]
  },
  {
   "cell_type": "code",
   "execution_count": 59,
   "metadata": {
    "collapsed": true
   },
   "outputs": [
    {
     "name": "stdout",
     "output_type": "stream",
     "text": [
      "PLINK v1.90b6.9 64-bit (4 Mar 2019)            www.cog-genomics.org/plink/1.9/\n",
      "(C) 2005-2019 Shaun Purcell, Christopher Chang   GNU General Public License v3\n",
      "Logging to coding_nonsynonymous_pheno_PP2A_AFR.log.\n",
      "Options in effect:\n",
      "  --bfile pheno_PP2A_AFR\n",
      "  --extract range reduced_coding_nonsynonymous_AFR.txt\n",
      "  --out coding_nonsynonymous_pheno_PP2A_AFR\n",
      "  --recode A\n",
      "\n",
      "14998 MB RAM detected; reserving 7499 MB for main workspace.\n",
      "305 variants loaded from .bim file.\n",
      "404 people (154 males, 250 females) loaded from .fam.\n",
      "404 phenotype values loaded from .fam.\n",
      "--extract range: 303 variants excluded.\n",
      "--extract range: 2 variants remaining.\n",
      "Using 1 thread (no multithreaded calculations invoked).\n",
      "Before main variant filters, 404 founders and 0 nonfounders present.\n",
      "Calculating allele frequencies... 0%\b\b1%\b\b2%\b\b3%\b\b4%\b\b5%\b\b6%\b\b7%\b\b8%\b\b9%\b\b10%\b\b\b11%\b\b\b12%\b\b\b13%\b\b\b14%\b\b\b15%\b\b\b16%\b\b\b17%\b\b\b18%\b\b\b19%\b\b\b20%\b\b\b21%\b\b\b22%\b\b\b23%\b\b\b24%\b\b\b25%\b\b\b26%\b\b\b27%\b\b\b28%\b\b\b29%\b\b\b30%\b\b\b31%\b\b\b32%\b\b\b33%\b\b\b34%\b\b\b35%\b\b\b36%\b\b\b37%\b\b\b38%\b\b\b39%\b\b\b40%\b\b\b41%\b\b\b42%\b\b\b43%\b\b\b44%\b\b\b45%\b\b\b46%\b\b\b47%\b\b\b48%\b\b\b49%\b\b\b50%\b\b\b51%\b\b\b52%\b\b\b53%\b\b\b54%\b\b\b55%\b\b\b56%\b\b\b57%\b\b\b58%\b\b\b59%\b\b\b60%\b\b\b61%\b\b\b62%\b\b\b63%\b\b\b64%\b\b\b65%\b\b\b66%\b\b\b67%\b\b\b68%\b\b\b69%\b\b\b70%\b\b\b71%\b\b\b72%\b\b\b73%\b\b\b74%\b\b\b75%\b\b\b76%\b\b\b77%\b\b\b78%\b\b\b79%\b\b\b80%\b\b\b81%\b\b\b82%\b\b\b83%\b\b\b84%\b\b\b85%\b\b\b86%\b\b\b87%\b\b\b88%\b\b\b89%\b\b\b90%\b\b\b91%\b\b\b92%\b\b\b93%\b\b\b94%\b\b\b95%\b\b\b96%\b\b\b97%\b\b\b98%\b\b\b99%\b\b\b\b done.\n",
      "Total genotyping rate is 0.996287.\n",
      "2 variants and 404 people pass filters and QC.\n",
      "Among remaining phenotypes, 49 are cases and 355 are controls.\n",
      "--recode A to coding_nonsynonymous_pheno_PP2A_AFR.raw ... 0%\b\b1%\b\b2%\b\b3%\b\b4%\b\b5%\b\b6%\b\b7%\b\b8%\b\b9%\b\b10%\b\b\b11%\b\b\b12%\b\b\b13%\b\b\b14%\b\b\b15%\b\b\b16%\b\b\b17%\b\b\b18%\b\b\b19%\b\b\b20%\b\b\b21%\b\b\b22%\b\b\b23%\b\b\b24%\b\b\b25%\b\b\b26%\b\b\b27%\b\b\b28%\b\b\b29%\b\b\b30%\b\b\b31%\b\b\b32%\b\b\b33%\b\b\b34%\b\b\b35%\b\b\b36%\b\b\b37%\b\b\b38%\b\b\b39%\b\b\b40%\b\b\b41%\b\b\b42%\b\b\b43%\b\b\b44%\b\b\b45%\b\b\b46%\b\b\b47%\b\b\b48%\b\b\b49%\b\b\b50%\b\b\b51%\b\b\b52%\b\b\b53%\b\b\b54%\b\b\b55%\b\b\b56%\b\b\b57%\b\b\b58%\b\b\b59%\b\b\b60%\b\b\b61%\b\b\b62%\b\b\b63%\b\b\b64%\b\b\b65%\b\b\b66%\b\b\b67%\b\b\b68%\b\b\b69%\b\b\b70%\b\b\b71%\b\b\b72%\b\b\b73%\b\b\b74%\b\b\b75%\b\b\b76%\b\b\b77%\b\b\b78%\b\b\b79%\b\b\b80%\b\b\b81%\b\b\b82%\b\b\b83%\b\b\b84%\b\b\b85%\b\b\b86%\b\b\b87%\b\b\b88%\b\b\b89%\b\b\b90%\b\b\b91%\b\b\b92%\b\b\b93%\b\b\b94%\b\b\b95%\b\b\b96%\b\b\b97%\b\b\b98%\b\b\b99%\b\b\bdone.\n"
     ]
    }
   ],
   "source": [
    "%%bash\n",
    "\n",
    "WORK_DIR='/home/jupyter/PP2A_GP2/'\n",
    "cd $WORK_DIR\n",
    "\n",
    "/home/jupyter/tools/plink --bfile  pheno_PP2A_AFR --extract range reduced_coding_nonsynonymous_AFR.txt --recode A --out coding_nonsynonymous_pheno_PP2A_AFR"
   ]
  },
  {
   "cell_type": "code",
   "execution_count": 60,
   "metadata": {
    "collapsed": true
   },
   "outputs": [
    {
     "data": {
      "text/html": [
       "<div>\n",
       "<style scoped>\n",
       "    .dataframe tbody tr th:only-of-type {\n",
       "        vertical-align: middle;\n",
       "    }\n",
       "\n",
       "    .dataframe tbody tr th {\n",
       "        vertical-align: top;\n",
       "    }\n",
       "\n",
       "    .dataframe thead th {\n",
       "        text-align: right;\n",
       "    }\n",
       "</style>\n",
       "<table border=\"1\" class=\"dataframe\">\n",
       "  <thead>\n",
       "    <tr style=\"text-align: right;\">\n",
       "      <th></th>\n",
       "      <th>FID</th>\n",
       "      <th>IID</th>\n",
       "      <th>PAT</th>\n",
       "      <th>MAT</th>\n",
       "      <th>SEX</th>\n",
       "      <th>PHENOTYPE</th>\n",
       "      <th>chr9:129134882:A:C_C</th>\n",
       "      <th>chr9:129147457:C:T_T</th>\n",
       "    </tr>\n",
       "  </thead>\n",
       "  <tbody>\n",
       "  </tbody>\n",
       "</table>\n",
       "</div>"
      ],
      "text/plain": [
       "Empty DataFrame\n",
       "Columns: [FID, IID, PAT, MAT, SEX, PHENOTYPE, chr9:129134882:A:C_C, chr9:129147457:C:T_T]\n",
       "Index: []"
      ]
     },
     "execution_count": 60,
     "metadata": {},
     "output_type": "execute_result"
    }
   ],
   "source": [
    "# Explore HMZs for chr9:129147457:C:T_T in cases\n",
    "PP2A_hom_casos_AFR = PP2A_AFR_recode[(PP2A_AFR_recode['chr9:129147457:C:T_T'] == 2) & (PP2A_AFR_recode['PHENOTYPE'] == 2)]\n",
    "PP2A_hom_casos_AFR.head()"
   ]
  },
  {
   "cell_type": "code",
   "execution_count": 61,
   "metadata": {
    "collapsed": true
   },
   "outputs": [
    {
     "data": {
      "text/plain": [
       "(0, 8)"
      ]
     },
     "execution_count": 61,
     "metadata": {},
     "output_type": "execute_result"
    }
   ],
   "source": [
    "PP2A_hom_casos_AFR.shape"
   ]
  },
  {
   "cell_type": "code",
   "execution_count": 62,
   "metadata": {
    "collapsed": true
   },
   "outputs": [
    {
     "data": {
      "text/html": [
       "<div>\n",
       "<style scoped>\n",
       "    .dataframe tbody tr th:only-of-type {\n",
       "        vertical-align: middle;\n",
       "    }\n",
       "\n",
       "    .dataframe tbody tr th {\n",
       "        vertical-align: top;\n",
       "    }\n",
       "\n",
       "    .dataframe thead th {\n",
       "        text-align: right;\n",
       "    }\n",
       "</style>\n",
       "<table border=\"1\" class=\"dataframe\">\n",
       "  <thead>\n",
       "    <tr style=\"text-align: right;\">\n",
       "      <th></th>\n",
       "      <th>FID</th>\n",
       "      <th>IID</th>\n",
       "      <th>PAT</th>\n",
       "      <th>MAT</th>\n",
       "      <th>SEX</th>\n",
       "      <th>PHENOTYPE</th>\n",
       "      <th>chr9:129134882:A:C_C</th>\n",
       "      <th>chr9:129147457:C:T_T</th>\n",
       "    </tr>\n",
       "  </thead>\n",
       "  <tbody>\n",
       "  </tbody>\n",
       "</table>\n",
       "</div>"
      ],
      "text/plain": [
       "Empty DataFrame\n",
       "Columns: [FID, IID, PAT, MAT, SEX, PHENOTYPE, chr9:129134882:A:C_C, chr9:129147457:C:T_T]\n",
       "Index: []"
      ]
     },
     "execution_count": 62,
     "metadata": {},
     "output_type": "execute_result"
    }
   ],
   "source": [
    "# Explore HMZs for chr9:129147457:C:T_T in controls\n",
    "PP2A_hom_controles_AFR = PP2A_AFR_recode[(PP2A_AFR_recode['chr9:129147457:C:T_T'] == 2) & (PP2A_AFR_recode['PHENOTYPE'] == 1)]\n",
    "PP2A_hom_controles_AFR.head()"
   ]
  },
  {
   "cell_type": "code",
   "execution_count": 63,
   "metadata": {
    "collapsed": true
   },
   "outputs": [
    {
     "data": {
      "text/plain": [
       "(0, 8)"
      ]
     },
     "execution_count": 63,
     "metadata": {},
     "output_type": "execute_result"
    }
   ],
   "source": [
    "PP2A_hom_controles_AFR.shape"
   ]
  },
  {
   "cell_type": "code",
   "execution_count": 64,
   "metadata": {
    "collapsed": true
   },
   "outputs": [
    {
     "data": {
      "text/html": [
       "<div>\n",
       "<style scoped>\n",
       "    .dataframe tbody tr th:only-of-type {\n",
       "        vertical-align: middle;\n",
       "    }\n",
       "\n",
       "    .dataframe tbody tr th {\n",
       "        vertical-align: top;\n",
       "    }\n",
       "\n",
       "    .dataframe thead th {\n",
       "        text-align: right;\n",
       "    }\n",
       "</style>\n",
       "<table border=\"1\" class=\"dataframe\">\n",
       "  <thead>\n",
       "    <tr style=\"text-align: right;\">\n",
       "      <th></th>\n",
       "      <th>FID</th>\n",
       "      <th>IID</th>\n",
       "      <th>PAT</th>\n",
       "      <th>MAT</th>\n",
       "      <th>SEX</th>\n",
       "      <th>PHENOTYPE</th>\n",
       "      <th>chr9:129134882:A:C_C</th>\n",
       "      <th>chr9:129147457:C:T_T</th>\n",
       "    </tr>\n",
       "  </thead>\n",
       "  <tbody>\n",
       "    <tr>\n",
       "      <th>37</th>\n",
       "      <td>0</td>\n",
       "      <td>BLAACPD-UAB_000018_s1</td>\n",
       "      <td>0</td>\n",
       "      <td>0</td>\n",
       "      <td>1</td>\n",
       "      <td>2</td>\n",
       "      <td>0.0</td>\n",
       "      <td>1.0</td>\n",
       "    </tr>\n",
       "    <tr>\n",
       "      <th>53</th>\n",
       "      <td>0</td>\n",
       "      <td>CORIELL_000737_s1</td>\n",
       "      <td>0</td>\n",
       "      <td>0</td>\n",
       "      <td>2</td>\n",
       "      <td>2</td>\n",
       "      <td>0.0</td>\n",
       "      <td>1.0</td>\n",
       "    </tr>\n",
       "  </tbody>\n",
       "</table>\n",
       "</div>"
      ],
      "text/plain": [
       "    FID                    IID  PAT  MAT  SEX  PHENOTYPE  \\\n",
       "37    0  BLAACPD-UAB_000018_s1    0    0    1          2   \n",
       "53    0      CORIELL_000737_s1    0    0    2          2   \n",
       "\n",
       "    chr9:129134882:A:C_C  chr9:129147457:C:T_T  \n",
       "37                   0.0                   1.0  \n",
       "53                   0.0                   1.0  "
      ]
     },
     "execution_count": 64,
     "metadata": {},
     "output_type": "execute_result"
    }
   ],
   "source": [
    "# Explore HETs for chr9:129147457:C:T_T in cases\n",
    "PP2A_het_casos_129147457_AFR = PP2A_AFR_recode[(PP2A_AFR_recode['chr9:129147457:C:T_T'] == 1) & (PP2A_AFR_recode['PHENOTYPE'] == 2)]\n",
    "PP2A_het_casos_129147457_AFR"
   ]
  },
  {
   "cell_type": "code",
   "execution_count": 66,
   "metadata": {
    "collapsed": true
   },
   "outputs": [
    {
     "data": {
      "text/html": [
       "<div>\n",
       "<style scoped>\n",
       "    .dataframe tbody tr th:only-of-type {\n",
       "        vertical-align: middle;\n",
       "    }\n",
       "\n",
       "    .dataframe tbody tr th {\n",
       "        vertical-align: top;\n",
       "    }\n",
       "\n",
       "    .dataframe thead th {\n",
       "        text-align: right;\n",
       "    }\n",
       "</style>\n",
       "<table border=\"1\" class=\"dataframe\">\n",
       "  <thead>\n",
       "    <tr style=\"text-align: right;\">\n",
       "      <th></th>\n",
       "      <th>FID</th>\n",
       "      <th>IID</th>\n",
       "      <th>PAT</th>\n",
       "      <th>MAT</th>\n",
       "      <th>SEX</th>\n",
       "      <th>PHENOTYPE</th>\n",
       "      <th>chr9:129134882:A:C_C</th>\n",
       "      <th>chr9:129147457:C:T_T</th>\n",
       "    </tr>\n",
       "  </thead>\n",
       "  <tbody>\n",
       "    <tr>\n",
       "      <th>152</th>\n",
       "      <td>0</td>\n",
       "      <td>CORIELL_007419_s1</td>\n",
       "      <td>0</td>\n",
       "      <td>0</td>\n",
       "      <td>2</td>\n",
       "      <td>1</td>\n",
       "      <td>0.0</td>\n",
       "      <td>1.0</td>\n",
       "    </tr>\n",
       "    <tr>\n",
       "      <th>246</th>\n",
       "      <td>0</td>\n",
       "      <td>CORIELL_007879_s1</td>\n",
       "      <td>0</td>\n",
       "      <td>0</td>\n",
       "      <td>2</td>\n",
       "      <td>1</td>\n",
       "      <td>0.0</td>\n",
       "      <td>1.0</td>\n",
       "    </tr>\n",
       "    <tr>\n",
       "      <th>253</th>\n",
       "      <td>0</td>\n",
       "      <td>CORIELL_007922_s1</td>\n",
       "      <td>0</td>\n",
       "      <td>0</td>\n",
       "      <td>2</td>\n",
       "      <td>1</td>\n",
       "      <td>0.0</td>\n",
       "      <td>1.0</td>\n",
       "    </tr>\n",
       "    <tr>\n",
       "      <th>258</th>\n",
       "      <td>0</td>\n",
       "      <td>CORIELL_007950_s1</td>\n",
       "      <td>0</td>\n",
       "      <td>0</td>\n",
       "      <td>2</td>\n",
       "      <td>1</td>\n",
       "      <td>0.0</td>\n",
       "      <td>1.0</td>\n",
       "    </tr>\n",
       "    <tr>\n",
       "      <th>317</th>\n",
       "      <td>0</td>\n",
       "      <td>CORIELL_008214_s1</td>\n",
       "      <td>0</td>\n",
       "      <td>0</td>\n",
       "      <td>2</td>\n",
       "      <td>1</td>\n",
       "      <td>0.0</td>\n",
       "      <td>1.0</td>\n",
       "    </tr>\n",
       "    <tr>\n",
       "      <th>357</th>\n",
       "      <td>0</td>\n",
       "      <td>CORIELL_008406_s1</td>\n",
       "      <td>0</td>\n",
       "      <td>0</td>\n",
       "      <td>2</td>\n",
       "      <td>1</td>\n",
       "      <td>0.0</td>\n",
       "      <td>1.0</td>\n",
       "    </tr>\n",
       "  </tbody>\n",
       "</table>\n",
       "</div>"
      ],
      "text/plain": [
       "     FID                IID  PAT  MAT  SEX  PHENOTYPE  chr9:129134882:A:C_C  \\\n",
       "152    0  CORIELL_007419_s1    0    0    2          1                   0.0   \n",
       "246    0  CORIELL_007879_s1    0    0    2          1                   0.0   \n",
       "253    0  CORIELL_007922_s1    0    0    2          1                   0.0   \n",
       "258    0  CORIELL_007950_s1    0    0    2          1                   0.0   \n",
       "317    0  CORIELL_008214_s1    0    0    2          1                   0.0   \n",
       "357    0  CORIELL_008406_s1    0    0    2          1                   0.0   \n",
       "\n",
       "     chr9:129147457:C:T_T  \n",
       "152                   1.0  \n",
       "246                   1.0  \n",
       "253                   1.0  \n",
       "258                   1.0  \n",
       "317                   1.0  \n",
       "357                   1.0  "
      ]
     },
     "execution_count": 66,
     "metadata": {},
     "output_type": "execute_result"
    }
   ],
   "source": [
    "# Explore HETs for chr9:129147457:C:T_T in controls\n",
    "PP2A_het_controles_129147457_AFR = PP2A_AFR_recode[(PP2A_AFR_recode['chr9:129147457:C:T_T'] == 1) & (PP2A_AFR_recode['PHENOTYPE'] == 1)]\n",
    "PP2A_het_controles_129147457_AFR"
   ]
  },
  {
   "cell_type": "code",
   "execution_count": 67,
   "metadata": {
    "collapsed": true
   },
   "outputs": [
    {
     "name": "stdout",
     "output_type": "stream",
     "text": [
      "Requirement already satisfied: rpy2 in /home/jupyter/.local/lib/python3.7/site-packages (3.5.12)\n",
      "Requirement already satisfied: cffi>=1.10.0 in /opt/conda/lib/python3.7/site-packages (from rpy2) (1.15.0)\n",
      "Requirement already satisfied: jinja2 in /opt/conda/lib/python3.7/site-packages (from rpy2) (3.1.2)\n",
      "Requirement already satisfied: pytz in /opt/conda/lib/python3.7/site-packages (from rpy2) (2022.6)\n",
      "Requirement already satisfied: tzlocal<5.0 in /home/jupyter/.local/lib/python3.7/site-packages (from rpy2) (4.3)\n",
      "Requirement already satisfied: typing-extensions in /opt/conda/lib/python3.7/site-packages (from rpy2) (4.1.1)\n",
      "Requirement already satisfied: pycparser in /opt/conda/lib/python3.7/site-packages (from cffi>=1.10.0->rpy2) (2.21)\n",
      "Requirement already satisfied: pytz-deprecation-shim in /home/jupyter/.local/lib/python3.7/site-packages (from tzlocal<5.0->rpy2) (0.1.0.post0)\n",
      "Requirement already satisfied: backports.zoneinfo in /home/jupyter/.local/lib/python3.7/site-packages (from tzlocal<5.0->rpy2) (0.2.1)\n",
      "Requirement already satisfied: MarkupSafe>=2.0 in /opt/conda/lib/python3.7/site-packages (from jinja2->rpy2) (2.0.1)\n",
      "Requirement already satisfied: tzdata in /home/jupyter/.local/lib/python3.7/site-packages (from pytz-deprecation-shim->tzlocal<5.0->rpy2) (2023.3)\n"
     ]
    }
   ],
   "source": [
    "!pip install rpy2\n",
    "%load_ext rpy2.ipython"
   ]
  },
  {
   "cell_type": "code",
   "execution_count": 69,
   "metadata": {
    "collapsed": true
   },
   "outputs": [
    {
     "name": "stdout",
     "output_type": "stream",
     "text": [
      "The rpy2.ipython extension is already loaded. To reload it, use:\n",
      "  %reload_ext rpy2.ipython\n"
     ]
    }
   ],
   "source": [
    "import rpy2\n",
    "%load_ext rpy2.ipython"
   ]
  },
  {
   "cell_type": "code",
   "execution_count": 103,
   "metadata": {
    "collapsed": true
   },
   "outputs": [],
   "source": [
    "PP2A_het_casos_129147457_AFR.to_csv('PP2A_het_casos_129147457_AFR.csv')"
   ]
  },
  {
   "cell_type": "code",
   "execution_count": 104,
   "metadata": {
    "collapsed": true
   },
   "outputs": [
    {
     "data": {
      "text/html": [
       "<div>\n",
       "<style scoped>\n",
       "    .dataframe tbody tr th:only-of-type {\n",
       "        vertical-align: middle;\n",
       "    }\n",
       "\n",
       "    .dataframe tbody tr th {\n",
       "        vertical-align: top;\n",
       "    }\n",
       "\n",
       "    .dataframe thead th {\n",
       "        text-align: right;\n",
       "    }\n",
       "</style>\n",
       "<table border=\"1\" class=\"dataframe\">\n",
       "  <thead>\n",
       "    <tr style=\"text-align: right;\">\n",
       "      <th></th>\n",
       "      <th>Unnamed: 0</th>\n",
       "      <th>FID</th>\n",
       "      <th>IID</th>\n",
       "      <th>PAT</th>\n",
       "      <th>MAT</th>\n",
       "      <th>SEX</th>\n",
       "      <th>PHENOTYPE</th>\n",
       "      <th>chr9:129134882:A:C_C</th>\n",
       "      <th>chr9:129147457:C:T_T</th>\n",
       "    </tr>\n",
       "  </thead>\n",
       "  <tbody>\n",
       "    <tr>\n",
       "      <th>0</th>\n",
       "      <td>37</td>\n",
       "      <td>0</td>\n",
       "      <td>BLAACPD-UAB_000018_s1</td>\n",
       "      <td>0</td>\n",
       "      <td>0</td>\n",
       "      <td>1</td>\n",
       "      <td>2</td>\n",
       "      <td>0.0</td>\n",
       "      <td>1.0</td>\n",
       "    </tr>\n",
       "    <tr>\n",
       "      <th>1</th>\n",
       "      <td>53</td>\n",
       "      <td>0</td>\n",
       "      <td>CORIELL_000737_s1</td>\n",
       "      <td>0</td>\n",
       "      <td>0</td>\n",
       "      <td>2</td>\n",
       "      <td>2</td>\n",
       "      <td>0.0</td>\n",
       "      <td>1.0</td>\n",
       "    </tr>\n",
       "  </tbody>\n",
       "</table>\n",
       "</div>"
      ],
      "text/plain": [
       "   Unnamed: 0  FID                    IID  PAT  MAT  SEX  PHENOTYPE  \\\n",
       "0          37    0  BLAACPD-UAB_000018_s1    0    0    1          2   \n",
       "1          53    0      CORIELL_000737_s1    0    0    2          2   \n",
       "\n",
       "   chr9:129134882:A:C_C  chr9:129147457:C:T_T  \n",
       "0                   0.0                   1.0  \n",
       "1                   0.0                   1.0  "
      ]
     },
     "execution_count": 104,
     "metadata": {},
     "output_type": "execute_result"
    }
   ],
   "source": [
    "temp = pd.read_csv('PP2A_het_casos_129147457_AFR.csv')\n",
    "temp"
   ]
  },
  {
   "cell_type": "code",
   "execution_count": 77,
   "metadata": {
    "collapsed": true
   },
   "outputs": [],
   "source": [
    "PP2A_het_controles_129147457_AFR.to_csv('PP2A_het_controles_129147457_AFR.csv')"
   ]
  },
  {
   "cell_type": "code",
   "execution_count": 78,
   "metadata": {
    "collapsed": true
   },
   "outputs": [
    {
     "data": {
      "text/html": [
       "<div>\n",
       "<style scoped>\n",
       "    .dataframe tbody tr th:only-of-type {\n",
       "        vertical-align: middle;\n",
       "    }\n",
       "\n",
       "    .dataframe tbody tr th {\n",
       "        vertical-align: top;\n",
       "    }\n",
       "\n",
       "    .dataframe thead th {\n",
       "        text-align: right;\n",
       "    }\n",
       "</style>\n",
       "<table border=\"1\" class=\"dataframe\">\n",
       "  <thead>\n",
       "    <tr style=\"text-align: right;\">\n",
       "      <th></th>\n",
       "      <th>Unnamed: 0</th>\n",
       "      <th>FID</th>\n",
       "      <th>IID</th>\n",
       "      <th>PAT</th>\n",
       "      <th>MAT</th>\n",
       "      <th>SEX</th>\n",
       "      <th>PHENOTYPE</th>\n",
       "      <th>chr9:129134882:A:C_C</th>\n",
       "      <th>chr9:129147457:C:T_T</th>\n",
       "    </tr>\n",
       "  </thead>\n",
       "  <tbody>\n",
       "    <tr>\n",
       "      <th>0</th>\n",
       "      <td>152</td>\n",
       "      <td>0</td>\n",
       "      <td>CORIELL_007419_s1</td>\n",
       "      <td>0</td>\n",
       "      <td>0</td>\n",
       "      <td>2</td>\n",
       "      <td>1</td>\n",
       "      <td>0.0</td>\n",
       "      <td>1.0</td>\n",
       "    </tr>\n",
       "    <tr>\n",
       "      <th>1</th>\n",
       "      <td>246</td>\n",
       "      <td>0</td>\n",
       "      <td>CORIELL_007879_s1</td>\n",
       "      <td>0</td>\n",
       "      <td>0</td>\n",
       "      <td>2</td>\n",
       "      <td>1</td>\n",
       "      <td>0.0</td>\n",
       "      <td>1.0</td>\n",
       "    </tr>\n",
       "    <tr>\n",
       "      <th>2</th>\n",
       "      <td>253</td>\n",
       "      <td>0</td>\n",
       "      <td>CORIELL_007922_s1</td>\n",
       "      <td>0</td>\n",
       "      <td>0</td>\n",
       "      <td>2</td>\n",
       "      <td>1</td>\n",
       "      <td>0.0</td>\n",
       "      <td>1.0</td>\n",
       "    </tr>\n",
       "    <tr>\n",
       "      <th>3</th>\n",
       "      <td>258</td>\n",
       "      <td>0</td>\n",
       "      <td>CORIELL_007950_s1</td>\n",
       "      <td>0</td>\n",
       "      <td>0</td>\n",
       "      <td>2</td>\n",
       "      <td>1</td>\n",
       "      <td>0.0</td>\n",
       "      <td>1.0</td>\n",
       "    </tr>\n",
       "    <tr>\n",
       "      <th>4</th>\n",
       "      <td>317</td>\n",
       "      <td>0</td>\n",
       "      <td>CORIELL_008214_s1</td>\n",
       "      <td>0</td>\n",
       "      <td>0</td>\n",
       "      <td>2</td>\n",
       "      <td>1</td>\n",
       "      <td>0.0</td>\n",
       "      <td>1.0</td>\n",
       "    </tr>\n",
       "    <tr>\n",
       "      <th>5</th>\n",
       "      <td>357</td>\n",
       "      <td>0</td>\n",
       "      <td>CORIELL_008406_s1</td>\n",
       "      <td>0</td>\n",
       "      <td>0</td>\n",
       "      <td>2</td>\n",
       "      <td>1</td>\n",
       "      <td>0.0</td>\n",
       "      <td>1.0</td>\n",
       "    </tr>\n",
       "  </tbody>\n",
       "</table>\n",
       "</div>"
      ],
      "text/plain": [
       "   Unnamed: 0  FID                IID  PAT  MAT  SEX  PHENOTYPE  \\\n",
       "0         152    0  CORIELL_007419_s1    0    0    2          1   \n",
       "1         246    0  CORIELL_007879_s1    0    0    2          1   \n",
       "2         253    0  CORIELL_007922_s1    0    0    2          1   \n",
       "3         258    0  CORIELL_007950_s1    0    0    2          1   \n",
       "4         317    0  CORIELL_008214_s1    0    0    2          1   \n",
       "5         357    0  CORIELL_008406_s1    0    0    2          1   \n",
       "\n",
       "   chr9:129134882:A:C_C  chr9:129147457:C:T_T  \n",
       "0                   0.0                   1.0  \n",
       "1                   0.0                   1.0  \n",
       "2                   0.0                   1.0  \n",
       "3                   0.0                   1.0  \n",
       "4                   0.0                   1.0  \n",
       "5                   0.0                   1.0  "
      ]
     },
     "execution_count": 78,
     "metadata": {},
     "output_type": "execute_result"
    }
   ],
   "source": [
    "temp = pd.read_csv('PP2A_het_controles_129147457_AFR.csv')\n",
    "temp"
   ]
  },
  {
   "cell_type": "code",
   "execution_count": 102,
   "metadata": {
    "collapsed": true
   },
   "outputs": [
    {
     "data": {
      "text/plain": [
       "(2, 8)"
      ]
     },
     "execution_count": 102,
     "metadata": {},
     "output_type": "execute_result"
    }
   ],
   "source": [
    "PP2A_het_casos_129147457_AFR.shape"
   ]
  },
  {
   "cell_type": "code",
   "execution_count": 74,
   "metadata": {
    "collapsed": true
   },
   "outputs": [
    {
     "name": "stdout",
     "output_type": "stream",
     "text": [
      "                  GP2ID         GP2sampleID manifest_id phenotype pheno_for_qc\n",
      "    1: SYNAPS-KZ_000001 SYNAPS-KZ_000001_s1          m1   Control            1\n",
      "    2: SYNAPS-KZ_000002 SYNAPS-KZ_000002_s1          m1   Control            1\n",
      "    3: SYNAPS-KZ_000003 SYNAPS-KZ_000003_s1          m1   Control            1\n",
      "    4: SYNAPS-KZ_000004 SYNAPS-KZ_000004_s1          m1   Control            1\n",
      "    5: SYNAPS-KZ_000005 SYNAPS-KZ_000005_s1          m1   Control            1\n",
      "   ---                                                                        \n",
      "16853:      PPMI_000789      PPMI_000789_s1          m2     Other           -9\n",
      "16854:      PPMI_000781      PPMI_000781_s1          m2     Other           -9\n",
      "16855:      PPMI_000818      PPMI_000818_s1          m2     Other           -9\n",
      "16856:      PPMI_000841      PPMI_000841_s1          m2     Other           -9\n",
      "16857:      PPMI_000808      PPMI_000808_s1          m2     Other           -9\n",
      "                                  other_pheno sex_for_qc age age_of_onset\n",
      "    1:                                Control          2  64           NA\n",
      "    2:                                Control          1  53           NA\n",
      "    3:                                Control          2  59           NA\n",
      "    4:                                Control          1  57           NA\n",
      "    5:                                Control          1  59           NA\n",
      "   ---                                                                   \n",
      "16853:   Genetically-enriched-cohort Affected          2  NA           NA\n",
      "16854: Genetidally-enriched-cohort Unaffected          1  57           NA\n",
      "16855:   Genetically-enriched-cohort Affected          1  60           NA\n",
      "16856:   Genetically-enriched-cohort Affected          2  68           NA\n",
      "16857:   Genetically-enriched-cohort Affected          1  NA           NA\n",
      "       age_at_diagnosis age_at_death race_for_qc family_history_for_qc\n",
      "    1:               NA           NA       Asian          Not Reported\n",
      "    2:               NA           NA       Asian          Not Reported\n",
      "    3:               NA           NA       Asian          Not Reported\n",
      "    4:               NA           NA       Asian          Not Reported\n",
      "    5:               NA           NA       Asian          Not Reported\n",
      "   ---                                                                \n",
      "16853:               NA           NA       White          Not Reported\n",
      "16854:               NA           NA       White          Not Reported\n",
      "16855:               55           55       White          Not Reported\n",
      "16856:               57           57       White          Not Reported\n",
      "16857:               NA           NA       White          Not Reported\n",
      "       region_for_qc     study pruned  pruned_reason label related\n",
      "    1:           KAZ SYNAPS-KZ      0                  CAS      NA\n",
      "    2:           KAZ SYNAPS-KZ      0                  CAS      NA\n",
      "    3:           KAZ SYNAPS-KZ      0                  CAS      NA\n",
      "    4:           KAZ SYNAPS-KZ      0                  CAS      NA\n",
      "    5:           KAZ SYNAPS-KZ      0                  CAS      NA\n",
      "   ---                                                            \n",
      "16853:           ISR      PPMI      0                   AJ      NA\n",
      "16854:           ISR      PPMI      0                   AJ      NA\n",
      "16855:           ISR      PPMI      1 callrate_prune            NA\n",
      "16856:           ISR      PPMI      0                   AJ       1\n",
      "16857:           ISR      PPMI      0                   AJ      NA\n"
     ]
    },
    {
     "data": {
      "text/plain": [
       "data.table 1.14.6 using 2 threads (see ?getDTthreads).  Latest news: r-datatable.com\n",
       "In addition: Warning message:\n",
       "In (function (package, help, pos = 2, lib.loc = NULL, character.only = FALSE,  :\n",
       "  libraries ‘/home/jupyter/packages’, ‘/usr/lib/R/site-library’ contain no packages\n"
      ]
     },
     "metadata": {},
     "output_type": "display_data"
    }
   ],
   "source": [
    "%%R\n",
    "setwd('/home/jupyter/PP2A_GP2/')\n",
    "library(data.table)\n",
    "covs <- fread(\"master_key_release3_final.csv\", header =T)\n",
    "covs"
   ]
  },
  {
   "cell_type": "code",
   "execution_count": 93,
   "metadata": {
    "collapsed": true
   },
   "outputs": [
    {
     "name": "stdout",
     "output_type": "stream",
     "text": [
      "                  GP2ID                 IID manifest_id phenotype pheno_for_qc\n",
      "    1: SYNAPS-KZ_000001 SYNAPS-KZ_000001_s1          m1   Control            1\n",
      "    2: SYNAPS-KZ_000002 SYNAPS-KZ_000002_s1          m1   Control            1\n",
      "    3: SYNAPS-KZ_000003 SYNAPS-KZ_000003_s1          m1   Control            1\n",
      "    4: SYNAPS-KZ_000004 SYNAPS-KZ_000004_s1          m1   Control            1\n",
      "    5: SYNAPS-KZ_000005 SYNAPS-KZ_000005_s1          m1   Control            1\n",
      "   ---                                                                        \n",
      "16853:      PPMI_000789      PPMI_000789_s1          m2     Other           -9\n",
      "16854:      PPMI_000781      PPMI_000781_s1          m2     Other           -9\n",
      "16855:      PPMI_000818      PPMI_000818_s1          m2     Other           -9\n",
      "16856:      PPMI_000841      PPMI_000841_s1          m2     Other           -9\n",
      "16857:      PPMI_000808      PPMI_000808_s1          m2     Other           -9\n",
      "                                  other_pheno sex_for_qc age age_of_onset\n",
      "    1:                                Control          2  64           NA\n",
      "    2:                                Control          1  53           NA\n",
      "    3:                                Control          2  59           NA\n",
      "    4:                                Control          1  57           NA\n",
      "    5:                                Control          1  59           NA\n",
      "   ---                                                                   \n",
      "16853:   Genetically-enriched-cohort Affected          2  NA           NA\n",
      "16854: Genetidally-enriched-cohort Unaffected          1  57           NA\n",
      "16855:   Genetically-enriched-cohort Affected          1  60           NA\n",
      "16856:   Genetically-enriched-cohort Affected          2  68           NA\n",
      "16857:   Genetically-enriched-cohort Affected          1  NA           NA\n",
      "       age_at_diagnosis age_at_death race_for_qc family_history_for_qc\n",
      "    1:               NA           NA       Asian          Not Reported\n",
      "    2:               NA           NA       Asian          Not Reported\n",
      "    3:               NA           NA       Asian          Not Reported\n",
      "    4:               NA           NA       Asian          Not Reported\n",
      "    5:               NA           NA       Asian          Not Reported\n",
      "   ---                                                                \n",
      "16853:               NA           NA       White          Not Reported\n",
      "16854:               NA           NA       White          Not Reported\n",
      "16855:               55           55       White          Not Reported\n",
      "16856:               57           57       White          Not Reported\n",
      "16857:               NA           NA       White          Not Reported\n",
      "       region_for_qc     study pruned  pruned_reason label related\n",
      "    1:           KAZ SYNAPS-KZ      0                  CAS      NA\n",
      "    2:           KAZ SYNAPS-KZ      0                  CAS      NA\n",
      "    3:           KAZ SYNAPS-KZ      0                  CAS      NA\n",
      "    4:           KAZ SYNAPS-KZ      0                  CAS      NA\n",
      "    5:           KAZ SYNAPS-KZ      0                  CAS      NA\n",
      "   ---                                                            \n",
      "16853:           ISR      PPMI      0                   AJ      NA\n",
      "16854:           ISR      PPMI      0                   AJ      NA\n",
      "16855:           ISR      PPMI      1 callrate_prune            NA\n",
      "16856:           ISR      PPMI      0                   AJ       1\n",
      "16857:           ISR      PPMI      0                   AJ      NA\n"
     ]
    }
   ],
   "source": [
    "%%R\n",
    "colnames(covs)[2]  <- \"IID\"  \n",
    "covs"
   ]
  },
  {
   "cell_type": "code",
   "execution_count": 100,
   "metadata": {
    "collapsed": true
   },
   "outputs": [
    {
     "name": "stdout",
     "output_type": "stream",
     "text": [
      "Error in fread(\"PP2A_het_casos_129147457_AFR.csv\", header = T) : \n",
      "  File 'PP2A_het_casos_129147457_AFR.csv' does not exist or is non-readable. getwd()=='/home/jupyter/PP2A_GP2'\n"
     ]
    },
    {
     "ename": "RInterpreterError",
     "evalue": "Failed to parse and evaluate line 'setwd(\\'/home/jupyter/PP2A_GP2/\\')\\nlibrary(data.table)\\nPP2A_het_casos_129147457_AFR <- fread(\"PP2A_het_casos_129147457_AFR.csv\", header =T)\\nPP2A_het_casos_129147457_AFR\\ntemp <- merge(covs, PP2A_het_casos_129147457_AFR, by=\"IID\")\\nhead(temp)\\nwrite.table(temp, file = \"PP2A_het_casos_129147457_AFR_extracted.txt\", quote = F, row.names = F, sep = \"\\\\t\")\\nPP2A_het_casos_129147457_AFR_extracted <- fread(\"PP2A_het_casos_129147457_AFR_extracted.txt\", header =T)\\nPP2A_het_casos_129147457_AFR_extracted\\n'.\nR error message: 'Error in fread(\"PP2A_het_casos_129147457_AFR.csv\", header = T) : \\n  File \\'PP2A_het_casos_129147457_AFR.csv\\' does not exist or is non-readable. getwd()==\\'/home/jupyter/PP2A_GP2\\''",
     "output_type": "error",
     "traceback": [
      "\u001b[0;31m---------------------------------------------------------------------------\u001b[0m",
      "\u001b[0;31mRRuntimeError\u001b[0m                             Traceback (most recent call last)",
      "\u001b[0;32m~/.local/lib/python3.7/site-packages/rpy2/ipython/rmagic.py\u001b[0m in \u001b[0;36meval\u001b[0;34m(self, code)\u001b[0m\n\u001b[1;32m    401\u001b[0m                 value, visible = ri.evalr_expr_with_visible(\n\u001b[0;32m--> 402\u001b[0;31m                     \u001b[0mr_expr\u001b[0m\u001b[0;34m\u001b[0m\u001b[0;34m\u001b[0m\u001b[0m\n\u001b[0m\u001b[1;32m    403\u001b[0m                 )\n",
      "\u001b[0;32m~/.local/lib/python3.7/site-packages/rpy2/rinterface.py\u001b[0m in \u001b[0;36mevalr_expr_with_visible\u001b[0;34m(expr, envir)\u001b[0m\n\u001b[1;32m    182\u001b[0m         \u001b[0;32mif\u001b[0m \u001b[0merror_occured\u001b[0m\u001b[0;34m[\u001b[0m\u001b[0;36m0\u001b[0m\u001b[0;34m]\u001b[0m\u001b[0;34m:\u001b[0m\u001b[0;34m\u001b[0m\u001b[0;34m\u001b[0m\u001b[0m\n\u001b[0;32m--> 183\u001b[0;31m             \u001b[0;32mraise\u001b[0m \u001b[0membedded\u001b[0m\u001b[0;34m.\u001b[0m\u001b[0mRRuntimeError\u001b[0m\u001b[0;34m(\u001b[0m\u001b[0m_rinterface\u001b[0m\u001b[0;34m.\u001b[0m\u001b[0m_geterrmessage\u001b[0m\u001b[0;34m(\u001b[0m\u001b[0;34m)\u001b[0m\u001b[0;34m)\u001b[0m\u001b[0;34m\u001b[0m\u001b[0;34m\u001b[0m\u001b[0m\n\u001b[0m\u001b[1;32m    184\u001b[0m         \u001b[0mres\u001b[0m \u001b[0;34m=\u001b[0m \u001b[0mconversion\u001b[0m\u001b[0;34m.\u001b[0m\u001b[0m_cdata_to_rinterface\u001b[0m\u001b[0;34m(\u001b[0m\u001b[0mr_res\u001b[0m\u001b[0;34m)\u001b[0m\u001b[0;34m\u001b[0m\u001b[0;34m\u001b[0m\u001b[0m\n",
      "\u001b[0;31mRRuntimeError\u001b[0m: Error in fread(\"PP2A_het_casos_129147457_AFR.csv\", header = T) : \n  File 'PP2A_het_casos_129147457_AFR.csv' does not exist or is non-readable. getwd()=='/home/jupyter/PP2A_GP2'\n",
      "\nDuring handling of the above exception, another exception occurred:\n",
      "\u001b[0;31mRInterpreterError\u001b[0m                         Traceback (most recent call last)",
      "\u001b[0;32m/tmp/ipykernel_5845/3819723124.py\u001b[0m in \u001b[0;36m<module>\u001b[0;34m\u001b[0m\n\u001b[0;32m----> 1\u001b[0;31m \u001b[0mget_ipython\u001b[0m\u001b[0;34m(\u001b[0m\u001b[0;34m)\u001b[0m\u001b[0;34m.\u001b[0m\u001b[0mrun_cell_magic\u001b[0m\u001b[0;34m(\u001b[0m\u001b[0;34m'R'\u001b[0m\u001b[0;34m,\u001b[0m \u001b[0;34m''\u001b[0m\u001b[0;34m,\u001b[0m \u001b[0;34m'setwd(\\'/home/jupyter/PP2A_GP2/\\')\\nlibrary(data.table)\\nPP2A_het_casos_129147457_AFR <- fread(\"PP2A_het_casos_129147457_AFR.csv\", header =T)\\nPP2A_het_casos_129147457_AFR\\ntemp <- merge(covs, PP2A_het_casos_129147457_AFR, by=\"IID\")\\nhead(temp)\\nwrite.table(temp, file = \"PP2A_het_casos_129147457_AFR_extracted.txt\", quote = F, row.names = F, sep = \"\\\\t\")\\nPP2A_het_casos_129147457_AFR_extracted <- fread(\"PP2A_het_casos_129147457_AFR_extracted.txt\", header =T)\\nPP2A_het_casos_129147457_AFR_extracted\\n'\u001b[0m\u001b[0;34m)\u001b[0m\u001b[0;34m\u001b[0m\u001b[0;34m\u001b[0m\u001b[0m\n\u001b[0m",
      "\u001b[0;32m/opt/conda/lib/python3.7/site-packages/IPython/core/interactiveshell.py\u001b[0m in \u001b[0;36mrun_cell_magic\u001b[0;34m(self, magic_name, line, cell)\u001b[0m\n\u001b[1;32m   2460\u001b[0m             \u001b[0;32mwith\u001b[0m \u001b[0mself\u001b[0m\u001b[0;34m.\u001b[0m\u001b[0mbuiltin_trap\u001b[0m\u001b[0;34m:\u001b[0m\u001b[0;34m\u001b[0m\u001b[0;34m\u001b[0m\u001b[0m\n\u001b[1;32m   2461\u001b[0m                 \u001b[0margs\u001b[0m \u001b[0;34m=\u001b[0m \u001b[0;34m(\u001b[0m\u001b[0mmagic_arg_s\u001b[0m\u001b[0;34m,\u001b[0m \u001b[0mcell\u001b[0m\u001b[0;34m)\u001b[0m\u001b[0;34m\u001b[0m\u001b[0;34m\u001b[0m\u001b[0m\n\u001b[0;32m-> 2462\u001b[0;31m                 \u001b[0mresult\u001b[0m \u001b[0;34m=\u001b[0m \u001b[0mfn\u001b[0m\u001b[0;34m(\u001b[0m\u001b[0;34m*\u001b[0m\u001b[0margs\u001b[0m\u001b[0;34m,\u001b[0m \u001b[0;34m**\u001b[0m\u001b[0mkwargs\u001b[0m\u001b[0;34m)\u001b[0m\u001b[0;34m\u001b[0m\u001b[0;34m\u001b[0m\u001b[0m\n\u001b[0m\u001b[1;32m   2463\u001b[0m             \u001b[0;32mreturn\u001b[0m \u001b[0mresult\u001b[0m\u001b[0;34m\u001b[0m\u001b[0;34m\u001b[0m\u001b[0m\n\u001b[1;32m   2464\u001b[0m \u001b[0;34m\u001b[0m\u001b[0m\n",
      "\u001b[0;32m/opt/conda/lib/python3.7/site-packages/decorator.py\u001b[0m in \u001b[0;36mfun\u001b[0;34m(*args, **kw)\u001b[0m\n\u001b[1;32m    230\u001b[0m             \u001b[0;32mif\u001b[0m \u001b[0;32mnot\u001b[0m \u001b[0mkwsyntax\u001b[0m\u001b[0;34m:\u001b[0m\u001b[0;34m\u001b[0m\u001b[0;34m\u001b[0m\u001b[0m\n\u001b[1;32m    231\u001b[0m                 \u001b[0margs\u001b[0m\u001b[0;34m,\u001b[0m \u001b[0mkw\u001b[0m \u001b[0;34m=\u001b[0m \u001b[0mfix\u001b[0m\u001b[0;34m(\u001b[0m\u001b[0margs\u001b[0m\u001b[0;34m,\u001b[0m \u001b[0mkw\u001b[0m\u001b[0;34m,\u001b[0m \u001b[0msig\u001b[0m\u001b[0;34m)\u001b[0m\u001b[0;34m\u001b[0m\u001b[0;34m\u001b[0m\u001b[0m\n\u001b[0;32m--> 232\u001b[0;31m             \u001b[0;32mreturn\u001b[0m \u001b[0mcaller\u001b[0m\u001b[0;34m(\u001b[0m\u001b[0mfunc\u001b[0m\u001b[0;34m,\u001b[0m \u001b[0;34m*\u001b[0m\u001b[0;34m(\u001b[0m\u001b[0mextras\u001b[0m \u001b[0;34m+\u001b[0m \u001b[0margs\u001b[0m\u001b[0;34m)\u001b[0m\u001b[0;34m,\u001b[0m \u001b[0;34m**\u001b[0m\u001b[0mkw\u001b[0m\u001b[0;34m)\u001b[0m\u001b[0;34m\u001b[0m\u001b[0;34m\u001b[0m\u001b[0m\n\u001b[0m\u001b[1;32m    233\u001b[0m     \u001b[0mfun\u001b[0m\u001b[0;34m.\u001b[0m\u001b[0m__name__\u001b[0m \u001b[0;34m=\u001b[0m \u001b[0mfunc\u001b[0m\u001b[0;34m.\u001b[0m\u001b[0m__name__\u001b[0m\u001b[0;34m\u001b[0m\u001b[0;34m\u001b[0m\u001b[0m\n\u001b[1;32m    234\u001b[0m     \u001b[0mfun\u001b[0m\u001b[0;34m.\u001b[0m\u001b[0m__doc__\u001b[0m \u001b[0;34m=\u001b[0m \u001b[0mfunc\u001b[0m\u001b[0;34m.\u001b[0m\u001b[0m__doc__\u001b[0m\u001b[0;34m\u001b[0m\u001b[0;34m\u001b[0m\u001b[0m\n",
      "\u001b[0;32m/opt/conda/lib/python3.7/site-packages/IPython/core/magic.py\u001b[0m in \u001b[0;36m<lambda>\u001b[0;34m(f, *a, **k)\u001b[0m\n\u001b[1;32m    185\u001b[0m     \u001b[0;31m# but it's overkill for just that one bit of state.\u001b[0m\u001b[0;34m\u001b[0m\u001b[0;34m\u001b[0m\u001b[0;34m\u001b[0m\u001b[0m\n\u001b[1;32m    186\u001b[0m     \u001b[0;32mdef\u001b[0m \u001b[0mmagic_deco\u001b[0m\u001b[0;34m(\u001b[0m\u001b[0marg\u001b[0m\u001b[0;34m)\u001b[0m\u001b[0;34m:\u001b[0m\u001b[0;34m\u001b[0m\u001b[0;34m\u001b[0m\u001b[0m\n\u001b[0;32m--> 187\u001b[0;31m         \u001b[0mcall\u001b[0m \u001b[0;34m=\u001b[0m \u001b[0;32mlambda\u001b[0m \u001b[0mf\u001b[0m\u001b[0;34m,\u001b[0m \u001b[0;34m*\u001b[0m\u001b[0ma\u001b[0m\u001b[0;34m,\u001b[0m \u001b[0;34m**\u001b[0m\u001b[0mk\u001b[0m\u001b[0;34m:\u001b[0m \u001b[0mf\u001b[0m\u001b[0;34m(\u001b[0m\u001b[0;34m*\u001b[0m\u001b[0ma\u001b[0m\u001b[0;34m,\u001b[0m \u001b[0;34m**\u001b[0m\u001b[0mk\u001b[0m\u001b[0;34m)\u001b[0m\u001b[0;34m\u001b[0m\u001b[0;34m\u001b[0m\u001b[0m\n\u001b[0m\u001b[1;32m    188\u001b[0m \u001b[0;34m\u001b[0m\u001b[0m\n\u001b[1;32m    189\u001b[0m         \u001b[0;32mif\u001b[0m \u001b[0mcallable\u001b[0m\u001b[0;34m(\u001b[0m\u001b[0marg\u001b[0m\u001b[0;34m)\u001b[0m\u001b[0;34m:\u001b[0m\u001b[0;34m\u001b[0m\u001b[0;34m\u001b[0m\u001b[0m\n",
      "\u001b[0;32m~/.local/lib/python3.7/site-packages/rpy2/ipython/rmagic.py\u001b[0m in \u001b[0;36mR\u001b[0;34m(self, line, cell, local_ns)\u001b[0m\n\u001b[1;32m    976\u001b[0m             \u001b[0;32mif\u001b[0m \u001b[0;32mnot\u001b[0m \u001b[0me\u001b[0m\u001b[0;34m.\u001b[0m\u001b[0mstdout\u001b[0m\u001b[0;34m.\u001b[0m\u001b[0mendswith\u001b[0m\u001b[0;34m(\u001b[0m\u001b[0me\u001b[0m\u001b[0;34m.\u001b[0m\u001b[0merr\u001b[0m\u001b[0;34m)\u001b[0m\u001b[0;34m:\u001b[0m\u001b[0;34m\u001b[0m\u001b[0;34m\u001b[0m\u001b[0m\n\u001b[1;32m    977\u001b[0m                 \u001b[0mprint\u001b[0m\u001b[0;34m(\u001b[0m\u001b[0me\u001b[0m\u001b[0;34m.\u001b[0m\u001b[0merr\u001b[0m\u001b[0;34m)\u001b[0m\u001b[0;34m\u001b[0m\u001b[0;34m\u001b[0m\u001b[0m\n\u001b[0;32m--> 978\u001b[0;31m             \u001b[0;32mraise\u001b[0m \u001b[0me\u001b[0m\u001b[0;34m\u001b[0m\u001b[0;34m\u001b[0m\u001b[0m\n\u001b[0m\u001b[1;32m    979\u001b[0m         \u001b[0;32mfinally\u001b[0m\u001b[0;34m:\u001b[0m\u001b[0;34m\u001b[0m\u001b[0;34m\u001b[0m\u001b[0m\n\u001b[1;32m    980\u001b[0m             \u001b[0;32mif\u001b[0m \u001b[0mself\u001b[0m\u001b[0;34m.\u001b[0m\u001b[0mdevice\u001b[0m \u001b[0;32min\u001b[0m \u001b[0mDEVICES_STATIC\u001b[0m\u001b[0;34m:\u001b[0m\u001b[0;34m\u001b[0m\u001b[0;34m\u001b[0m\u001b[0m\n",
      "\u001b[0;32m~/.local/lib/python3.7/site-packages/rpy2/ipython/rmagic.py\u001b[0m in \u001b[0;36mR\u001b[0;34m(self, line, cell, local_ns)\u001b[0m\n\u001b[1;32m    941\u001b[0m                     \u001b[0mreturn_output\u001b[0m \u001b[0;34m=\u001b[0m \u001b[0;32mFalse\u001b[0m\u001b[0;34m\u001b[0m\u001b[0;34m\u001b[0m\u001b[0m\n\u001b[1;32m    942\u001b[0m             \u001b[0;32melse\u001b[0m\u001b[0;34m:\u001b[0m\u001b[0;34m\u001b[0m\u001b[0;34m\u001b[0m\u001b[0m\n\u001b[0;32m--> 943\u001b[0;31m                 \u001b[0mtext_result\u001b[0m\u001b[0;34m,\u001b[0m \u001b[0mresult\u001b[0m\u001b[0;34m,\u001b[0m \u001b[0mvisible\u001b[0m \u001b[0;34m=\u001b[0m \u001b[0mself\u001b[0m\u001b[0;34m.\u001b[0m\u001b[0meval\u001b[0m\u001b[0;34m(\u001b[0m\u001b[0mcode\u001b[0m\u001b[0;34m)\u001b[0m\u001b[0;34m\u001b[0m\u001b[0;34m\u001b[0m\u001b[0m\n\u001b[0m\u001b[1;32m    944\u001b[0m                 \u001b[0mtext_output\u001b[0m \u001b[0;34m+=\u001b[0m \u001b[0mtext_result\u001b[0m\u001b[0;34m\u001b[0m\u001b[0;34m\u001b[0m\u001b[0m\n\u001b[1;32m    945\u001b[0m                 \u001b[0;32mif\u001b[0m \u001b[0mvisible\u001b[0m\u001b[0;34m:\u001b[0m\u001b[0;34m\u001b[0m\u001b[0;34m\u001b[0m\u001b[0m\n",
      "\u001b[0;32m~/.local/lib/python3.7/site-packages/rpy2/ipython/rmagic.py\u001b[0m in \u001b[0;36meval\u001b[0;34m(self, code)\u001b[0m\n\u001b[1;32m    406\u001b[0m                 \u001b[0mwarning_or_other_msg\u001b[0m \u001b[0;34m=\u001b[0m \u001b[0mself\u001b[0m\u001b[0;34m.\u001b[0m\u001b[0mflush\u001b[0m\u001b[0;34m(\u001b[0m\u001b[0;34m)\u001b[0m\u001b[0;34m\u001b[0m\u001b[0;34m\u001b[0m\u001b[0m\n\u001b[1;32m    407\u001b[0m                 raise RInterpreterError(code, str(exception),\n\u001b[0;32m--> 408\u001b[0;31m                                         warning_or_other_msg)\n\u001b[0m\u001b[1;32m    409\u001b[0m             \u001b[0;32mfinally\u001b[0m\u001b[0;34m:\u001b[0m\u001b[0;34m\u001b[0m\u001b[0;34m\u001b[0m\u001b[0m\n\u001b[1;32m    410\u001b[0m                 \u001b[0mro\u001b[0m\u001b[0;34m.\u001b[0m\u001b[0m_print_deferred_warnings\u001b[0m\u001b[0;34m(\u001b[0m\u001b[0;34m)\u001b[0m\u001b[0;34m\u001b[0m\u001b[0;34m\u001b[0m\u001b[0m\n",
      "\u001b[0;31mRInterpreterError\u001b[0m: Failed to parse and evaluate line 'setwd(\\'/home/jupyter/PP2A_GP2/\\')\\nlibrary(data.table)\\nPP2A_het_casos_129147457_AFR <- fread(\"PP2A_het_casos_129147457_AFR.csv\", header =T)\\nPP2A_het_casos_129147457_AFR\\ntemp <- merge(covs, PP2A_het_casos_129147457_AFR, by=\"IID\")\\nhead(temp)\\nwrite.table(temp, file = \"PP2A_het_casos_129147457_AFR_extracted.txt\", quote = F, row.names = F, sep = \"\\\\t\")\\nPP2A_het_casos_129147457_AFR_extracted <- fread(\"PP2A_het_casos_129147457_AFR_extracted.txt\", header =T)\\nPP2A_het_casos_129147457_AFR_extracted\\n'.\nR error message: 'Error in fread(\"PP2A_het_casos_129147457_AFR.csv\", header = T) : \\n  File \\'PP2A_het_casos_129147457_AFR.csv\\' does not exist or is non-readable. getwd()==\\'/home/jupyter/PP2A_GP2\\''"
     ]
    }
   ],
   "source": [
    "%%R\n",
    "setwd('/home/jupyter/PP2A_GP2/')\n",
    "library(data.table)\n",
    "PP2A_het_casos_129147457_AFR <- fread(\"PP2A_het_casos_129147457_AFR.csv\", header =T)\n",
    "PP2A_het_casos_129147457_AFR\n",
    "temp <- merge(covs, PP2A_het_casos_129147457_AFR, by=\"IID\")\n",
    "head(temp)\n",
    "write.table(temp, file = \"PP2A_het_casos_129147457_AFR_extracted.txt\", quote = F, row.names = F, sep = \"\\t\")\n",
    "PP2A_het_casos_129147457_AFR_extracted <- fread(\"PP2A_het_casos_129147457_AFR_extracted.txt\", header =T)\n",
    "PP2A_het_casos_129147457_AFR_extracted"
   ]
  },
  {
   "cell_type": "code",
   "execution_count": 97,
   "metadata": {
    "collapsed": true
   },
   "outputs": [
    {
     "name": "stdout",
     "output_type": "stream",
     "text": [
      "                 IID          GP2ID manifest_id phenotype pheno_for_qc\n",
      "1: CORIELL_007419_s1 CORIELL_007419          m6   Control            1\n",
      "2: CORIELL_007879_s1 CORIELL_007879          m6   Control            1\n",
      "3: CORIELL_007922_s1 CORIELL_007922          m6   Control            1\n",
      "4: CORIELL_007950_s1 CORIELL_007950          m6   Control            1\n",
      "5: CORIELL_008214_s1 CORIELL_008214          m6   Control            1\n",
      "6: CORIELL_008406_s1 CORIELL_008406          m6   Control            1\n",
      "   other_pheno sex_for_qc age age_of_onset age_at_diagnosis age_at_death\n",
      "1:     Control          2  74           NA               NA           NA\n",
      "2:     Control          2  68           NA               NA           NA\n",
      "3:     Control          2  60           NA               NA           NA\n",
      "4:     Control          2  73           NA               NA           NA\n",
      "5:     Control          2  64           NA               NA           NA\n",
      "6:     Control          2  66           NA               NA           NA\n",
      "                 race_for_qc family_history_for_qc region_for_qc   study pruned\n",
      "1: Black or African American          Not Reported           USA CORIELL      0\n",
      "2: Black or African American          Not Reported           USA CORIELL      0\n",
      "3: Black or African American          Not Reported           USA CORIELL      0\n",
      "4: Black or African American          Not Reported           USA CORIELL      0\n",
      "5: Black or African American                    No           USA CORIELL      0\n",
      "6: Black or African American                    No           USA CORIELL      0\n",
      "   pruned_reason label related  V1 FID PAT MAT SEX PHENOTYPE\n",
      "1:            NA   AFR      NA 152   0   0   0   2         1\n",
      "2:            NA   AFR      NA 246   0   0   0   2         1\n",
      "3:            NA   AFR      NA 253   0   0   0   2         1\n",
      "4:            NA   AFR      NA 258   0   0   0   2         1\n",
      "5:            NA   AFR      NA 317   0   0   0   2         1\n",
      "6:            NA   AFR      NA 357   0   0   0   2         1\n",
      "   chr9:129134882:A:C_C chr9:129147457:C:T_T\n",
      "1:                    0                    1\n",
      "2:                    0                    1\n",
      "3:                    0                    1\n",
      "4:                    0                    1\n",
      "5:                    0                    1\n",
      "6:                    0                    1\n"
     ]
    }
   ],
   "source": [
    "%%R\n",
    "setwd('/home/jupyter/PP2A_GP2/')\n",
    "library(data.table)\n",
    "PP2A_het_controles_129147457_AFR <- fread(\"PP2A_het_controles_129147457_AFR.csv\", header =T)\n",
    "PP2A_het_controles_129147457_AFR\n",
    "temp <- merge(covs, PP2A_het_controles_129147457_AFR, by=\"IID\")\n",
    "head(temp)\n",
    "write.table(temp, file = \"PP2A_het_controles_129147457_AFR_extracted.txt\", quote = F, row.names = F, sep = \"\\t\")\n",
    "PP2A_het_controles_129147457_AFR_extracted <- fread(\"PP2A_het_controles_129147457_AFR_extracted.txt\", header =T)\n",
    "PP2A_het_controles_129147457_AFR_extracted"
   ]
  },
  {
   "cell_type": "code",
   "execution_count": 86,
   "metadata": {
    "collapsed": true
   },
   "outputs": [
    {
     "data": {
      "text/html": [
       "<div>\n",
       "<style scoped>\n",
       "    .dataframe tbody tr th:only-of-type {\n",
       "        vertical-align: middle;\n",
       "    }\n",
       "\n",
       "    .dataframe tbody tr th {\n",
       "        vertical-align: top;\n",
       "    }\n",
       "\n",
       "    .dataframe thead th {\n",
       "        text-align: right;\n",
       "    }\n",
       "</style>\n",
       "<table border=\"1\" class=\"dataframe\">\n",
       "  <thead>\n",
       "    <tr style=\"text-align: right;\">\n",
       "      <th></th>\n",
       "      <th>FID</th>\n",
       "      <th>IID</th>\n",
       "      <th>PAT</th>\n",
       "      <th>MAT</th>\n",
       "      <th>SEX</th>\n",
       "      <th>PHENOTYPE</th>\n",
       "      <th>chr9:129134882:A:C_C</th>\n",
       "      <th>chr9:129147457:C:T_T</th>\n",
       "    </tr>\n",
       "  </thead>\n",
       "  <tbody>\n",
       "    <tr>\n",
       "      <th>82</th>\n",
       "      <td>0</td>\n",
       "      <td>CORIELL_005817_s1</td>\n",
       "      <td>0</td>\n",
       "      <td>0</td>\n",
       "      <td>1</td>\n",
       "      <td>1</td>\n",
       "      <td>1.0</td>\n",
       "      <td>0.0</td>\n",
       "    </tr>\n",
       "    <tr>\n",
       "      <th>139</th>\n",
       "      <td>0</td>\n",
       "      <td>CORIELL_007374_s1</td>\n",
       "      <td>0</td>\n",
       "      <td>0</td>\n",
       "      <td>1</td>\n",
       "      <td>1</td>\n",
       "      <td>1.0</td>\n",
       "      <td>0.0</td>\n",
       "    </tr>\n",
       "    <tr>\n",
       "      <th>301</th>\n",
       "      <td>0</td>\n",
       "      <td>CORIELL_008140_s1</td>\n",
       "      <td>0</td>\n",
       "      <td>0</td>\n",
       "      <td>1</td>\n",
       "      <td>1</td>\n",
       "      <td>1.0</td>\n",
       "      <td>0.0</td>\n",
       "    </tr>\n",
       "  </tbody>\n",
       "</table>\n",
       "</div>"
      ],
      "text/plain": [
       "     FID                IID  PAT  MAT  SEX  PHENOTYPE  chr9:129134882:A:C_C  \\\n",
       "82     0  CORIELL_005817_s1    0    0    1          1                   1.0   \n",
       "139    0  CORIELL_007374_s1    0    0    1          1                   1.0   \n",
       "301    0  CORIELL_008140_s1    0    0    1          1                   1.0   \n",
       "\n",
       "     chr9:129147457:C:T_T  \n",
       "82                    0.0  \n",
       "139                   0.0  \n",
       "301                   0.0  "
      ]
     },
     "execution_count": 86,
     "metadata": {},
     "output_type": "execute_result"
    }
   ],
   "source": [
    "# Explore HETs for chr9:129134882:A:C_C in controls\n",
    "PP2A_het_controles_129134882_AFR = PP2A_AFR_recode[(PP2A_AFR_recode['chr9:129134882:A:C_C'] == 1) & (PP2A_AFR_recode['PHENOTYPE'] == 1)]\n",
    "PP2A_het_controles_129134882_AFR"
   ]
  },
  {
   "cell_type": "code",
   "execution_count": 87,
   "metadata": {
    "collapsed": true
   },
   "outputs": [],
   "source": [
    "PP2A_het_controles_129134882_AFR.to_csv('PP2A_het_controles_129134882_AFR.csv')"
   ]
  },
  {
   "cell_type": "code",
   "execution_count": 88,
   "metadata": {
    "collapsed": true
   },
   "outputs": [
    {
     "data": {
      "text/html": [
       "<div>\n",
       "<style scoped>\n",
       "    .dataframe tbody tr th:only-of-type {\n",
       "        vertical-align: middle;\n",
       "    }\n",
       "\n",
       "    .dataframe tbody tr th {\n",
       "        vertical-align: top;\n",
       "    }\n",
       "\n",
       "    .dataframe thead th {\n",
       "        text-align: right;\n",
       "    }\n",
       "</style>\n",
       "<table border=\"1\" class=\"dataframe\">\n",
       "  <thead>\n",
       "    <tr style=\"text-align: right;\">\n",
       "      <th></th>\n",
       "      <th>Unnamed: 0</th>\n",
       "      <th>FID</th>\n",
       "      <th>IID</th>\n",
       "      <th>PAT</th>\n",
       "      <th>MAT</th>\n",
       "      <th>SEX</th>\n",
       "      <th>PHENOTYPE</th>\n",
       "      <th>chr9:129134882:A:C_C</th>\n",
       "      <th>chr9:129147457:C:T_T</th>\n",
       "    </tr>\n",
       "  </thead>\n",
       "  <tbody>\n",
       "    <tr>\n",
       "      <th>0</th>\n",
       "      <td>82</td>\n",
       "      <td>0</td>\n",
       "      <td>CORIELL_005817_s1</td>\n",
       "      <td>0</td>\n",
       "      <td>0</td>\n",
       "      <td>1</td>\n",
       "      <td>1</td>\n",
       "      <td>1.0</td>\n",
       "      <td>0.0</td>\n",
       "    </tr>\n",
       "    <tr>\n",
       "      <th>1</th>\n",
       "      <td>139</td>\n",
       "      <td>0</td>\n",
       "      <td>CORIELL_007374_s1</td>\n",
       "      <td>0</td>\n",
       "      <td>0</td>\n",
       "      <td>1</td>\n",
       "      <td>1</td>\n",
       "      <td>1.0</td>\n",
       "      <td>0.0</td>\n",
       "    </tr>\n",
       "    <tr>\n",
       "      <th>2</th>\n",
       "      <td>301</td>\n",
       "      <td>0</td>\n",
       "      <td>CORIELL_008140_s1</td>\n",
       "      <td>0</td>\n",
       "      <td>0</td>\n",
       "      <td>1</td>\n",
       "      <td>1</td>\n",
       "      <td>1.0</td>\n",
       "      <td>0.0</td>\n",
       "    </tr>\n",
       "  </tbody>\n",
       "</table>\n",
       "</div>"
      ],
      "text/plain": [
       "   Unnamed: 0  FID                IID  PAT  MAT  SEX  PHENOTYPE  \\\n",
       "0          82    0  CORIELL_005817_s1    0    0    1          1   \n",
       "1         139    0  CORIELL_007374_s1    0    0    1          1   \n",
       "2         301    0  CORIELL_008140_s1    0    0    1          1   \n",
       "\n",
       "   chr9:129134882:A:C_C  chr9:129147457:C:T_T  \n",
       "0                   1.0                   0.0  \n",
       "1                   1.0                   0.0  \n",
       "2                   1.0                   0.0  "
      ]
     },
     "execution_count": 88,
     "metadata": {},
     "output_type": "execute_result"
    }
   ],
   "source": [
    "temp = pd.read_csv('PP2A_het_controles_129134882_AFR.csv')\n",
    "temp"
   ]
  },
  {
   "cell_type": "code",
   "execution_count": 89,
   "metadata": {
    "collapsed": true
   },
   "outputs": [
    {
     "name": "stdout",
     "output_type": "stream",
     "text": [
      "                 IID          GP2ID manifest_id phenotype pheno_for_qc\n",
      "1: CORIELL_005817_s1 CORIELL_005817          m6   Control            1\n",
      "2: CORIELL_007374_s1 CORIELL_007374          m6   Control            1\n",
      "3: CORIELL_008140_s1 CORIELL_008140          m6   Control            1\n",
      "   other_pheno sex_for_qc age age_of_onset age_at_diagnosis age_at_death\n",
      "1:     Control          1  69           NA               NA           NA\n",
      "2:     Control          1  59           NA               NA           NA\n",
      "3:     Control          1  62           NA               NA           NA\n",
      "                 race_for_qc family_history_for_qc region_for_qc   study pruned\n",
      "1: Black or African American                    No           USA CORIELL      0\n",
      "2: Black or African American          Not Reported           USA CORIELL      0\n",
      "3: Black or African American                    No           USA CORIELL      0\n",
      "   pruned_reason label related  V1 FID PAT MAT SEX PHENOTYPE\n",
      "1:            NA   AFR      NA  82   0   0   0   1         1\n",
      "2:            NA   AFR      NA 139   0   0   0   1         1\n",
      "3:            NA   AFR      NA 301   0   0   0   1         1\n",
      "   chr9:129134882:A:C_C chr9:129147457:C:T_T\n",
      "1:                    1                    0\n",
      "2:                    1                    0\n",
      "3:                    1                    0\n"
     ]
    }
   ],
   "source": [
    "%%R\n",
    "setwd('/home/jupyter/PP2A_GP2/')\n",
    "library(data.table)\n",
    "PP2A_het_controles_129134882_AFR <- fread(\"PP2A_het_controles_129134882_AFR.csv\", header =T)\n",
    "PP2A_het_controles_129134882_AFR\n",
    "temp <- merge(covs, PP2A_het_controles_129134882_AFR, by=\"IID\")\n",
    "head(temp)\n",
    "write.table(temp, file = \"PP2A_het_controles_129134882_AFR_extracted.txt\", quote = F, row.names = F, sep = \"\\t\")\n",
    "PP2A_het_controles_129134882_AFR_extracted <- fread(\"PP2A_het_controles_129134882_AFR_extracted.txt\", header =T)\n",
    "PP2A_het_controles_129134882_AFR_extracted"
   ]
  },
  {
   "cell_type": "markdown",
   "metadata": {},
   "source": [
    "## Save out results..!"
   ]
  },
  {
   "cell_type": "code",
   "execution_count": 90,
   "metadata": {
    "collapsed": true
   },
   "outputs": [
    {
     "name": "stderr",
     "output_type": "stream",
     "text": [
      "Executing: gsutil -mu terra-02e7cd23 cp -r /home/jupyter/PP2A_GP2/ gs://fc-a2382a6f-59cf-4cf3-b70e-8cd83806d5e0\n"
     ]
    },
    {
     "name": "stdout",
     "output_type": "stream",
     "text": [
      "Copying file:///home/jupyter/PP2A_GP2/reduced_coding_nonsynonymous.txt [Content-Type=text/plain]...\n",
      "Copying file:///home/jupyter/PP2A_GP2/pheno_PP2A_CAS.log [Content-Type=application/octet-stream]...\n",
      "Copying file:///home/jupyter/PP2A_GP2/PP2A_het_controles_129147457_EUR_extracted.txt [Content-Type=text/plain]...\n",
      "Copying file:///home/jupyter/PP2A_GP2/coding_nonsynonymous_AJ_rare_0.05.log [Content-Type=application/octet-stream]...\n",
      "Copying file:///home/jupyter/PP2A_GP2/pheno_PP2A_AFR.fam [Content-Type=application/octet-stream]...\n",
      "Copying file:///home/jupyter/PP2A_GP2/pheno_PP2A_AAC.vcf.gz.tbi [Content-Type=application/octet-stream]...\n",
      "Copying file:///home/jupyter/PP2A_GP2/pheno_PP2A_EAS.log [Content-Type=application/octet-stream]...\n",
      "Copying file:///home/jupyter/PP2A_GP2/coding_nonsynonymous_AAC_rare_0.05.bed [Content-Type=application/octet-stream]...\n",
      "Copying file:///home/jupyter/PP2A_GP2/pheno_PP2A.vcf [Content-Type=text/vcard]...\n",
      "Copying file:///home/jupyter/PP2A_GP2/pheno_PP2A.annovar.hg38_multianno.txt [Content-Type=text/plain]...\n",
      "Copying file:///home/jupyter/PP2A_GP2/reduced_coding_nonsynonymous_AFR.txt [Content-Type=text/plain]...\n",
      "Copying file:///home/jupyter/PP2A_GP2/pheno_PP2A_AJ.annovar.avinput [Content-Type=application/octet-stream]...\n",
      "Copying file:///home/jupyter/PP2A_GP2/reduced_coding_nonsynonymous_AMR.txt [Content-Type=text/plain]...\n",
      "Copying file:///home/jupyter/PP2A_GP2/pheno_PP2A_AMR.vcf.gz [Content-Type=text/vcard]...\n",
      "Copying file:///home/jupyter/PP2A_GP2/PP2A_het_casos_129129094_AJ_extracted.txt [Content-Type=text/plain]...\n",
      "Copying file:///home/jupyter/PP2A_GP2/coding_nonsynonymous_pheno_PP2A_AAC.raw [Content-Type=application/octet-stream]...\n",
      "Copying file:///home/jupyter/PP2A_GP2/coding_nonsynonymous_rare_0.05.fam [Content-Type=application/octet-stream]...\n",
      "Copying file:///home/jupyter/PP2A_GP2/pheno_PP2A_MDE.fam [Content-Type=application/octet-stream]...\n",
      "Copying file:///home/jupyter/PP2A_GP2/pheno_PP2A_SAS.vcf [Content-Type=text/vcard]...\n",
      "Copying file:///home/jupyter/PP2A_GP2/pheno_PP2A_MDE.bim [Content-Type=application/octet-stream]...\n",
      "Copying file:///home/jupyter/PP2A_GP2/chr9_AAC_release3.log [Content-Type=application/octet-stream]...\n",
      "Copying file:///home/jupyter/PP2A_GP2/PP2A_het_controles_129147457_AJ_extracted.txt [Content-Type=text/plain]...\n",
      "Copying file:///home/jupyter/PP2A_GP2/PP2A_hom_casos_129147457_AJ.csv [Content-Type=text/csv]...\n",
      "Copying file:///home/jupyter/PP2A_GP2/coding_nonsynonymous_AJ_rare_0.05.bed [Content-Type=application/octet-stream]...\n",
      "Copying file:///home/jupyter/PP2A_GP2/pheno_PP2A_ACC.log [Content-Type=application/octet-stream]...\n",
      "Copying file:///home/jupyter/PP2A_GP2/pheno_PP2A_CAS.bed [Content-Type=application/octet-stream]...\n",
      "Copying file:///home/jupyter/PP2A_GP2/PP2A_het_casos_129129094_AJ.csv [Content-Type=text/csv]...\n",
      "Copying file:///home/jupyter/PP2A_GP2/chr9_CAS_release3.pvar [Content-Type=application/octet-stream]...\n",
      "Copying file:///home/jupyter/PP2A_GP2/coding_nonsynonymous_SAS_rare_0.05.log [Content-Type=application/octet-stream]...\n",
      "Copying file:///home/jupyter/PP2A_GP2/pheno_PP2A_AFR.vcf.gz.tbi [Content-Type=application/octet-stream]...\n",
      "Copying file:///home/jupyter/PP2A_GP2/pheno_PP2A_AFR.bim [Content-Type=application/octet-stream]...\n",
      "Copying file:///home/jupyter/PP2A_GP2/pheno_PP2A_CAS.vcf.gz.tbi [Content-Type=application/octet-stream]...\n",
      "Copying file:///home/jupyter/PP2A_GP2/pheno_PP2A_SAS.bim [Content-Type=application/octet-stream]...\n",
      "Copying file:///home/jupyter/PP2A_GP2/pheno_PP2A_CAS.vcf.gz [Content-Type=text/vcard]...\n",
      "Copying file:///home/jupyter/PP2A_GP2/pheno_PP2A_AJ.bed [Content-Type=application/octet-stream]...\n",
      "Copying file:///home/jupyter/PP2A_GP2/pheno_PP2A_MDE.bed [Content-Type=application/octet-stream]...\n",
      "Copying file:///home/jupyter/PP2A_GP2/pheno_PP2A_EUR.vcf [Content-Type=text/vcard]...\n",
      "Copying file:///home/jupyter/PP2A_GP2/coding_nonsynonymous_pheno_PP2A_EAS.assoc.adjusted [Content-Type=application/octet-stream]...\n",
      "Copying file:///home/jupyter/PP2A_GP2/coding_nonsynonymous_AJ_rare_0.05.fam [Content-Type=application/octet-stream]...\n",
      "Copying file:///home/jupyter/PP2A_GP2/chr9_AJ_release3.pvar [Content-Type=application/octet-stream]...\n",
      "Copying file:///home/jupyter/PP2A_GP2/coding_nonsynonymous_AMR_rare_0.05.log [Content-Type=application/octet-stream]...\n",
      "Copying file:///home/jupyter/PP2A_GP2/chr9_AJ_release3.log [Content-Type=application/octet-stream]...\n",
      "Copying file:///home/jupyter/PP2A_GP2/pheno_PP2A_MDE.annovar.avinput [Content-Type=application/octet-stream]...\n",
      "Copying file:///home/jupyter/PP2A_GP2/chr9_CAS_release3.log [Content-Type=application/octet-stream]...\n",
      "Copying file:///home/jupyter/PP2A_GP2/chr9_AAC_release3.psam [Content-Type=application/octet-stream]...\n",
      "Copying file:///home/jupyter/PP2A_GP2/pheno_PP2A_AMR.annovar.hg38_multianno.txt [Content-Type=text/plain]...\n",
      "Copying file:///home/jupyter/PP2A_GP2/pheno_PP2A_AJ.fam [Content-Type=application/octet-stream]...\n",
      "Copying file:///home/jupyter/PP2A_GP2/PP2A_het_casos_129147457_AJ_extracted.txt [Content-Type=text/plain]...\n",
      "Copying file:///home/jupyter/PP2A_GP2/pheno_PP2A_AAC.annovar.avinput [Content-Type=application/octet-stream]...\n",
      "Copying file:///home/jupyter/PP2A_GP2/PP2A_hom_casos_129147457_AJ_extracted.txt [Content-Type=text/plain]...\n",
      "Copying file:///home/jupyter/PP2A_GP2/reduced_coding_nonsynonymous_AJ.txt [Content-Type=text/plain]...\n",
      "Copying file:///home/jupyter/PP2A_GP2/coding_nonsynonymous_AFR_rare_0.05.fam [Content-Type=application/octet-stream]...\n",
      "Copying file:///home/jupyter/PP2A_GP2/coding_nonsynonymous_pheno_PP2A_AJ.assoc [Content-Type=application/octet-stream]...\n",
      "Copying file:///home/jupyter/PP2A_GP2/pheno_PP2A.annovar.hg38_multianno.vcf [Content-Type=text/vcard]...\n",
      "Copying file:///home/jupyter/PP2A_GP2/pheno_PP2A_AFR.annovar.hg38_multianno.txt [Content-Type=text/plain]...\n",
      "Copying file:///home/jupyter/PP2A_GP2/pheno_PP2A_AFR.log [Content-Type=application/octet-stream]...\n",
      "Copying file:///home/jupyter/PP2A_GP2/pheno_PP2A_AFR.annovar.avinput [Content-Type=application/octet-stream]...\n",
      "Copying file:///home/jupyter/PP2A_GP2/pheno_PP2A_EAS.vcf.gz [Content-Type=text/vcard]...\n",
      "Copying file:///home/jupyter/PP2A_GP2/chr9_EAS_release3.log [Content-Type=application/octet-stream]...\n",
      "Copying file:///home/jupyter/PP2A_GP2/coding_nonsynonymous_pheno_PP2A_AJ.log [Content-Type=application/octet-stream]...\n",
      "Copying file:///home/jupyter/PP2A_GP2/pheno_PP2A_MDE.annovar.hg38_multianno.vcf [Content-Type=text/vcard]...\n",
      "Copying file:///home/jupyter/PP2A_GP2/PP2A_het_129147457_casos_EUR.csv [Content-Type=text/csv]...\n",
      "Copying file:///home/jupyter/PP2A_GP2/chr9_AMR_release3.log [Content-Type=application/octet-stream]...\n",
      "Copying file:///home/jupyter/PP2A_GP2/chr9_AFR_release3.pvar [Content-Type=application/octet-stream]...\n",
      "Copying file:///home/jupyter/PP2A_GP2/reduced_coding_nonsynonymous_CAS.txt [Content-Type=text/plain]...\n",
      "Copying file:///home/jupyter/PP2A_GP2/chr9_EUR_release3.pvar [Content-Type=application/octet-stream]...\n",
      "Copying file:///home/jupyter/PP2A_GP2/chr9_MDE_release3.pvar [Content-Type=application/octet-stream]...\n",
      "Copying file:///home/jupyter/PP2A_GP2/coding_nonsynonymous_pheno_PP2A_SAS.raw [Content-Type=application/octet-stream]...\n",
      "Copying file:///home/jupyter/PP2A_GP2/pheno_PP2A_AMR.bim [Content-Type=application/octet-stream]...\n",
      "Copying file:///home/jupyter/PP2A_GP2/PP2A_het_casos_129147457_AFR_extracted.txt [Content-Type=text/plain]...\n",
      "Copying file:///home/jupyter/PP2A_GP2/pheno_PP2A_SAS.vcf.gz [Content-Type=text/vcard]...\n",
      "Copying file:///home/jupyter/PP2A_GP2/PP2A_het_casos_129147457_AAC_extracted.txt [Content-Type=text/plain]...\n",
      "Copying file:///home/jupyter/PP2A_GP2/coding_nonsynonymous_AMR_rare_0.05.fam [Content-Type=application/octet-stream]...\n",
      "Copying file:///home/jupyter/PP2A_GP2/pheno_PP2A_AAC.bim [Content-Type=application/octet-stream]...\n",
      "Copying file:///home/jupyter/PP2A_GP2/pheno_PP2A_EUR.bed [Content-Type=application/octet-stream]...\n",
      "Copying file:///home/jupyter/PP2A_GP2/chr9_AMR_release3.pvar [Content-Type=application/octet-stream]...\n",
      "Copying file:///home/jupyter/PP2A_GP2/pheno_PP2A_AJ.vcf.gz [Content-Type=text/vcard]...\n",
      "Copying file:///home/jupyter/PP2A_GP2/pheno_PP2A.fam [Content-Type=application/octet-stream]...\n",
      "Copying file:///home/jupyter/PP2A_GP2/coding_nonsynonymous_AFR_rare_0.05.bed [Content-Type=application/octet-stream]...\n",
      "Copying file:///home/jupyter/PP2A_GP2/coding_nonsynonymous_pheno_PP2A_AFR.raw [Content-Type=application/octet-stream]...\n",
      "Copying file:///home/jupyter/PP2A_GP2/coding_nonsynonymous_AFR_rare_0.05.bim [Content-Type=application/octet-stream]...\n",
      "Copying file:///home/jupyter/PP2A_GP2/chr9_AJ_release3.pgen [Content-Type=application/octet-stream]...\n",
      "==> NOTE: You are uploading one or more large file(s), which would run          \n",
      "significantly faster if you enable parallel composite uploads. This\n",
      "feature can be enabled by editing the\n",
      "\"parallel_composite_upload_threshold\" value in your .boto\n",
      "configuration file. However, note that if you do this large files will\n",
      "be uploaded as `composite objects\n",
      "<https://cloud.google.com/storage/docs/composite-objects>`_,which\n",
      "means that any user who downloads such objects will need to have a\n",
      "compiled crcmod installed (see \"gsutil help crcmod\"). This is because\n",
      "without a compiled crcmod, computing checksums on composite objects is\n",
      "so slow that gsutil disables downloads of composite objects.\n",
      "\n",
      "Copying file:///home/jupyter/PP2A_GP2/master_key_release3_final.csv [Content-Type=text/csv]...\n",
      "Copying file:///home/jupyter/PP2A_GP2/coding_nonsynonymous_pheno_PP2A_CAS.log [Content-Type=application/octet-stream]...\n",
      "Copying file:///home/jupyter/PP2A_GP2/coding_nonsynonymous_CAS_rare_0.05.log [Content-Type=application/octet-stream]...\n",
      "Copying file:///home/jupyter/PP2A_GP2/pheno_PP2A_MDE.annovar.hg38_multianno.txt [Content-Type=text/plain]...\n",
      "Copying file:///home/jupyter/PP2A_GP2/chr9_MDE_release3.psam [Content-Type=application/octet-stream]...\n",
      "Copying file:///home/jupyter/PP2A_GP2/PP2A_het_controles_129147457_AFR.csv [Content-Type=text/csv]...\n",
      "Copying file:///home/jupyter/PP2A_GP2/coding_nonsynonymous_pheno_PP2A_AFR.assoc [Content-Type=application/octet-stream]...\n",
      "Copying file:///home/jupyter/PP2A_GP2/pheno_PP2A_EAS.annovar.hg38_multianno.vcf [Content-Type=text/vcard]...\n",
      "Copying file:///home/jupyter/PP2A_GP2/coding_nonsynonymous_pheno_PP2A_AAC.assoc [Content-Type=application/octet-stream]...\n",
      "Copying file:///home/jupyter/PP2A_GP2/pheno_PP2A_CAS.annovar.avinput [Content-Type=application/octet-stream]...\n",
      "Copying file:///home/jupyter/PP2A_GP2/pheno_PP2A_CAS.annovar.hg38_multianno.txt [Content-Type=text/plain]...\n",
      "Copying file:///home/jupyter/PP2A_GP2/chr9_AFR_release3.log [Content-Type=application/octet-stream]...\n",
      "Copying file:///home/jupyter/PP2A_GP2/coding_nonsynonymous_pheno_PP2A_MDE.log [Content-Type=application/octet-stream]...\n",
      "Copying file:///home/jupyter/PP2A_GP2/pheno_PP2A_AMR.annovar.avinput [Content-Type=application/octet-stream]...\n",
      "Copying file:///home/jupyter/PP2A_GP2/coding_nonsynonymous_pheno_PP2A_AMR.log [Content-Type=application/octet-stream]...\n",
      "Copying file:///home/jupyter/PP2A_GP2/reduced_coding_nonsynonymous_EAS.txt [Content-Type=text/plain]...\n",
      "Copying file:///home/jupyter/PP2A_GP2/pheno_PP2A_AAC.bed [Content-Type=application/octet-stream]...\n",
      "Copying file:///home/jupyter/PP2A_GP2/coding_nonsynonymous_pheno_PP2A_SAS.log [Content-Type=application/octet-stream]...\n",
      "Copying file:///home/jupyter/PP2A_GP2/chr9_EAS_release3.psam [Content-Type=application/octet-stream]...\n",
      "Copying file:///home/jupyter/PP2A_GP2/chr9_SAS_release3.pvar [Content-Type=application/octet-stream]...\n",
      "Copying file:///home/jupyter/PP2A_GP2/coding_nonsynonymous_pheno_PP2A_SAS.assoc.adjusted [Content-Type=application/octet-stream]...\n",
      "Copying file:///home/jupyter/PP2A_GP2/coding_nonsynonymous_AFR_rare_0.05.log [Content-Type=application/octet-stream]...\n",
      "Copying file:///home/jupyter/PP2A_GP2/pheno_PP2A_AAC.fam [Content-Type=application/octet-stream]...\n",
      "Copying file:///home/jupyter/PP2A_GP2/pheno_PP2A_AAC.vcf.gz [Content-Type=text/vcard]...\n",
      "Copying file:///home/jupyter/PP2A_GP2/pheno_PP2A_EUR.bim [Content-Type=application/octet-stream]...\n",
      "Copying file:///home/jupyter/PP2A_GP2/pheno_PP2A_CAS.bim [Content-Type=application/octet-stream]...\n",
      "Copying file:///home/jupyter/PP2A_GP2/pheno_PP2A_AMR.bed [Content-Type=application/octet-stream]...\n",
      "Copying file:///home/jupyter/PP2A_GP2/coding_nonsynonymous_AAC_rare_0.05.fam [Content-Type=application/octet-stream]...\n",
      "Copying file:///home/jupyter/PP2A_GP2/coding_nonsynonymous_AAC_rare_0.05.bim [Content-Type=application/octet-stream]...\n",
      "Copying file:///home/jupyter/PP2A_GP2/coding_nonsynonymous_AAC_rare_0.05.log [Content-Type=application/octet-stream]...\n",
      "Copying file:///home/jupyter/PP2A_GP2/pheno_PP2A_CAS.fam [Content-Type=application/octet-stream]...\n",
      "Copying file:///home/jupyter/PP2A_GP2/pheno_PP2A.bed [Content-Type=application/octet-stream]...\n",
      "Copying file:///home/jupyter/PP2A_GP2/pheno_PP2A_AMR.fam [Content-Type=application/octet-stream]...\n",
      "Copying file:///home/jupyter/PP2A_GP2/coding_nonsynonymous_pheno_PP2A_CAS.raw [Content-Type=application/octet-stream]...\n",
      "Copying file:///home/jupyter/PP2A_GP2/PP2A_het_controles_129147457_AFR_extracted.txt [Content-Type=text/plain]...\n",
      "Copying file:///home/jupyter/PP2A_GP2/pheno_PP2A_EAS.annovar.hg38_multianno.txt [Content-Type=text/plain]...\n",
      "Copying file:///home/jupyter/PP2A_GP2/PP2A_het_casos_129147457_AJ.csv [Content-Type=text/csv]...\n",
      "Copying file:///home/jupyter/PP2A_GP2/pheno_PP2A_SAS.vcf.gz.tbi [Content-Type=application/octet-stream]...\n",
      "Copying file:///home/jupyter/PP2A_GP2/pheno_PP2A_AMR.annovar.hg38_multianno.vcf [Content-Type=text/vcard]...\n",
      "Copying file:///home/jupyter/PP2A_GP2/coding_nonsynonymous_rare_0.05.bim [Content-Type=application/octet-stream]...\n",
      "Copying file:///home/jupyter/PP2A_GP2/chr9_AFR_release3.psam [Content-Type=application/octet-stream]...\n",
      "Copying file:///home/jupyter/PP2A_GP2/coding_nonsynonymous_pheno_PODXL.log [Content-Type=application/octet-stream]...\n",
      "Copying file:///home/jupyter/PP2A_GP2/pheno_PP2A_EAS.fam [Content-Type=application/octet-stream]...\n",
      "Copying file:///home/jupyter/PP2A_GP2/PP2A_het_controles_129134882_AFR.csv [Content-Type=text/csv]...\n",
      "Copying file:///home/jupyter/PP2A_GP2/pheno_PP2A.log [Content-Type=application/octet-stream]...\n",
      "Copying file:///home/jupyter/PP2A_GP2/chr9_SAS_release3.psam [Content-Type=application/octet-stream]...\n",
      "Copying file:///home/jupyter/PP2A_GP2/coding_nonsynonymous_rare_0.05.bed [Content-Type=application/octet-stream]...\n",
      "Copying file:///home/jupyter/PP2A_GP2/coding_nonsynonymous_pheno_PP2A_EAS.raw [Content-Type=application/octet-stream]...\n",
      "Copying file:///home/jupyter/PP2A_GP2/coding_nonsynonymous_pheno_PP2A_AMR.assoc.adjusted [Content-Type=application/octet-stream]...\n",
      "Copying file:///home/jupyter/PP2A_GP2/chr9_AJ_release3.psam [Content-Type=application/octet-stream]...\n",
      "Copying file:///home/jupyter/PP2A_GP2/pheno_PP2A_AJ.annovar.hg38_multianno.txt [Content-Type=text/plain]...\n",
      "Copying file:///home/jupyter/PP2A_GP2/SEX.txt [Content-Type=text/plain]...\n",
      "Copying file:///home/jupyter/PP2A_GP2/chr9_CAS_release3.psam [Content-Type=application/octet-stream]...\n",
      "Copying file:///home/jupyter/PP2A_GP2/coding_nonsynonymous_pheno_PP2A_AMR.raw [Content-Type=application/octet-stream]...\n",
      "Copying file:///home/jupyter/PP2A_GP2/chr9_CAS_release3.pgen [Content-Type=application/octet-stream]...\n",
      "Copying file:///home/jupyter/PP2A_GP2/coding_nonsynonymous_pheno_PP2A_SAS.assoc [Content-Type=application/octet-stream]...\n",
      "Copying file:///home/jupyter/PP2A_GP2/pheno_PP2A_MDE.vcf [Content-Type=text/vcard]...\n",
      "Copying file:///home/jupyter/PP2A_GP2/chr9_EUR_release3.log [Content-Type=application/octet-stream]...\n",
      "Copying file:///home/jupyter/PP2A_GP2/chr9_EAS_release3.pgen [Content-Type=application/octet-stream]...\n",
      "Copying file:///home/jupyter/PP2A_GP2/coding_nonsynonymous_AMR_rare_0.05.bim [Content-Type=application/octet-stream]...\n",
      "Copying file:///home/jupyter/PP2A_GP2/coding_nonsynonymous_pheno_PP2A_AFR.assoc.adjusted [Content-Type=application/octet-stream]...\n",
      "Copying file:///home/jupyter/PP2A_GP2/pheno_PP2A_CAS.annovar.hg38_multianno.vcf [Content-Type=text/vcard]...\n",
      "Copying file:///home/jupyter/PP2A_GP2/PP2A_het_controles_129147457_AAC.csv [Content-Type=text/csv]...\n",
      "Copying file:///home/jupyter/PP2A_GP2/coding_nonsynonymous_pheno_PP2A_AFR.log [Content-Type=application/octet-stream]...\n",
      "Copying file:///home/jupyter/PP2A_GP2/coding_nonsynonymous_pheno_PP2A_AJ.assoc.adjusted [Content-Type=application/octet-stream]...\n",
      "Copying file:///home/jupyter/PP2A_GP2/pheno_PP2A_AFR.vcf [Content-Type=text/vcard]...\n",
      "Copying file:///home/jupyter/PP2A_GP2/pheno_PP2A_EAS.vcf.gz.tbi [Content-Type=application/octet-stream]...\n",
      "Copying file:///home/jupyter/PP2A_GP2/pheno_PP2A_EAS.annovar.avinput [Content-Type=application/octet-stream]...\n",
      "Copying file:///home/jupyter/PP2A_GP2/pheno_PP2A_AJ.vcf [Content-Type=text/vcard]...\n",
      "Copying file:///home/jupyter/PP2A_GP2/pheno_PP2A_AJ.bim [Content-Type=application/octet-stream]...\n",
      "Copying file:///home/jupyter/PP2A_GP2/pheno_PP2A_AMR.log [Content-Type=application/octet-stream]...\n",
      "Copying file:///home/jupyter/PP2A_GP2/pheno_PP2A.vcf.gz [Content-Type=text/vcard]...\n",
      "Copying file:///home/jupyter/PP2A_GP2/coding_nonsynonymous_pheno_PP2A_AMR.assoc [Content-Type=application/octet-stream]...\n",
      "Copying file:///home/jupyter/PP2A_GP2/PP2A_het_129147457_controles_EUR.csv [Content-Type=text/csv]...\n",
      "Copying file:///home/jupyter/PP2A_GP2/coding_nonsynonymous_pheno_PP2A_EAS.log [Content-Type=application/octet-stream]...\n",
      "Copying file:///home/jupyter/PP2A_GP2/chr9_SAS_release3.log [Content-Type=application/octet-stream]...\n",
      "Copying file:///home/jupyter/PP2A_GP2/reduced_coding_nonsynonymous_MDE.txt [Content-Type=text/plain]...\n",
      "Copying file:///home/jupyter/PP2A_GP2/coding_nonsynonymous_pheno_PP2A_CAS.assoc [Content-Type=application/octet-stream]...\n",
      "Copying file:///home/jupyter/PP2A_GP2/PHENO.txt [Content-Type=text/plain]...\n",
      "Copying file:///home/jupyter/PP2A_GP2/PTPA_het_129147457_controles_extracted.txt [Content-Type=text/plain]...\n",
      "Copying file:///home/jupyter/PP2A_GP2/PP2A_het_casos_129147457_AAC.csv [Content-Type=text/csv]...\n",
      "Copying file:///home/jupyter/PP2A_GP2/pheno_PP2A_AMR.vcf [Content-Type=text/vcard]...\n",
      "Copying file:///home/jupyter/PP2A_GP2/pheno_PP2A_MDE.vcf.gz [Content-Type=text/vcard]...\n",
      "Copying file:///home/jupyter/PP2A_GP2/chr9_AAC_release3.pgen [Content-Type=application/octet-stream]...\n",
      "Copying file:///home/jupyter/PP2A_GP2/pheno_PP2A_AAC.log [Content-Type=application/octet-stream]...\n",
      "Copying file:///home/jupyter/PP2A_GP2/pheno_PP2A_EAS.bed [Content-Type=application/octet-stream]...\n",
      "Copying file:///home/jupyter/PP2A_GP2/coding_nonsynonymous_pheno_PP2A.assoc [Content-Type=application/octet-stream]...\n",
      "Copying file:///home/jupyter/PP2A_GP2/coding_nonsynonymous_pheno_PP2A.log [Content-Type=application/octet-stream]...\n",
      "Copying file:///home/jupyter/PP2A_GP2/pheno_PP2A_AAC.vcf [Content-Type=text/vcard]...\n",
      "Copying file:///home/jupyter/PP2A_GP2/pheno_PP2A_CAS.vcf [Content-Type=text/vcard]...\n",
      "Copying file:///home/jupyter/PP2A_GP2/PP2A_het_controles_129134882_AAC.csv [Content-Type=text/csv]...\n",
      "Copying file:///home/jupyter/PP2A_GP2/pheno_PP2A_AFR.bed [Content-Type=application/octet-stream]...\n",
      "Copying file:///home/jupyter/PP2A_GP2/pheno_PP2A.vcf.gz.tbi [Content-Type=application/octet-stream]...\n",
      "Copying file:///home/jupyter/PP2A_GP2/coding_nonsynonymous_MDE_rare_0.05.log [Content-Type=application/octet-stream]...\n",
      "Copying file:///home/jupyter/PP2A_GP2/coding_nonsynonymous_pheno_PP2A_AAC.assoc.adjusted [Content-Type=application/octet-stream]...\n",
      "Copying file:///home/jupyter/PP2A_GP2/pheno_PP2A_EAS.bim [Content-Type=application/octet-stream]...\n",
      "Copying file:///home/jupyter/PP2A_GP2/chr9_EAS_release3.pvar [Content-Type=application/octet-stream]...\n",
      "Copying file:///home/jupyter/PP2A_GP2/pheno_PP2A_AJ.annovar.hg38_multianno.vcf [Content-Type=text/vcard]...\n",
      "Copying file:///home/jupyter/PP2A_GP2/pheno_PP2A_AFR.vcf.gz [Content-Type=text/vcard]...\n",
      "Copying file:///home/jupyter/PP2A_GP2/pheno_PP2A_MDE.log [Content-Type=application/octet-stream]...\n",
      "Copying file:///home/jupyter/PP2A_GP2/coding_nonsynonymous_pheno_PP2A_AJ.raw [Content-Type=application/octet-stream]...\n",
      "Copying file:///home/jupyter/PP2A_GP2/pheno_PP2A_MDE.vcf.gz.tbi [Content-Type=application/octet-stream]...\n",
      "Copying file:///home/jupyter/PP2A_GP2/pheno_PP2A_SAS.log [Content-Type=application/octet-stream]...\n",
      "Copying file:///home/jupyter/PP2A_GP2/PP2A_het_controles_129129094_AJ.csv [Content-Type=text/csv]...\n",
      "Copying file:///home/jupyter/PP2A_GP2/PP2A_het_casos_129147457_EUR.csv [Content-Type=text/csv]...\n",
      "Copying file:///home/jupyter/PP2A_GP2/pheno_PP2A_EUR.log [Content-Type=application/octet-stream]...\n",
      "Copying file:///home/jupyter/PP2A_GP2/pheno_PP2A_EUR.fam [Content-Type=application/octet-stream]...\n",
      "Copying file:///home/jupyter/PP2A_GP2/pheno_PP2A_AJ.log [Content-Type=application/octet-stream]...\n",
      "Copying file:///home/jupyter/PP2A_GP2/GP2_AJ_comphet.txt [Content-Type=text/plain]...\n",
      "Copying file:///home/jupyter/PP2A_GP2/pheno_PP2A_SAS.bed [Content-Type=application/octet-stream]...\n",
      "Copying file:///home/jupyter/PP2A_GP2/pheno_PP2A_AMR.vcf.gz.tbi [Content-Type=application/octet-stream]...\n",
      "Copying file:///home/jupyter/PP2A_GP2/chr9_MDE_release3.log [Content-Type=application/octet-stream]...\n",
      "Copying file:///home/jupyter/PP2A_GP2/pheno_PP2A_SAS.annovar.hg38_multianno.txt [Content-Type=text/plain]...\n",
      "Copying file:///home/jupyter/PP2A_GP2/pheno_PP2A_SAS.fam [Content-Type=application/octet-stream]...\n",
      "Copying file:///home/jupyter/PP2A_GP2/GP2_AMR_comphet.txt [Content-Type=text/plain]...\n",
      "Copying file:///home/jupyter/PP2A_GP2/chr9_EUR_release3.psam [Content-Type=application/octet-stream]...\n",
      "Copying file:///home/jupyter/PP2A_GP2/PP2A_het_controles_129147457_EUR.csv [Content-Type=text/csv]...\n",
      "Copying file:///home/jupyter/PP2A_GP2/pheno_PP2A_SAS.annovar.hg38_multianno.vcf [Content-Type=text/vcard]...\n",
      "Copying file:///home/jupyter/PP2A_GP2/PP2A_het_controles_129147457_AJ.csv [Content-Type=text/csv]...\n",
      "Copying file:///home/jupyter/PP2A_GP2/chr9_AFR_release3.pgen [Content-Type=application/octet-stream]...\n",
      "Copying file:///home/jupyter/PP2A_GP2/pheno_PP2A_AFR.annovar.hg38_multianno.vcf [Content-Type=text/vcard]...\n",
      "Copying file:///home/jupyter/PP2A_GP2/pheno_PP2A_AAC.annovar.hg38_multianno.txt [Content-Type=text/plain]...\n",
      "Copying file:///home/jupyter/PP2A_GP2/chr9_MDE_release3.pgen [Content-Type=application/octet-stream]...\n",
      "Copying file:///home/jupyter/PP2A_GP2/chr9_AMR_release3.pgen [Content-Type=application/octet-stream]...\n",
      "Copying file:///home/jupyter/PP2A_GP2/chr9_AMR_release3.psam [Content-Type=application/octet-stream]...\n",
      "Copying file:///home/jupyter/PP2A_GP2/coding_nonsynonymous.txt [Content-Type=text/plain]...\n",
      "Copying file:///home/jupyter/PP2A_GP2/coding_nonsynonymous_pheno_PP2A.raw [Content-Type=application/octet-stream]...\n",
      "Copying file:///home/jupyter/PP2A_GP2/PP2A_het_controles_129134882_AFR_extracted.txt [Content-Type=text/plain]...\n",
      "Copying file:///home/jupyter/PP2A_GP2/chr9_SAS_release3.pgen [Content-Type=application/octet-stream]...\n",
      "Copying file:///home/jupyter/PP2A_GP2/coding_nonsynonymous_pheno_PP2A_CAS.assoc.adjusted [Content-Type=application/octet-stream]...\n",
      "Copying file:///home/jupyter/PP2A_GP2/coding_nonsynonymous_pheno_PP2A.assoc.adjusted [Content-Type=application/octet-stream]...\n",
      "Copying file:///home/jupyter/PP2A_GP2/coding_nonsynonymous_AJ_rare_0.05.bim [Content-Type=application/octet-stream]...\n",
      "Copying file:///home/jupyter/PP2A_GP2/coding_nonsynonymous_pheno_PP2A_AAC.log [Content-Type=application/octet-stream]...\n",
      "Copying file:///home/jupyter/PP2A_GP2/coding_nonsynonymous_pheno_PODXL.assoc [Content-Type=application/octet-stream]...\n",
      "Copying file:///home/jupyter/PP2A_GP2/coding_nonsynonymous_pheno_PP2A_EAS.assoc [Content-Type=application/octet-stream]...\n",
      "Copying file:///home/jupyter/PP2A_GP2/pheno_PP2A.bim [Content-Type=application/octet-stream]...\n",
      "Copying file:///home/jupyter/PP2A_GP2/PP2A_het_controles_129147457_AAC_extracted.txt [Content-Type=text/plain]...\n",
      "Copying file:///home/jupyter/PP2A_GP2/chr9_EUR_release3.pgen [Content-Type=application/octet-stream]...\n",
      "Copying file:///home/jupyter/PP2A_GP2/pheno_PP2A.annovar.avinput [Content-Type=application/octet-stream]...\n",
      "Copying file:///home/jupyter/PP2A_GP2/coding_nonsynonymous_EAS_rare_0.05.log [Content-Type=application/octet-stream]...\n",
      "Copying file:///home/jupyter/PP2A_GP2/PP2A_het_controles_129134882_AAC_extracted.txt [Content-Type=text/plain]...\n",
      "Copying file:///home/jupyter/PP2A_GP2/pheno_PP2A_AAC.annovar.hg38_multianno.vcf [Content-Type=text/vcard]...\n",
      "Copying file:///home/jupyter/PP2A_GP2/pheno_PP2A_SAS.annovar.avinput [Content-Type=application/octet-stream]...\n",
      "Copying file:///home/jupyter/PP2A_GP2/pheno_PP2A_AJ.vcf.gz.tbi [Content-Type=application/octet-stream]...\n",
      "Copying file:///home/jupyter/PP2A_GP2/pheno_PP2A_EAS.vcf [Content-Type=text/vcard]...\n",
      "Copying file:///home/jupyter/PP2A_GP2/reduced_coding_nonsynonymous_SAS.txt [Content-Type=text/plain]...\n",
      "Copying file:///home/jupyter/PP2A_GP2/PP2A_het_casos_129147457_EUR_extracted.txt [Content-Type=text/plain]...\n",
      "Copying file:///home/jupyter/PP2A_GP2/coding_nonsynonymous_AMR_rare_0.05.bed [Content-Type=application/octet-stream]...\n",
      "Copying file:///home/jupyter/PP2A_GP2/coding_nonsynonymous_rare_0.05.log [Content-Type=application/octet-stream]...\n",
      "Copying file:///home/jupyter/PP2A_GP2/chr9_AAC_release3.pvar [Content-Type=application/octet-stream]...\n",
      "Copying file:///home/jupyter/PP2A_GP2/reduced_coding_nonsynonymous_AAC.txt [Content-Type=text/plain]...\n",
      "| [233/233 files][  6.1 GiB/  6.1 GiB] 100% Done     0.0 B/s                    \n",
      "Operation completed over 233 objects/6.1 GiB.                                    \n"
     ]
    }
   ],
   "source": [
    "shell_do(f'gsutil -mu {BILLING_PROJECT_ID} cp -r {WORK_DIR} {WORKSPACE_BUCKET}')"
   ]
  },
  {
   "cell_type": "code",
   "execution_count": null,
   "metadata": {
    "collapsed": true
   },
   "outputs": [],
   "source": []
  }
 ],
 "metadata": {
  "kernelspec": {
   "display_name": "Python 3",
   "language": "python",
   "name": "python3"
  },
  "language_info": {
   "codemirror_mode": {
    "name": "ipython",
    "version": 3
   },
   "file_extension": ".py",
   "mimetype": "text/x-python",
   "name": "python",
   "nbconvert_exporter": "python",
   "pygments_lexer": "ipython3",
   "version": "3.7.12"
  },
  "toc": {
   "base_numbering": 1,
   "nav_menu": {
    "height": "248.972px",
    "width": "263.062px"
   },
   "number_sections": true,
   "sideBar": true,
   "skip_h1_title": false,
   "title_cell": "Table of Contents",
   "title_sidebar": "Contents",
   "toc_cell": false,
   "toc_position": {
    "height": "calc(100% - 180px)",
    "left": "10px",
    "top": "150px",
    "width": "268.372px"
   },
   "toc_section_display": true,
   "toc_window_display": true
  }
 },
 "nbformat": 4,
 "nbformat_minor": 2
}
